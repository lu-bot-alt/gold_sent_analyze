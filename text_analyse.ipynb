{
 "cells": [
  {
   "cell_type": "markdown",
   "metadata": {},
   "source": [
    "现有CNRDS获取并筛选的四个数据库（上市公司/其他股吧，交易时间/自然日），虽然前期基于单个帖子的LLM情感分析被数据库替代了，但我们完全可以基于这些**聚合后的统计数据**进行更宏观、更深入的情绪分析和挖掘，并尝试结合一些前沿的概念或方法来增加研究的亮点。\n",
    "这是一个很好的机会，将**数据驱动的量化分析与对市场情绪的理解**结合起来。我们来制定一个渐进式深入的方案。\n",
    "\n",
    "**核心思路：**\n",
    "1. **数据整合与预处理**： 将四个数据集加载进来，*统一数据格式，特别是时间列*，并理解数据结构。\n",
    "2. **情感指标构建**： 利用已有的正面/负面/中性帖子数量，构建更综合的*情感指数*。\n",
    "3. **描述性统计与探索性分析 (EDA)**： 计算基本统计量，*初步可视化*，了解数据的整体分布和特征。\n",
    "4. **时间序列分析与可视化**： 重点分析**情感指数、发帖量、阅读/评论数**等指标随**时间**的变化趋势，进行对比分析。\n",
    "5. **关联性分析**： 探索情绪指标与黄金价格（需要外部数据）之间的相关性。\n",
    "\n",
    "6. **（亮点拓展）引入前沿概念/方法**：\n",
    "    - **注意力机制模拟**: 虽然不能直接用LLM分析原始文本，但可以模拟\"注意力\"概念，构建加权情感指数（考虑阅读数/评论数）。\n",
    "    - **市场关注度分析**: 利用帖子总量、阅读数、评论数作为市场对黄金或特定公司关注度的代理指标。\n",
    "    - **交易/非交易时段情绪差异**: 利用交易时间数据，分析开盘/盘中/收盘/非交易时段的情绪特征。\n",
    "    - **（可选）简单的时序预测模型**: 尝试用历史情绪指标预测未来情绪波动（注意：预测价格风险大且可能不准确，但可以作为方法展示）。\n",
    "    - **精美交互式可视化**: 使用 Plotly 等库创建可交互的图表。\n",
    "\n",
    "**数据文件假设:**\n",
    "假设你已经将这四个数据集分别保存为 CSV 文件：\n",
    "- other_guba_trading_time.csv （其他股吧帖子统计（交易时间））\n",
    "- other_guba_daily.csv （其他股吧帖子统计（自然日））\n",
    "- company_guba_trading_time.csv （上市公司股吧帖子统计（交易时间））\n",
    "- company_guba_daily.csv （上市公司股吧帖子统计（自然日））\n",
    "\n",
    "**详细步骤与代码实现**\n",
    "\n",
    "**第0步：环境设置与库安装**\n",
    "\n",
    "- 操作: 确保必要的库已安装。这次我们主要用到数据处理和可视化库，可能还需要统计库。\n",
    "- 代码:\n",
    "```bash\n",
    "pip install pandas numpy matplotlib seaborn statsmodels plotly kaleido # statsmodels 用于统计分析, plotly 用于交互式可视化, kaleido 用于导出plotly图像```\n",
    "# 确保你的字体设置依然有效\n"
   ]
  },
  {
   "cell_type": "markdown",
   "metadata": {},
   "source": [
    "**第1步：数据加载与预处理**\n",
    "- **操作**: 加载四个CSV文件，统一列名（去除中括号和说明），转换日期格式，筛选所需时间范围（2020年7-10月，2022年2-5月）。\n",
    "- **注释与依据**:\n",
    "    - **加载所有必要库**，特别是 `plotly` 用于交互式可视化。\n",
    "    - **统一列名**，去除说明文字，方便后续代码调用。特别修正了字段名不一致的问题。\n",
    "    - **健壮的日期转换**：由于你的数据片段中日期格式不完全一致（`/` 和 `-`），代码尝试了多种常见格式，并加入了自动推断作为后备，以及错误处理，提高了代码的鲁棒性。\n",
    "    - **时间段筛选**：根据你指定的研究时期（2020年7-10月，2022年2-5月）精确筛选数据，并为每个时期打上标签 (`Period`)，方便后续分组分析。\n",
    "    - **使用 `.copy()`**：在**筛选和添加列**时使用 `.copy()` 是一个好习惯，可以避免 Pandas 的`SettingWithCopyWarning`，确保*操作在副本上进行*。\n",
    "    输出预览和列名：帮助你确认数据加载和预处理是否符合预期。"
   ]
  },
  {
   "cell_type": "code",
   "execution_count": 11,
   "metadata": {},
   "outputs": [],
   "source": [
    "import pandas as pd\n",
    "import numpy as np\n",
    "import matplotlib.pyplot as plt\n",
    "import seaborn as sns\n",
    "import plotly.express as px # 用于交互式绘图\n",
    "import plotly.graph_objects as go # 更底层的Plotly绘图\n",
    "from plotly.subplots import make_subplots # 创建子图\n",
    "import statsmodels.api as sm # 用于统计分析，如相关性"
   ]
  },
  {
   "cell_type": "markdown",
   "metadata": {},
   "source": [
    "```py\n",
    "# 1.导入包\n",
    "import pandas as pd\n",
    "import numpy as np\n",
    "import matplotlib.pyplot as plt\n",
    "import seaborn as sns\n",
    "import plotly.express as px # 用于交互式绘图\n",
    "import plotly.graph_objects as go # 更底层的Plotly绘图\n",
    "from plotly.subplots import make_subplots # 创建子图\n",
    "# Plotly库中的三个模块，用于数据可视化。\n",
    "# `plotly.express as px`提供了一个高级接口，可以快速创建交互式图表；\n",
    "# `plotly.graph_objects as go`提供了更底层的绘图功能，允许更细致的控制图表的各个方面；\n",
    "# `from plotly.subplots import make_subplots`则用于创建包含多个子图的图表，以便在同一个画布上展示多个相关的数据可视化。\n",
    "import stasmodels.api as sm # 用于统计分析，如相关性\n",
    "\n",
    "# 设置plt中文和负号正确显示（使用matlibplot必须设置）\n",
    "plt.rcParams['font.sans-serif] = ['SimHei']\n",
    "plt.rcParams['axes.unicode_minus'] = False```\n",
    "\n",
    "# 这段代码是用于设置matplotlib（一个Python的绘图库）的字体和坐标轴显示的配置。\n",
    "# - `plt.rcParams['font.sans-serif'] = ['SimHei']` 这行代码的意思是设置matplotlib使用的中文字体为“SimHei”（黑体），这样在绘制图表时就可以正常显示中文标签和标题了。\n",
    "# - `plt.rcParams['axes.unicode_minus'] = False` 这行代码则是告诉matplotlib在显示坐标轴负号时使用正常的负号字符，而不是Unicode字符。这样设置后，绘制的图表在显示中文和负号时就不会出现乱码或不显示的问题。\n",
    "# - 这两行代码通常用于解决matplotlib在显示中文和负号时可能遇到的兼容性问题。\n",
    "\n",
    "```"
   ]
  },
  {
   "cell_type": "code",
   "execution_count": 12,
   "metadata": {},
   "outputs": [
    {
     "name": "stdout",
     "output_type": "stream",
     "text": [
      "已设置字体为 SimHei for Matplotlib\n"
     ]
    }
   ],
   "source": [
    "# --- 设置 Matplotlib 中文和坐标轴负号显示 (确保这个设置有效) ---\n",
    "try:\n",
    "    plt.rcParams['font.sans-serif'] = ['SimHei']\n",
    "    plt.rcParams['axes.unicode_minus'] = False\n",
    "    print(\"已设置字体为 SimHei for Matplotlib\")\n",
    "except Exception as e:\n",
    "    print(f\"设置 Matplotlib 字体失败: {e}\")\n",
    "\n"
   ]
  },
  {
   "cell_type": "code",
   "execution_count": 13,
   "metadata": {},
   "outputs": [],
   "source": [
    "# --- 文件路径 ---\n",
    "file_paths = {\n",
    "    'other_trading': 'other_guba_trading_time.csv',\n",
    "    'other_daily': 'other_guba_daily.csv',\n",
    "    'company_trading': 'company_guba_trading_time.csv',\n",
    "    'company_daily': 'company_guba_daily.csv'\n",
    "}"
   ]
  },
  {
   "cell_type": "code",
   "execution_count": 14,
   "metadata": {},
   "outputs": [],
   "source": [
    "# --- 定义列名清洗函数 ---\n",
    "def clean_col_names(df):\n",
    "    \"\"\"去除列名中的中括号及其内容\"\"\"\n",
    "    df.columns = df.columns.str.replace(r'\\[.*?\\]', '', regex=True)\n",
    "    # 修正字段说明中不一致的 Tradetm_dum -> Tradetime_Dum\n",
    "    if 'Tradetm_dum' in df.columns:\n",
    "         df.rename(columns={'Tradetm_dum': 'Tradetime_Dum'}, inplace=True)\n",
    "    return df"
   ]
  },
  {
   "cell_type": "code",
   "execution_count": null,
   "metadata": {},
   "outputs": [
    {
     "name": "stdout",
     "output_type": "stream",
     "text": [
      "文件 'other_guba_trading_time.csv' 的 'Date' 列成功按格式 '%Y/%m/%d' 转换。\n",
      "成功加载并初步处理文件: other_guba_trading_time.csv\n",
      "数据预览 (前3行):\n",
      "  Name       Date        Time Weektime  Tradetime_Dum  Tpostnum  Pospostnum  \\\n",
      "0  黄金吧 2020-01-01  15:00-9:00      星期三              0       165          41   \n",
      "1  黄金吧 2020-01-01  9:00-15:00      星期三              1        11           1   \n",
      "2  黄金吧 2020-01-02  15:00-9:00      星期四              0        33           6   \n",
      "\n",
      "   Negpostnum  Neupostnum  Readnum  Commentnum  \n",
      "0          29          95    65198         203  \n",
      "1           3           7     6010          22  \n",
      "2           4          23    17623          41  \n",
      "\n",
      "数据列名: ['Name', 'Date', 'Time', 'Weektime', 'Tradetime_Dum', 'Tpostnum', 'Pospostnum', 'Negpostnum', 'Neupostnum', 'Readnum', 'Commentnum']\n",
      "\n",
      "文件 'other_guba_daily.csv' 的 'Date' 列成功按格式 '%Y-%m-%d' 转换。\n",
      "成功加载并初步处理文件: other_guba_daily.csv\n",
      "数据预览 (前3行):\n",
      "    Name       Date  Tpostnum  Pospostnum  Negpostnum  Neupostnum  Readnum  \\\n",
      "0    黄金吧 2020-01-01        55          19           5          31    41548   \n",
      "1    黄金吧 2020-01-02       361         130          60         171    94250   \n",
      "2  黄金概念吧 2020-01-03         9           3           2           4     1520   \n",
      "\n",
      "   Commentnum  \n",
      "0          98  \n",
      "1         393  \n",
      "2           0  \n",
      "\n",
      "数据列名: ['Name', 'Date', 'Tpostnum', 'Pospostnum', 'Negpostnum', 'Neupostnum', 'Readnum', 'Commentnum']\n",
      "\n",
      "文件 'company_guba_trading_time.csv' 的 'Date' 列成功按格式 '%Y/%m/%d' 转换。\n",
      "成功加载并初步处理文件: company_guba_trading_time.csv\n",
      "数据预览 (前3行):\n",
      "   Scode Coname       Date        Time Weektime  Tradetime_Dum  Tpostnum  \\\n",
      "0    975   银泰黄金 2020-01-01  15:00-9:00      星期三              0        15   \n",
      "1    975   银泰黄金 2020-01-02  9:00-15:00      星期四              1        97   \n",
      "2    975   银泰黄金 2020-01-02  15:00-9:00      星期四              0        12   \n",
      "\n",
      "   Pospostnum  Negpostnum  Neupostnum  Readnum  Commentnum  \n",
      "0           6           3           6     9189          14  \n",
      "1          28          15          54    28098          74  \n",
      "2           3           0           9     8565          27  \n",
      "\n",
      "数据列名: ['Scode', 'Coname', 'Date', 'Time', 'Weektime', 'Tradetime_Dum', 'Tpostnum', 'Pospostnum', 'Negpostnum', 'Neupostnum', 'Readnum', 'Commentnum']\n",
      "\n",
      "文件 'company_guba_daily.csv' 的 'Date' 列成功按格式 '%Y-%m-%d' 转换。\n",
      "成功加载并初步处理文件: company_guba_daily.csv\n",
      "数据预览 (前3行):\n",
      "    Scode Coname       Date  Tpostnum  Pospostnum  Negpostnum  Neupostnum  \\\n",
      "0  600766   园城黄金 2020-01-01         8           2           0           6   \n",
      "1  600766   园城黄金 2020-01-02        34           9           5          20   \n",
      "2  600766   园城黄金 2020-01-03        61          18          14          29   \n",
      "\n",
      "   Readnum  Commentnum  \n",
      "0     6611           5  \n",
      "1    13349          22  \n",
      "2    25098          34  \n",
      "\n",
      "数据列名: ['Scode', 'Coname', 'Date', 'Tpostnum', 'Pospostnum', 'Negpostnum', 'Neupostnum', 'Readnum', 'Commentnum']\n",
      "\n"
     ]
    }
   ],
   "source": [
    "# --- 加载和初步处理数据 --- ==\n",
    "dfs = {}\n",
    "expected_date_formats = ['%Y/%m/%d', '%Y-%m-%d'] # 可能的日期格式列表\n",
    "\n",
    "for name, path in file_paths.items():\n",
    "    try:\n",
    "        df = pd.read_csv(path, encoding='utf-8') # 使用 utf-8-sig 读取带BOM的文件\n",
    "        df = clean_col_names(df)\n",
    "\n",
    "        # 尝试多种格式转换日期列 'Date'\n",
    "        converted = False\n",
    "        for fmt in expected_date_formats:\n",
    "            try:\n",
    "                df['Date'] = pd.to_datetime(df['Date'], format=fmt)\n",
    "                converted = True\n",
    "                print(f\"文件 '{path}' 的 'Date' 列成功按格式 '{fmt}' 转换。\")\n",
    "                break # 成功转换后跳出循环\n",
    "            except (ValueError, TypeError):\n",
    "                continue # 格式不匹配，尝试下一种\n",
    "        if not converted:\n",
    "            print(f\"警告：文件 '{path}' 的 'Date' 列未能按预期格式转换，将尝试自动推断。\")\n",
    "            try:\n",
    "                df['Date'] = pd.to_datetime(df['Date'])\n",
    "                print(f\"文件 '{path}' 的 'Date' 列成功自动推断格式。\")\n",
    "            except Exception as e:\n",
    "                print(f\"错误：文件 '{path}' 的 'Date' 列转换失败: {e}\")\n",
    "                # 可以选择跳过这个文件或停止\n",
    "                continue\n",
    "\n",
    "        # 统一转换为 YYYY-MM-DD 格式显示 (可选)\n",
    "        df['Date'] = df['Date'].dt.strftime('%Y-%m-%d')\n",
    "        df['Date'] = pd.to_datetime(df['Date']) # 转回datetime对象\n",
    "\n",
    "        dfs[name] = df\n",
    "        print(f\"成功加载并初步处理文件: {path}\")\n",
    "        print(f\"数据预览 (前3行):\\n{df.head(3)}\\n\")\n",
    "        print(f\"数据列名: {df.columns.tolist()}\\n\")\n",
    "        # # 尝试 GBK 编码\n",
    "        # try:\n",
    "        #     df = pd.read_csv(path, encoding='gbk') # 或者 'gb18030'，它是GBK的超集\n",
    "        #     df = clean_col_names(df)\n",
    "        #     # ... 后续日期处理 ...\n",
    "        #     dfs[name] = df\n",
    "        #     print(f\"成功使用 'gbk' 编码加载: {path}\")\n",
    "        #     continue # 加载成功就处理下一个文件\n",
    "        # except Exception as e_gbk:\n",
    "        #     print(f\"尝试 'gbk' 编码加载 '{path}' 失败: {e_gbk}\")\n",
    "        # # 如果 GBK 也失败，可能文件有问题或编码更特殊\n",
    "        # # 可以在这里加更多的编码尝试，或者标记为加载失败\n",
    "\n",
    "    except FileNotFoundError:\n",
    "        print(f\"错误：文件 '{path}' 未找到。请检查路径。\")\n",
    "    except Exception as e:\n",
    "        print(f\"加载或处理文件 '{path}' 时出错: {e}\")\n"
   ]
  },
  {
   "cell_type": "code",
   "execution_count": 16,
   "metadata": {},
   "outputs": [
    {
     "name": "stdout",
     "output_type": "stream",
     "text": [
      "已筛选 'other_trading' 数据集中感兴趣的时期。筛选后行数: 283\n",
      "已筛选 'other_daily' 数据集中感兴趣的时期。筛选后行数: 274\n",
      "已筛选 'company_trading' 数据集中感兴趣的时期。筛选后行数: 3055\n",
      "已筛选 'company_daily' 数据集中感兴趣的时期。筛选后行数: 1678\n"
     ]
    }
   ],
   "source": [
    "# --- 筛选感兴趣的时间段 ---\n",
    "# 定义核心研究时段\n",
    "periods_of_interest = {\n",
    "    '疫情期': ('2020-07-01', '2020-10-31'),\n",
    "    '俄乌冲突期': ('2022-02-01', '2022-05-31')\n",
    "}\n",
    "\n",
    "# 对每个 DataFrame 进行筛选\n",
    "dfs_filtered = {}\n",
    "for name, df in dfs.items():\n",
    "    df_period_list = []\n",
    "    for period_name, (start_date, end_date) in periods_of_interest.items():\n",
    "        mask = (df['Date'] >= start_date) & (df['Date'] <= end_date)\n",
    "        df_period = df[mask].copy() # 使用 .copy() 避免 SettingWithCopyWarning\n",
    "        df_period['Period'] = period_name # 添加时期标签\n",
    "        df_period_list.append(df_period)\n",
    "    if df_period_list:\n",
    "        dfs_filtered[name] = pd.concat(df_period_list)\n",
    "        print(f\"已筛选 '{name}' 数据集中感兴趣的时期。筛选后行数: {len(dfs_filtered[name])}\")\n",
    "    else:\n",
    "        print(f\"'{name}' 数据集中未找到感兴趣时期的数据。\")"
   ]
  },
  {
   "cell_type": "code",
   "execution_count": 17,
   "metadata": {},
   "outputs": [
    {
     "name": "stdout",
     "output_type": "stream",
     "text": [
      "\n",
      "筛选后 'company_daily' 数据预览:\n",
      "      Scode Coname       Date  Tpostnum  Pospostnum  Negpostnum  Neupostnum  \\\n",
      "179  600766   园城黄金 2020-07-01        58          12           5          41   \n",
      "180  600766   园城黄金 2020-07-02       122          22          29          71   \n",
      "181  600766   园城黄金 2020-07-03        99          23          15          61   \n",
      "182  600766   园城黄金 2020-07-04         7           4           0           3   \n",
      "183  600766   园城黄金 2020-07-05        10           3           3           4   \n",
      "\n",
      "     Readnum  Commentnum Period  \n",
      "179     9051          50    疫情期  \n",
      "180    18829         105    疫情期  \n",
      "181    16569          81    疫情期  \n",
      "182     1571           4    疫情期  \n",
      "183     1868           7    疫情期  \n",
      "\n",
      "筛选后 'company_daily' 时期分布:\n",
      "Period\n",
      "疫情期      849\n",
      "俄乌冲突期    829\n",
      "Name: count, dtype: int64\n"
     ]
    }
   ],
   "source": [
    "# --- 查看筛选后的数据结构 (示例) ---\n",
    "if 'company_daily' in dfs_filtered:\n",
    "    print(\"\\n筛选后 'company_daily' 数据预览:\")\n",
    "    print(dfs_filtered['company_daily'].head())\n",
    "    print(\"\\n筛选后 'company_daily' 时期分布:\")\n",
    "    print(dfs_filtered['company_daily']['Period'].value_counts())"
   ]
  },
  {
   "cell_type": "markdown",
   "metadata": {},
   "source": [
    "```py\n",
    "# 文件路径\n",
    "file_paths={\n",
    "    'other_trading':'other_guba_trading_time.csv',\n",
    "    'other_daily':'other_guba_daily.csv',\n",
    "    'company_trading':'company_guba_trading_time.csv'\n",
    "    'company_daily':'company_guba_daily.csv'\n",
    "}\n",
    "# 定义列名清洗函数（针对Tradetm_dum和Tradetime_Dum两个是否为交易时间的虚拟变量命名）\n",
    "def clean_col_names(df):\n",
    "    # \"\"\"去除列名中的中括号及其内容（对本整理数据多此一举）\"\"\"\n",
    "    # df.columns = df.columns.str.replace(r'\\[.*?\\]','', regex=True)\n",
    "    \n",
    "    # 修正字段说明中不一致的Tradetm_dum -> Tradetime_Dum（其他与上市公司股吧命名不同）\n",
    "    if 'Tradetm_dum' in df.columns:\n",
    "        df.rename(columes={'Tradetm_dum':'Tradetime_Dum'}，inplace=True)\n",
    "        # inplace=True 参数表示在原地修改数据框，即直接在原数据框上进行修改，而不返回一个新的数据框。\n",
    "    return df\n",
    "# 加载和初步处理数据\n",
    "dfs = {}\n",
    "expected_data_formats = ['%Y/%m/%d','%Y-%m-%d'] # 可能的日期格式列表\n",
    "\n",
    "for name, path in file_paths.items():\n",
    "    try:\n",
    "        df = pd.read.csv(path, encoding='utf-9-sig') # 使用 utf-8-sig 读取带BOM的文件\n",
    "        # 使用pandas库读取一个CSV文件，其中df是即将创建的DataFrame对象的变量名，pd.read_csv是pandas库中用于读取CSV文件的函数，path是CSV文件所在的路径。\n",
    "        # encoding='utf-8-sig'参数指定了文件的编码方式，这里使用的是utf-8-sig编码，它是一种变体的UTF-8编码，用于处理带有字节顺序标记（BOM）的UTF-8编码文件。\n",
    "        # BOM是一个特殊的字符，用于指示文件的编码方式，在某些情况下，如使用Windows系统的记事本保存UTF-8编码的文件时，会自动添加BOM。\n",
    "        # 使用utf-8-sig编码可以正确读取这类带BOM的文件，避免在读取过程中出现乱码等问题。\n",
    "        \n",
    "        # 尝试将多种格式转换日期列‘date’\n",
    "        converted = False\n",
    "        for fmt in expected_date_formats:\n",
    "            try:\n",
    "                df['Date'] = pd.to_datatime(df['Date']，format=fmt)\n",
    "                converted = True\n",
    "                print(f\"文件‘{path}’的‘Date’列成功按格式‘{fmt}’转换。\")\n",
    "\n",
    "                break # 成功转换后跳出循环\n",
    "            except (ValueError, TypeError)： \n",
    "            # ValueError 和 TypeError 是 Python 编程语言中常见的两种异常类型。这两种异常帮助开发者识别和解决代码中的类型和值相关错误。\n",
    "            # ValueError 通常在传递给函数的参数类型正确，但值不合适时抛出，比如尝试将字符串转换为整数时，字符串必须是数字形式，否则会引发 ValueError。\n",
    "            # 而 TypeError 则是在操作或函数应用于不适当类型的对象时抛出，例如尝试将整数和字符串相加，因为这两种类型不能进行加法运算，所以会引发 TypeError。\n",
    "\n",
    "                continue # 格式不匹配，尝试下一种\n",
    "        if not converted: \n",
    "            # \"If not converted\" 意思是“如果未被转换”或“如果转换未发生”。它表达了一个条件判断，即只有在某个对象、数据或状态没有经历转换过程的情况下，后续指定的操作或条件才会被执行或判断。\n",
    "            # 在数据处理中，可能需要检查某些数据是否已经从一种格式转换为另一种格式，如果还没有转换（即满足 \"if not converted\" 的条件），则可能需要执行相应的转换函数或提示错误。\n",
    "            # 非常直觉的表达 if not converted\n",
    "            print(f\"警告:文件‘{path}’的‘Date’列未能按预期格式转换，将尝试自动推断\")\n",
    "            try:\n",
    "                df['Date'] = pd.to_datetime(df['Date'])\n",
    "                print(f\"文件‘{path}’的‘Date’列成功自动推断格式。\")\n",
    "            except Exception as e:\n",
    "                # \"Python 编程语言中用于异常处理的语句。当程序运行过程中发生异常时，该语句能够捕获到这个异常，并将其存储在变量 e 中。\n",
    "                # 这样，开发者就可以通过 e 来获取异常的具体信息，并进行相应的错误处理或调试，从而提高程序的健壮性和可维护性。\n",
    "                # 简而言之，它用于捕获并处理程序中的错误。\n",
    "                print(f\"警告:文件‘{path}’的‘Date’列转换失败：{e}\")\n",
    "\n",
    "                # 可以选择跳过这个文件或停止\n",
    "                continue # break\n",
    "        \n",
    "        # 统一变换为 YYYY-MM-DD 格式显示（可选）\n",
    "        # df['Date'] = df['Date'].dt.strftime('%Y-%m-%d')\n",
    "        # df['Date'] = pd.to_datetime(df['Date']) 转回datatime对象\n",
    "            # 将DataFrame中的'Date'列的日期格式转换为字符串格式，然后再转回日期时间对象。首先，\n",
    "            # df['Date'] = df['Date'].dt.strftime('%Y-%m-%d') 将'Date'列的日期时间对象转换为格式为\"年-月-日\"的字符串，例如\"2023-01-01\"。\n",
    "            # 然后，df['Date'] = pd.to_datetime(df['Date'])，可以再将这些字符串转换回日期时间对象，以便进行日期时间相关的操作和分析。\n",
    "        \n",
    "\n",
    "        dfs[name] = df\n",
    "        # dfs 是一个字典（dictionary），name 是一个键（key），而 df 是一个值（value）。\n",
    "        # 这行代码的作用是将键 name 与值 df 关联起来，并将这个键值对存储在字典 dfs 中。\n",
    "        # 这种操作在数据处理和存储中非常常见，通常用于将某个数据结构（如DataFrame）以特定的名称存储在字典中，以便后续通过名称快速访问和管理。\n",
    "        print(f'成功加载并初步处理文件：{path}')\n",
    "        print(f'数据预览（前3行）：\\n{df.head(3)}\\n')\n",
    "        print(f'数据列名：{df.columns.tolist()}\\n')\n",
    "    except FileNotFoundError:\n",
    "        print(f\"错误：文件'{path}'未找到。请检查路径。\")\n",
    "    except Exception as e:\n",
    "        print(f\"加载或处理文件‘{path}’时出错：{e}')\n",
    "\n",
    "# 筛选感兴趣的时间段\n",
    "\n",
    "# 定义核心研究实践段\n",
    "periods_of_interest ={\n",
    "    '疫情期': ('2020-07-01','2020-10-31'),\n",
    "    '俄乌冲突期'：('2022-02-01','2022-05-31')\n",
    "}\n",
    "\n",
    "# 对每个DataFrame 进行筛选\n",
    "dfs_filtered = {} \n",
    "# 从一系列数据框（dfs）中筛选出特定时间段内的数据，并将这些筛选后的数据存储在新的字典dfs_filtered中。\n",
    "# 目的：遍历一个包含多个数据框（DataFrame）的字典dfs，并对每个数据框根据感兴趣的时间段进行筛选。具体来说，对于dfs中的每个数据框df，代码会创建一个空列表df_period_list用于存储筛选后的数据。接着，代码会遍历另一个字典periods_of_interest，该字典包含时间段的名字和对应的起始日期和结束日期。对于每个时间段，代码会创建一个布尔掩码mask，用于标识df中那些日期在指定时间段内的行。然后，使用这个掩码从df中筛选出符合条件的数据行，并复制到新的数据框df_period中。这个过程会重复进行，直到所有感兴趣的时间段都被处理完毕。\n",
    "for name, df in dfs.items():\n",
    "    df_period_list = []\n",
    "    for period_name, (start_date,end_date) in periods_of_interest.items():\n",
    "        mask = (df['Date'])>= start_date & (df['Date'])<= end_date) \n",
    "        # 创建一个布尔掩码（mask）来筛选出符合时间条件的数据行\n",
    "        df_period = df[mask].copy() \n",
    "        # 为了避免在后续操作中引发SettingWithCopyWarning警告，使用.copy()方法创建了一个数据框的副本（df_period），并在该副本中添加了一个表示时间段的标签列（Period）。\n",
    "        df_period['Period'] = period_name # 添加时期标签\n",
    "        df_period_list.append(df_period)\n",
    "    if df_period_list；\n",
    "        dfs_filtered[name] = pd.concat(df_period_list) \n",
    "        # 数据表的合并：将一个名为df_period_list的列表中的所有DataFrame对象通过pd.concat()函数进行合并，并将合并后的DataFrame赋值给名为dfs_filtered的字典中的name键。\n",
    "        # 简单来说，就是将多个数据表格合并成一个，然后存储在特定名称的字典条目中。\n",
    "        print(f\"已筛选‘{name}’ 数据集中感兴趣的时期。筛选后行数：{len(dfs_filtered[name])}\")\n",
    "    else:\n",
    "        print(f\"'{name}'数据集中未找到感兴趣时期的数据。\")\n",
    "    # 最后，将所有筛选后的数据框片段（df_period_list）合并成一个数据框，并按原始数据框的名称（name）存储在dfs_filtered字典中。如果df_period_list为空，即没有符合条件的数据，则不会执行合并操作，因此dfs_filtered中可能不会包含对应name的键。\n",
    "\n",
    "# 查看筛选后数据结构（示例）\n",
    "if 'company_daily' in dfs_filtered:\n",
    "    print('\\n筛选后‘company_daily’数据预览：')\n",
    "    print(dfs_filtered['company_daily'].head())\n",
    "    print('\\n筛选后‘company_daily’时间分布：')\n",
    "    print(dfs_filtered['company_daily']['Period'].value_counts())\n",
    "\n",
    "\n",
    "```"
   ]
  },
  {
   "cell_type": "markdown",
   "metadata": {},
   "source": [
    "**第2步：构建情感指数 (Sentiment Index)**\n",
    "- 操作: 利用 `Pospostnum` 和 `Negpostnum` 计算一个或多个情感指数。常用的指数包括：\n",
    "**情感净值 (Sentiment Net Value)**: `Pospostnum` - `Negpostnum` (简单直观)\n",
    "**情感比率 (Sentiment Ratio):** (`Pospostnum` - `Negpostnum`) / (`Pospostnum` + `Negpostnum`) (值域-1到1，处理了分母为0的情况,可以考虑更复杂的`SI`公式)\n",
    "**看涨看跌比率 (Bull-Bear Ratio):** `Pospostnum` / `Negpostnum` (注意处理分母为0的情况)\n",
    "**标准化情感指数 (Standardized Sentiment):** 对*情感净值或比率进行标准化（减均值除以标准差）*，便于跨股吧或跨时间比较。\n",
    "\n",
    "- 注释与依据:\n",
    "    - 提供多种情感指数计算方法，各有优劣。**`Sent_Ratio` 通常比较常用**，因为它标准化到了 [-1, 1] 区间。\n",
    "    - **处理除零错误:** 在计算比率时，分母可能为零（没有正面和负面帖子，或没有负面帖子）。代码通过**添加一个极小的数 `epsilon` 来避免直接除以零，并通过 `loc` 定位特殊情况进行赋值**，保证计算的稳健性。\n",
    "    - `clip(-1, 1)`: 确保情感比率严格在 [-1, 1] 区间内。\n",
    "    - 将计算逻辑封装成函数，方便对多个 DataFrame 应用。"
   ]
  },
  {
   "cell_type": "markdown",
   "metadata": {},
   "source": [
    "```py\n",
    "def calculate_sentiment_indices(df):\n",
    "    '''计算各种情感指数'''\n",
    "    # 处理分母为0的情况，避免除零错误\n",
    "    epsilon = 1e-6 #一个很小的数据\n",
    "    \n",
    "    # 情感净值\n",
    "    df['Sent_NetValue'] = df['Pospostnum'] - df['Negpostnum']\n",
    "    # 情感比率（-1到1）\n",
    "    denominator_ratio = df['Pospostnum'] + df['Negpostnum']\n",
    "    df['Sent_Ratio'] = (df['Pospostnum'] - df['Negpostnum'])/(denominator_ratio + epsilon)\n",
    "    # 可以限制在[-1,1]区间内，虽然理论上不会超出\n",
    "    df['Sent_Ratio'] =  df['Sent_Ratio'].clip(-1,1)\n",
    "    \n",
    "    # 看涨看跌比率 (可能非常大或为0)\n",
    "    denominator_bullbear = df['Negpostnum']\n",
    "    df['Sent_BullBear'] = df['Pospostnum'] / (denominator_bullbear + epsilon)\n",
    "    # 对于分母为0，分子也为0的情况，设为1（中性）；分母为0，分子>0,设为一个较大的数或NaN\n",
    "    df.loc[(df['Pospostnum'] == 0) & (df['Negpostnum'] == 0), 'Sent_Bullbear'] = 1.0 \n",
    "    # 找到所有满足Pospostnum列值为0且Negpostnum列值也为0的行，然后将这些行的Sent_Bullbear列的值设置为1.0。\n",
    "    df.loc[(df['Pospostnum'] == 0) & (df['Negpostnum'] > 0), 'Sent_Bullbear'] = np.inf  # 或设为某个大数，e.g., 999\n",
    "\n",
    "    print(\"已计算 Sent_NetValue,Sent_Ratio,Sent_bullBear 指数。\")\n",
    "    return df\n",
    "\n",
    "# 对筛选后所有DataFrame应用计算\n",
    "for name in dfs_filtered.keys():\n",
    "    print(f\"\\n计算‘{name}’数据集的情感指数...\")\n",
    "    dfs_filtered[name] = calculate_sentiment_indices(dfs_filtered[name])\n",
    "\n",
    "# 查看带有情感指数的数据(示例)\n",
    "if 'company_daily' in dfs_filtered:\n",
    "    print('\\n带有情感指数的‘company_daily’数据预览：')\n",
    "    print(dfs_filtered['company_daily'][['Date','Coname','Period','Pospostnum', 'Negpostnum', 'Sent_NetValue', 'Sent_Ratio', 'Sent_BullBear']]).head()\n",
    "```"
   ]
  },
  {
   "cell_type": "code",
   "execution_count": 18,
   "metadata": {},
   "outputs": [
    {
     "name": "stdout",
     "output_type": "stream",
     "text": [
      "\n",
      "--- 开始构建情感指数 ---\n"
     ]
    }
   ],
   "source": [
    "print(\"\\n--- 开始构建情感指数 ---\")\n",
    "\n",
    "def calculate_sentiment_indices(df):\n",
    "    \"\"\"计算各种情感指数\"\"\"\n",
    "    # 处理分母为0的情况，避免除零错误\n",
    "    epsilon = 1e-6 # 一个很小的数，防止除以零\n",
    "\n",
    "    # 情感净值\n",
    "    df['Sent_NetValue'] = df['Pospostnum'] - df['Negpostnum']\n",
    "\n",
    "    # 情感比率 (-1 到 1)\n",
    "    denominator_ratio = df['Pospostnum'] + df['Negpostnum']\n",
    "    df['Sent_Ratio'] = (df['Pospostnum'] - df['Negpostnum']) / (denominator_ratio + epsilon)\n",
    "    # 可以使用.clip限制在 [-1, 1] 区间内，虽然理论上不会超出\n",
    "    df['Sent_Ratio'] = df['Sent_Ratio'].clip(-1, 1)\n",
    "\n",
    "    # 看涨看跌比率 (可能非常大或为0)\n",
    "    denominator_bullbear = df['Negpostnum']\n",
    "    df['Sent_BullBear'] = df['Pospostnum'] / (denominator_bullbear + epsilon)\n",
    "    \n",
    "    # 对于分母为0，分子也为0的情况，设为1 (中性)；分母为0，分子>0，设为一个较大的数或NaN\n",
    "    df.loc[(df['Pospostnum'] == 0) & (df['Negpostnum'] == 0), 'Sent_BullBear'] = 1.0\n",
    "    df.loc[(df['Pospostnum'] > 0) & (df['Negpostnum'] == 0), 'Sent_BullBear'] = np.inf # 或设为某个大数，e.g., 999\n",
    "\n",
    "    print(\"已计算 Sent_NetValue, Sent_Ratio, Sent_BullBear 指数。\")\n",
    "    return df\n"
   ]
  },
  {
   "cell_type": "code",
   "execution_count": 19,
   "metadata": {},
   "outputs": [
    {
     "name": "stdout",
     "output_type": "stream",
     "text": [
      "\n",
      "计算 'other_trading' 数据集的情感指数...\n",
      "已计算 Sent_NetValue, Sent_Ratio, Sent_BullBear 指数。\n",
      "\n",
      "计算 'other_daily' 数据集的情感指数...\n",
      "已计算 Sent_NetValue, Sent_Ratio, Sent_BullBear 指数。\n",
      "\n",
      "计算 'company_trading' 数据集的情感指数...\n",
      "已计算 Sent_NetValue, Sent_Ratio, Sent_BullBear 指数。\n",
      "\n",
      "计算 'company_daily' 数据集的情感指数...\n",
      "已计算 Sent_NetValue, Sent_Ratio, Sent_BullBear 指数。\n"
     ]
    }
   ],
   "source": [
    "# 对筛选后的所有 DataFrame 应用计算\n",
    "for name in dfs_filtered.keys():\n",
    "    print(f\"\\n计算 '{name}' 数据集的情感指数...\")\n",
    "    dfs_filtered[name] = calculate_sentiment_indices(dfs_filtered[name])"
   ]
  },
  {
   "cell_type": "code",
   "execution_count": 20,
   "metadata": {},
   "outputs": [
    {
     "name": "stdout",
     "output_type": "stream",
     "text": [
      "\n",
      "带有情感指数的‘company_daily’数据预览：\n",
      "          Date Coname Period  Pospostnum  Negpostnum  Sent_NetValue  \\\n",
      "179 2020-07-01   园城黄金    疫情期          12           5              7   \n",
      "180 2020-07-02   园城黄金    疫情期          22          29             -7   \n",
      "181 2020-07-03   园城黄金    疫情期          23          15              8   \n",
      "182 2020-07-04   园城黄金    疫情期           4           0              4   \n",
      "183 2020-07-05   园城黄金    疫情期           3           3              0   \n",
      "\n",
      "     Sent_Ratio  Sent_BullBear  \n",
      "179    0.411765       2.400000  \n",
      "180   -0.137255       0.758621  \n",
      "181    0.210526       1.533333  \n",
      "182    1.000000            inf  \n",
      "183    0.000000       1.000000  \n"
     ]
    }
   ],
   "source": [
    "# 查看带有情感指数的数据(示例)\n",
    "if 'company_daily' in dfs_filtered:\n",
    "    print('\\n带有情感指数的‘company_daily’数据预览：')\n",
    "    print(dfs_filtered['company_daily'][['Date','Coname','Period','Pospostnum', 'Negpostnum', 'Sent_NetValue', 'Sent_Ratio', 'Sent_BullBear']].head())"
   ]
  },
  {
   "cell_type": "markdown",
   "metadata": {},
   "source": [
    "**第3步：构建加权情感指数 (模拟注意力机制)**\n",
    "- **操作:** 结合**阅读数或评论数，对情感指数进行加权**，认为阅读/评论越多的帖子/时间段的情绪影响力更大。这可以看作是对“市场注意力”的一种模拟。\n",
    "- **注释与依据:**\n",
    "    - **模拟注意力:** 引入阅读数/评论数作为权重，体现了信息传播和市场关注度的差异。阅读/评论多的帖子可能代表了更多人的看法或引发了更广泛的讨论，其情绪倾向的影响力可能更大。这是借鉴了 Attention 机制中“重要的部分赋予更高权重”的思想。\n",
    "    - **权重选择:** 使用 `Readnum` 或 `Commentnum` 都是合理的选择，可以都计算出来进行比较。*评论数可能更能代表深度参与者的情绪。*\n",
    "    - **加权方法:** 这里采用了简单的**将 `Sent_Ratio` 乘以权重**的方法，得到一个加权得分。注意这个*得分的范围不再是 [-1, 1]。如果需要标准化的加权指数，后续可以按组（如按天、按公司）计算加权平均值。*\n",
    "    - **鲁棒性**: 同样加入了 `epsilon` 防止权重为零。"
   ]
  },
  {
   "cell_type": "markdown",
   "metadata": {},
   "source": [
    "```py\n",
    "def calculate_weighted_sentiment(df,weight_col=\"Readnum\")\n",
    "    '''使用指定权重列计算加权情感指数'''\n",
    "    if weight_col not in df.columns:\n",
    "        print(f'警告：权重列‘{weight_col}’不存在于DataFrame中，无法计算加权指数。')\n",
    "        return df\n",
    "    epsilon = 1e-6\n",
    "    weight = df[weight_col] + epsilon # 避免权重为0\n",
    "\n",
    "    # 加权情感净值（意义不够直观，更常用加权平均情感比率）\n",
    "    # df['Sent_NetValue_Weighted'] = df['Sent_NetValue'] * weight\n",
    "    \n",
    "    # 加权情感比率 (更常用：用权重乘以比率)\n",
    "    # 注意：如果 Sent_Ratio 本身已经是 -1 到 1，乘以一个大的权重会改变范围\n",
    "        # 另一种方法是计算加权平均比率，但这需要先计算每个时间段的总权重\n",
    "    # 为了简单，我们先计算一个加权得分 (未标准化)\n",
    "    df[f'Sent_Ratio_Weighted_{weight_col}'] = df['Sent_Ratio'] * weight\n",
    "    \n",
    "    print(f\"已计算基于 '{weight_col}' 的加权情感比率得分。\")\n",
    "    return df\n",
    "\n",
    "# 对筛选后的所有dataframe应用计算（分别用阅读数和评论数加权）\n",
    "for name in dfs_filtered.keys():\n",
    "    print(f\"\\n计算 '{name}' 数据集的加权情感指数...\")\n",
    "    dfs_filtered[name] = calculate_weighted_sentiment(dfs_filtered[name],weight_col='Readnum')\n",
    "    dfs_filtered[name] = calculate_weighted_sentiment(dfs_filtered[name],weight_col='Commentnum')\n",
    "\n",
    "# 查看加权指数(示例)\n",
    "if 'company_daily' in dfs_filtered:\n",
    "    print(\"\\n带有加权情感指数的 'company_daily' 数据预览:\")\n",
    "    cols_to_show = ['Date', 'Coname', 'Sent_Ratio', 'Readnum', 'Sent_Ratio_Weighted_Readnum', 'Commentnum', 'Sent_Ratio_Weighted_Commentnum']\n",
    "    # 检查列是否存在\n",
    "    cols_to_show = [col for col in cols_to_show if col in dfs_filtered['company_daily'].columns]\n",
    "    print(dfs_filtered['company_daily'][cols_to_show].head())\n",
    "\n",
    "\n",
    "```"
   ]
  },
  {
   "cell_type": "code",
   "execution_count": 21,
   "metadata": {},
   "outputs": [
    {
     "name": "stdout",
     "output_type": "stream",
     "text": [
      "\n",
      "--- 开始构建加权情感指数 ---\n",
      "\n",
      "计算 'other_trading' 数据集的加权情感指数...\n",
      "已计算基于 'Readnum' 的加权情感比率得分。\n",
      "已计算基于 'Commentnum' 的加权情感比率得分。\n",
      "\n",
      "计算 'other_daily' 数据集的加权情感指数...\n",
      "已计算基于 'Readnum' 的加权情感比率得分。\n",
      "已计算基于 'Commentnum' 的加权情感比率得分。\n",
      "\n",
      "计算 'company_trading' 数据集的加权情感指数...\n",
      "已计算基于 'Readnum' 的加权情感比率得分。\n",
      "已计算基于 'Commentnum' 的加权情感比率得分。\n",
      "\n",
      "计算 'company_daily' 数据集的加权情感指数...\n",
      "已计算基于 'Readnum' 的加权情感比率得分。\n",
      "已计算基于 'Commentnum' 的加权情感比率得分。\n",
      "\n",
      "带有加权情感指数的 'company_daily' 数据预览:\n",
      "          Date Coname  Sent_Ratio  Readnum  Sent_Ratio_Weighted_Readnum  \\\n",
      "179 2020-07-01   园城黄金    0.411765     9051                  3726.882134   \n",
      "180 2020-07-02   园城黄金   -0.137255    18829                 -2584.372498   \n",
      "181 2020-07-03   园城黄金    0.210526    16569                  3488.210435   \n",
      "182 2020-07-04   园城黄金    1.000000     1571                  1570.999608   \n",
      "183 2020-07-05   园城黄金    0.000000     1868                     0.000000   \n",
      "\n",
      "     Commentnum  Sent_Ratio_Weighted_Commentnum  \n",
      "179          50                       20.588234  \n",
      "180         105                      -14.411765  \n",
      "181          81                       17.052631  \n",
      "182           4                        4.000000  \n",
      "183           7                        0.000000  \n"
     ]
    }
   ],
   "source": [
    "print(\"\\n--- 开始构建加权情感指数 ---\")\n",
    "\n",
    "def calculate_weighted_sentiment(df, weight_col='Readnum'):\n",
    "    \"\"\"使用指定权重列计算加权情感指数\"\"\"\n",
    "    if weight_col not in df.columns:\n",
    "        print(f\"警告：权重列 '{weight_col}' 不存在于DataFrame中，无法计算加权指数。\")\n",
    "        return df\n",
    "\n",
    "    epsilon = 1e-6\n",
    "    weight = df[weight_col] + epsilon # 避免权重为0\n",
    "\n",
    "    # 加权情感净值 (按权重调整后的净值)\n",
    "    # 这个指标意义可能不直观，更常用的是加权平均情感比率\n",
    "    # df['Sent_NetValue_Weighted'] = df['Sent_NetValue'] * weight\n",
    "\n",
    "    # 加权情感比率 (更常用：用权重乘以比率)\n",
    "    # 注意：如果 Sent_Ratio 本身已经是 -1 到 1，乘以一个大的权重会改变范围\n",
    "    # 另一种方法是计算加权平均比率，但这需要先计算每个时间段的总权重\n",
    "    # 为了简单，我们先计算一个加权得分 (未标准化)\n",
    "    df[f'Sent_Ratio_Weighted_{weight_col}'] = df['Sent_Ratio'] * weight\n",
    "\n",
    "    print(f\"已计算基于 '{weight_col}' 的加权情感比率得分。\")\n",
    "    return df\n",
    "\n",
    "# 对筛选后的所有 DataFrame 应用计算 (分别用阅读数和评论数加权)\n",
    "for name in dfs_filtered.keys():\n",
    "    print(f\"\\n计算 '{name}' 数据集的加权情感指数...\")\n",
    "    dfs_filtered[name] = calculate_weighted_sentiment(dfs_filtered[name], weight_col='Readnum')\n",
    "    dfs_filtered[name] = calculate_weighted_sentiment(dfs_filtered[name], weight_col='Commentnum')\n",
    "\n",
    "# --- 查看加权指数 (示例) ---\n",
    "if 'company_daily' in dfs_filtered:\n",
    "    print(\"\\n带有加权情感指数的 'company_daily' 数据预览:\")\n",
    "    cols_to_show = ['Date', 'Coname', 'Sent_Ratio', 'Readnum', 'Sent_Ratio_Weighted_Readnum', 'Commentnum', 'Sent_Ratio_Weighted_Commentnum']\n",
    "    # 检查列是否存在\n",
    "    cols_to_show = [col for col in cols_to_show if col in dfs_filtered['company_daily'].columns]\n",
    "    print(dfs_filtered['company_daily'][cols_to_show].head())"
   ]
  },
  {
   "cell_type": "markdown",
   "metadata": {},
   "source": [
    "**第4步：时间序列聚合与可视化 (核心分析)**\n",
    "- **操作**: 按日期聚合各指标（情感指数、帖子数、阅读评论数），并使用 `plotly` 绘制精美的交互式时间序列图表，进行对比分析。\n",
    "- **注释与依据**:\n",
    "    - **数据聚合 (`groupby().agg()`)**: 这是进行**时间序列分析**的关键步骤。将数据按 `Date` 分组，然后计算每个组的总量（帖子数、阅读数等用 `sum`）和平均值/加权平均值（情感指数用 `mean` 或 `lambda x: np.average(...)`）。\n",
    "    \n",
    "    - **聚合情感指数计算**: 提供了两种计算每日总体情感比率的方法：\n",
    "        - **简单平均 (`mean`)**: 对当天所有公司的 `Sent_Ratio` 求平均。简单但不一定能反映整体情况（如果公司规模差异大）。\n",
    "        - **加权平均 (`lambda x: np.average(...)`)**: 用**阅读数或评论数**作为权重，计算当天情感比率的*加权平均值*。更能体现市场关注度。（复杂不易解读，弃用）\n",
    "        - **整体计算 (`(Sum(Pos) - Sum(Neg)) / (Sum(Pos) + Sum(Neg))`):** 将当天所有公司的正面和负面帖子加总后再计算比率。这种方法概念清晰，推荐使用 (`Sent_Ratio_overall`)。\n",
    "   \n",
    "    - **步骤**：\n",
    "        - **初步聚合**: `daily_agg_comp_simple` 只计算了可以直接对单列操作的 `sum` 和 `mean`。\n",
    "        - **定义 `weighted_average` 函数**: 这个函数接收一个分组后的子 `DataFrame (group)` 以及要计算平均值的列名 (`avg_col`) 和权重列名 (`weight_col`)。它内部使用 `np.average()` 进行加权计算，并处理了权重和为零的情况。\n",
    "        - **使用 apply() 计算加权平均**: `df_comp_daily.groupby(...).apply(weighted_average, 'Sent_Ratio', 'Readnum')` 将 `weighted_average` 函数应用到按日期和时期分组后的每个子 DataFrame 上。apply 会自动将子 `DataFrame (group)` 作为第一个参数传给 `weighted_average`，我们通过额外的参数指定了 `avg_col` 和 `weight_col`。结果是一个以分组键`（Date, Period）`为索引的 `Series`。`.rename()` 给这个 Series 命名。\n",
    "        - **合并结果**: 使用 pd.merge 将计算得到的加权平均 `Series` 合并回初步聚合的 `daily_agg_comp_simple` DataFrame 中。\n",
    "        - 计算整体比率: 最后，基于聚合后的总和 `Pospostnum_sum` 和 `Negpostnum_sum` 计算整体情感比率。\n",
    "\n",
    "- **Plotly 可视化**:\n",
    "    - `make_subplots`: 用于在同一张图中**创建多个子图**，方便对比不同指标（如关注度 vs 情感）。\n",
    "    - `go.Scatter`: 绘制线图的**基本对象**。\n",
    "    - `px.line: plotly.express` 提供的更简洁的接口，特别适合快速绘制**按类别着色的线图**（如对比不同股吧类型）。\n",
    "    - 交互性: Plotly 生成的图表是交互式的，可以在图上*缩放、平移、悬停查看数据点*，非常适合探索性分析和 Pre 展示。\n",
    "    - `add_hline(y=0):` 添加零线，清晰区分正面和负面情绪。\n",
    "    - `update_yaxes(range=[-1, 1]):` 固定情感比率的y轴范围，便于比较。\n",
    "    - `write_image():` 可以将 Plotly 图表保存为静态图片（需要 `kaleido` 库）。\n",
    "\n",
    "- **对比分析:** 代码演示了三种核心对比：\n",
    "    - 同一来源内部指标对比（关注度 vs 情感）。\n",
    "    - 不同来源类型对比（上市公司整体 vs 其他股吧整体）。\n",
    "    - 特定对象对比（单个公司 vs 其他股吧）。"
   ]
  },
  {
   "cell_type": "markdown",
   "metadata": {},
   "source": [
    "```py\n",
    "if 'company_daily' in dfs_filtered:\n",
    "    df_comp_daily = dfs_filtered[\"company_daily\"]\n",
    "\n",
    "    # 第一步：进行简单的列聚合\n",
    "    print('进行初步聚合（sum、mean）...')\n",
    "    daily_agg_comp_simple = df_comp_daily.groupby(['Date','Period']).agg(\n",
    "        Tpostnum_sum=('Tpostnum', 'sum'),\n",
    "        Pospostnum_sum=('Pospostnum', 'sum'),\n",
    "        Negpostnum_sum=('Negpostnum', 'sum'),\n",
    "        Readnum_sum=('Readnum', 'sum'),\n",
    "        Commentnum_sum=('Commentnum', 'sum'),\n",
    "        Sent_Ratio_mean=('Sent_Ratio', 'mean'), # 计算简单平均情感比率\n",
    "        # 我们还需要原始的 Sent_Ratio 和权重列，以便后续计算加权平均\n",
    "        # 可以传入列表来获取，但这样不太方便，不如分开算\n",
    "    ).reset_index()\n",
    "    # 对为df_comp_daily的DataFrame进行分组聚合操作。\n",
    "    # 首先，它按照Date（日期）和Period（时间段）进行分组。\n",
    "    # 然后，对每个分组内的数据计算以下聚合指标：Tpostnum的总和（命名为Tpostnum_sum），Pospostnum的总和（命名为Pospostnum_sum），Negpostnum的总和（命名为Negpostnum_sum），Readnum的总和（命名为Readnum_sum），Commentnum的总和（命名为Commentnum_sum），以及Sent_Ratio的简单平均值（命名为Sent_Ratio_mean）。\n",
    "    # 此外，代码中提到了还需要原始的Sent_Ratio和权重列以进行后续的加权平均计算，但为了方便，选择不在这里一并计算。\n",
    "    # 最后，使用`reset_index()`方法重置索引，使得Date和Period成为*普通列*，而不是*索引列*。这样的操作通常用于数据预处理，以便于后续的分析或建模。\n",
    "\n",
    "    # 第二步：定义加权平均函数（作用与分组后的DataFrame：daily_agg_comp_simple）\n",
    "    def weighted_average(group,avg_col,weight_col):\n",
    "        d = group[avg_col]\n",
    "        w = group[weight_col] + 1e-6 # 避免权重为0\n",
    "        try：\n",
    "        # 只有当权重和>0时才计算\n",
    "        if w.sum()>1e-6:\n",
    "            return np.average(d,weights=w)\n",
    "        else:\n",
    "            return 0 # 或者返回np.nan\n",
    "        except ZeroDivisionError:\n",
    "            return 0 # 或者返回np.nan\n",
    "    # 第三步：使用groupby().apply()计算加权平均\n",
    "    # apply() 允许将函数应用于每个分组的DataFrame\n",
    "    print('计算加权平均情感比率')\n",
    "    wavg_readnum = df_comp_daily.groupby([\"Date\",\"Period\"]).apply(weighted_average,\"Sent_Ratio\",\"Readnum\" # 传入要平均的列和权重列名\n",
    "    ).rename('Sent_Ratio_wavg_Readnum') #重命名Series\n",
    "\n",
    "    wavg_commentnnum = df_comp_daily.groupby([\"Date\",\"Period\"]).apply(weighted_average,\"Sent_Ratio\",\"Commentnum\" # 传入要平均的列和权重列名\n",
    "    ).rename('Sent_Ratio_wavg_Commentnum') #重命名Series\n",
    "\n",
    "    # 第四步：将所有聚合结果合并\n",
    "    print(\"合并聚合结果\")\n",
    "    # 将加权平均结果（Series）合并到初步聚合的DataFrame\n",
    "    daily_agg_comp = pd.merge(dail_agg_comp_simple,wavg_readnum,on=['Date','Period'], how=\"left\")\n",
    "    # 将数据框（DataFrame）dail_agg_comp_simple 和 (Series)wavg_readnum 进行左合并，合并的依据是两个共同的列：Date（日期）和 Period（时期）。左合并意味着以 dail_agg_comp_simple 为基础，将 wavg_readnum 中与之匹配的行合并进来，如果 wavg_readnum 中没有匹配的行，则对应位置为空值（NaN）。合并后的结果存储在新的数据框 `daily_agg_comp` 中。这里使用的是 pandas 库的 merge 函数来实现这一操作。\n",
    "    daily_agg_comp = pd.merge(daily_agg_comp, wavg_commentnum, on=['Date', 'Period'], how='left')\n",
    "\n",
    "    # 第五步：计算整体情感比率（基于总和）\n",
    "    print(\"计算整体情感比例\")\n",
    "    daily_agg_comp['Sent_Ratio_overall'] =\n",
    "    (daily_agg_comp['Pospostnum_sum']- daily_agg_comp['Negpostnum_sum']) / \n",
    "    (daily_agg_comp['Pospostnum_sum'] + daily_agg_comp['Negpostnum_sum'] + 1e-6)\n",
    "    # \" / \\ \" 通常代表一个根号，用于表示数学中的平方根运算。例如，√x 表示 x 的平方根，即一个数 y，使得 y² = x。在计算机编程和文本表示中，由于直接输入根号符号可能受限，有时会用斜线和小圆点来近似表示，如 \" / \\ \"。\n",
    "    daily_agg_comp['Sent_Ratio_overall'] = daily_agg_comp['Sent_Ratio_overall'].clip(-1,1)\n",
    "\n",
    "    print('\\n上市公司每日聚合数据预览：')\n",
    "    print(dail_agg_comp.head())\n",
    "\n",
    "else:\n",
    "    print(\"未加载‘company_daily’数据，无法进行聚合。\")\n",
    "\n",
    "```\n",
    "---\n",
    "## reset_index()的含义及适用场景\n",
    "`reset_index()` 函数在 Python 的 Pandas 库中用于重置 DataFrame 的索引。简单来说，它将原来的索引（通常是默认的整数索引）转换回普通的列，并删除原来的索引列。\n",
    "**具体作用**：\n",
    "* **还原索引**： 将 DataFrame 的索引列转换为普通列，使其与其他数据列处于同一级别。\n",
    "* **删除索引列**： 如果 DataFrame 的索引列不需要保留，可以使用 `reset_index(drop=True)` 参数将其删除。\n",
    "* **重置索引顺序**： 可以通过 `reset_index()` 函数重置索引的顺序，使其与数据行的顺序一致。\n",
    "**示例**：\n",
    "```python\n",
    "import pandas as pd\n",
    "# 创建一个 DataFrame，包含索引列\n",
    "df = pd.DataFrame({'Name': ['Alice', 'Bob', 'Charlie'], 'Age': [25, 30, 35]}, index=['a', 'b', 'c'])\n",
    "# 使用 reset_index() 还原索引\n",
    "df_reset = df.reset_index()\n",
    "# 输出结果\n",
    "print(df_reset)\n",
    "```\n",
    "输出：\n",
    "```\n",
    "  Name  Age\n",
    "0 Alice   25\n",
    "1   Bob   30\n",
    "2 Charlie  35\n",
    "```\n",
    "在这个例子中，`reset_index()` 将原来的索引列 `Index` 转换为普通列 `Name`，并删除了原来的索引列。\n",
    "\n",
    "---\n",
    "\n",
    "在处理数据时，以下几种情况可能需要使用 `reset_index()`：\n",
    "1. **索引不再需要**：\n",
    "   - 当你处理完数据后，索引列不再需要，或者你想将索引列作为普通列来处理。\n",
    "2. **索引重复或无意义**：\n",
    "   - 如果在进行某些操作（如合并、分组）后，索引变得重复或无意义，需要重置索引使其重新变为默认的整数索引。\n",
    "3. **需要重置索引顺序**：\n",
    "   - 在进行排序、筛选等操作后，索引的顺序可能被打乱，使用 `reset_index()` 可以恢复索引的顺序。\n",
    "4. **数据透视表或分组操作后**：\n",
    "   - 使用 `pivot_table` 或 `groupby` 后，生成的 DataFrame 通常会带有多层索引，需要使用 `reset_index()` 将其转换为单层索引或普通列。\n",
    "5. **数据合并后**：\n",
    "   - 在合并多个 DataFrame 后，索引可能会保留原有 DataFrame 的索引，导致索引重复或不连续，需要重置。\n",
    "6. **需要导出数据**：\n",
    "   - 在将数据导出到 CSV 或 Excel 文件时，如果不需要保留复杂的索引结构，可以使用 `reset_index()` 将索引转换为普通列。\n",
    "**具体示例**：\n",
    "### 示例 1：索引重复\n",
    "```python\n",
    "import pandas as pd\n",
    "df1 = pd.DataFrame({'A': [1, 2, 3]})\n",
    "df2 = pd.DataFrame({'A': [4, 5, 6]})\n",
    "# 合并两个 DataFrame\n",
    "df_merged = pd.concat([df1, df2])\n",
    "# 合并后的索引是重复的\n",
    "print(df_merged)\n",
    "#    A\n",
    "# 0  1\n",
    "# 1  2\n",
    "# 2  3\n",
    "# 0  4\n",
    "# 1  5\n",
    "# 2  6\n",
    "# 使用 reset_index() 重置索引\n",
    "df_reset = df_merged.reset_index(drop=True)\n",
    "```\n"
   ]
  },
  {
   "cell_type": "markdown",
   "metadata": {},
   "source": [
    "## 1.绘制上市公司总体情绪与关注度时间序列图(使用Plotly)\n",
    "```py\n",
    "# 这段代码使用Plotly库创建了一个包含三个子图的复合图表，用于展示上市公司股吧的总体情绪与关注度随时间的变化。\n",
    "# 首先，fig_comp_agg被定义为一个**3行1列的子图布局**，所有子图共享坐标轴，并分别命名为“每日总发帖量”、“每日总阅读数”和“每日聚合情感比率（Overall & 加权阅读数）”。\n",
    "# 接着，分别向三个子图中添加了发帖量、阅读数和情感比率的轨迹线，其中情感比率子图还添加了加权阅读数轨迹和一条灰色虚线作为零线，以便于观察情感比率的正负变化。\n",
    "# 最后，代码更新了图表的布局，包括标题、高度、坐标轴标题和y轴范围，使得图表更加清晰易读。\n",
    "# 整个图表旨在展示上市公司股吧在不同时间点的活跃度、关注度和情感倾向，为分析市场情绪提供可视化支持。\n",
    "fig_comp_agg == make_subplots(row=3, cols=1, shared_axes=True, subplot_titles=(\"每日总发帖量\",\"每日总阅读数\",\"每日聚合情感比率（Overall & 加权阅读数）\"))\n",
    "\n",
    "# 添加发帖量轨迹\n",
    "fig_comp_agg.add_trace(go.Scatter(x=daily_agg_comp['Date'],y=daily_agg_comp['Tpostnum_sum'],model='lines',name='总发帖量'), row=1, col=1)\n",
    "\n",
    "# 添加阅读数轨迹\n",
    "fig_comp_agg.add_trace(go.Scatter(x=daily_agg_comp['Date'],y=daily_agg_comp['Sent_Ratio_wavg_Readnum'],model='lines',name='总阅读数'),row=2,col=1)\n",
    "\n",
    "# 添加情感比率轨迹\n",
    "fig_comp_agg.add_trace(go.Scatter(x=daily_agg_comp['Date'],y=daily_agg_comp['Sent_Ratio_overall'],model='lines',name='Overall Sent Ratio'),row=3,col=1)\n",
    "    \n",
    "    # 情感比率子图额外添加了加权阅读数轨迹\n",
    "fig_comp_agg.add_trace(go.Scatter(x=daily_agg_comp['Date'],y=daily_agg_comp['Sent_Ratio_wavg_Readnum'],model='lines',name='WAvg Sent Ratio(Readnum)'),dict(dash='dot'),row=3,col=1)\n",
    "\n",
    "    # 添加零线，方便观察正负\n",
    "fig_comp_agg.add_hline(y=0, line_width=1, line_dash='dash',line_color='grey',row=3, col=1)\n",
    "\n",
    "# 更新布局\n",
    "fig_comp_add.update_layout(title_text='上市公司股吧总体情绪与关注度时序变化'，height=700) # 高度可以调整一下\n",
    "fig_comp_add.update_xaxes(title_text='日期', row=3, col=1)\n",
    "fig_comp_add.update_yaxes(title_text='数量'，row=1, col=1)\n",
    "fig_comp_add.update_yaxes(title_text='数量'，row=2, col=1)\n",
    "fig_comp_add.update_yaxes(title_text='情感比率(-1 to 1)'，range=[-1,1],row=1, col=1) # 固定y轴范围\n",
    "\n",
    "# fig_comp_agg.write_image(\"company_sentiment_attention_timeseries.png\") # 保存为静态图片\n",
    "\n",
    "```\n"
   ]
  },
  {
   "cell_type": "markdown",
   "metadata": {},
   "source": [
    "## 2.对比不同类型股吧的情绪 (上市公司整体 vs 其他股吧整体)\n",
    "```py\n",
    "# --- 示例：对比不同类型股吧的情绪 (上市公司整体 vs 其他股吧整体) ---\n",
    "if 'other_daily' in dfs_filtered and 'company_daily' in daily_agg_comp:\n",
    "    df_other_daily = dfs_filtered['other_daily']\n",
    "    # 按日期聚合其他股吧数据\n",
    "    daily_agg_other = df_other_daily.groupby(['Date','Period']).agg(\n",
    "        Pospostnum=('Pospostnum','sum')\n",
    "        Negpostnum=('Negpostnum','sum'),\n",
    "        # agg()可能不支持lambda：Sent_Ratio_wavg_Readnum=lambda x: np.average(x['Sent_Ratio'], weights=x['Readnum'] + 1e-6) if x['Readnum'].sum() > 0 else 0,\n",
    "    ).reset_index()\n",
    "\n",
    "    daily_agg_other['Sent_Ratio_overall'] = (daily_agg_other['Pospostnum_sum'] - daily_agg_other['Negpostnum_sum']) /(daily_agg_other['Pospostnum_sum'] + daily_agg_other['Negpostnum_sum'] + 1e-6)\n",
    "    daily_agg_other['Sent_Ratio_overall'] = daily_agg_other['Sent_Ratio_overall'].clip(-1, 1)\n",
    "\n",
    "    # 合并两种类型的聚合数据\n",
    "    daily_agg_comp_subset = daily_agg_comp[['Date','Sent_Ratio_overall']].rename(columns={'Sent_Ratio_overall':'Company_Sent_Ratio'})\n",
    "    daily_agg_other_subset = daily_agg_other[['Date','Sent_Ratio_overall']].rename(columns={'Sent_Ratio_overall':'Other_Sent_Ratio'})\n",
    "    merged_sent = pd.merge(daily_agg_comp_subset,daily_agg_other_subset, on='Date', how='outer')\n",
    "        # outer外连接意味着合并后的数据集将包含两个原始数据集中所有的日期，如果某个日期在其中一个数据集中不存在，那么对应的列将会用NaN（空值）填充。\n",
    "        # 这种合并方式确保了不丢失任何日期信息，适用于需要保留完整时间序列数据的场景。\n",
    "    # 绘图对比\n",
    "        \n",
    "    fig_compare_type = px.line(merged_sent.melt(id_vars='Date',var_name='Guda_Type',value_name='Sentiment_Ratio'),\n",
    "                               x='Date', y='Sentiment_Ratio', color='Guba_Type',\n",
    "                               title='上市公司股吧 vs 其他股吧 每日总体情感比率对比')\n",
    "        # 使用Plotly Express的`line`函数创建了一个折线图，用于比较不同类型股吧（上市公司股吧和其他股吧）的每日总体情感比率。\n",
    "        # 其中，`merged_sent.melt(id_vars='Date', var_name='Guba_Type', value_name='Sentiment_Ratio')`将\n",
    "        # 数据框`merged_sent`从宽格式转换为长格式，\n",
    "        # `id_vars='Date'`指定日期列为标识变量，\n",
    "        # `var_name='Guba_Type'`将原来的列名转换为类型变量，\n",
    "        # `value_name='Sentiment_Ratio'`将情感比率列命名为值变量。\n",
    "        # 折线图的x轴为日期，y轴为情感比率，\n",
    "        # 不同类型的股吧用不同颜色表示，\n",
    "        # 图表标题为“上市公司股吧 vs 其他股吧 每日总体情感比率对比”。\n",
    "    fig_compare_type.add_hline(y=0, line_width=1, line_dash='dash',line_color='grey')\n",
    "    fig_compare_type.update_yaxes(range=[-1,1])\n",
    "    \n",
    "\n",
    "    fig_compare_type.show()\n",
    "    ```"
   ]
  },
  {
   "cell_type": "markdown",
   "metadata": {},
   "source": [
    "## 3. 示例：对比单个核心公司 vs 其他股吧 (以山东黄金为例) \n",
    "```py\n",
    "if 'company_daily' in dfs_filtered and 'other_daily' in dfs_filtered:\n",
    "    target_company = '山东黄金' # 选择一个公司\n",
    "    df_target_comp = dfs_filtered['company_daily'][dfs_filtered['company_daily']['Coname'] == target_company].copy()\n",
    "    # 这里直接使用Sent_Ratio_overall计算起来麻烦，用计算好的Sent_Ratio\n",
    "    df_target_comp = df_target_comp[['Date','Sent_Ratio']].rename(columns={'Sent_Ratio': f'{target_company}_Sent_Ratio'})\n",
    "\n",
    "    \n",
    "    # 使用上面聚合好的 other 数据\n",
    "    # daily_agg_other_subset ...\n",
    "\n",
    "    merged_comp_other = pd.merge(df_target_comp, daily_agg_other_subset, on='Date', how='outer')\n",
    "\n",
    "    fig_compare_sdhj_other = px.line(merged_comp_other.melt(id_vars='Date', value_vars='Source',value_name='Sentiment_Ratio'),\n",
    "                                     x='Date', y='Sentiment_Ratio',\n",
    "                                     color='Source',\n",
    "                                     title=f'{target_company} vs 其他股吧 每日情感比率对比'\n",
    "                                     )\n",
    "    \n",
    "    fig_compare_sdhj_other.add_hline(y=0, line_width=1, line_dash=\"dash\", line_color=\"grey\")\n",
    "    fig_compare_sdhj_other.update_yaxes(range=[-1, 1])\n",
    "    fig_compare_sdhj_other.show()\n",
    "\n",
    "# fig_compare_sdhj_other.write_image(\"sdhj_vs_other_sentiment.png\")```"
   ]
  },
  {
   "cell_type": "code",
   "execution_count": null,
   "metadata": {},
   "outputs": [
    {
     "name": "stdout",
     "output_type": "stream",
     "text": [
      "\n",
      "--- 开始时间序列聚合与可视化 ---\n",
      "进行初步聚合 (sum, mean)...\n",
      "计算加权平均情感比率...\n",
      "合并聚合结果...\n",
      "计算整体情感比率...\n",
      "\n",
      "上市公司每日聚合数据预览:\n",
      "        Date Period  Tpostnum_sum  Pospostnum_sum  Negpostnum_sum  \\\n",
      "0 2020-07-01    疫情期           798             218             150   \n",
      "1 2020-07-02    疫情期           706             162             165   \n",
      "2 2020-07-03    疫情期           585             163             108   \n",
      "3 2020-07-04    疫情期            63              25               5   \n",
      "4 2020-07-05    疫情期            66              19              10   \n",
      "\n",
      "   Readnum_sum  Commentnum_sum  Sent_Ratio_mean  Sent_Ratio_wavg_Readnum  \\\n",
      "0       151292             504         0.183428                 0.196932   \n",
      "1       152675             567        -0.031992                 0.010942   \n",
      "2       124900             469         0.246565                 0.214601   \n",
      "3        20745              51         0.738095                 0.649771   \n",
      "4        21947              49         0.492857                 0.612548   \n",
      "\n",
      "   Sent_Ratio_wavg_Commentnum  Sent_Ratio_overall  \n",
      "0                    0.202528            0.184783  \n",
      "1                   -0.017757           -0.009174  \n",
      "2                    0.206733            0.202952  \n",
      "3                    0.578431            0.666667  \n",
      "4                    0.568367            0.310345  \n"
     ]
    },
    {
     "name": "stderr",
     "output_type": "stream",
     "text": [
      "C:\\Users\\Administrator\\AppData\\Local\\Temp\\ipykernel_22992\\4276844049.py:41: DeprecationWarning: DataFrameGroupBy.apply operated on the grouping columns. This behavior is deprecated, and in a future version of pandas the grouping columns will be excluded from the operation. Either pass `include_groups=False` to exclude the groupings or explicitly select the grouping columns after groupby to silence this warning.\n",
      "  wavg_readnum = df_comp_daily.groupby(['Date', 'Period']).apply(\n",
      "C:\\Users\\Administrator\\AppData\\Local\\Temp\\ipykernel_22992\\4276844049.py:45: DeprecationWarning: DataFrameGroupBy.apply operated on the grouping columns. This behavior is deprecated, and in a future version of pandas the grouping columns will be excluded from the operation. Either pass `include_groups=False` to exclude the groupings or explicitly select the grouping columns after groupby to silence this warning.\n",
      "  wavg_commentnum = df_comp_daily.groupby(['Date', 'Period']).apply(\n"
     ]
    }
   ],
   "source": [
    "print(\"\\n--- 开始时间序列聚合与可视化 ---\")\n",
    "\n",
    "# --- 准备绘图数据 ---\n",
    "# 我们重点关注每日数据 ('other_daily', 'company_daily')\n",
    "# 对于上市公司数据，我们需要按日期聚合所有公司，或分别绘制\n",
    "# 对于其他股吧数据，也需要按日期聚合\n",
    "\n",
    "# 示例：聚合每日的公司总体情绪和关注度指标\n",
    "if 'company_daily' in dfs_filtered:\n",
    "    df_comp_daily = dfs_filtered['company_daily']\n",
    "    # --- 第一步：进行简单的列聚合 ---\n",
    "    print(\"进行初步聚合 (sum, mean)...\")\n",
    "    daily_agg_comp_simple = df_comp_daily.groupby(['Date', 'Period']).agg(\n",
    "        Tpostnum_sum=('Tpostnum', 'sum'),\n",
    "        Pospostnum_sum=('Pospostnum', 'sum'),\n",
    "        Negpostnum_sum=('Negpostnum', 'sum'),\n",
    "        Readnum_sum=('Readnum', 'sum'),\n",
    "        Commentnum_sum=('Commentnum', 'sum'),\n",
    "        Sent_Ratio_mean=('Sent_Ratio', 'mean'), # 计算简单平均情感比率\n",
    "        # 我们还需要原始的 Sent_Ratio 和权重列，以便后续计算加权平均\n",
    "        # 可以传入列表来获取，但这样不太方便，不如分开算\n",
    "    ).reset_index() # 将分组后重复/无意义的索引列重新转换为普通默认整数索引\n",
    "\n",
    "    # --- 第二步：定义加权平均函数 (作用于分组后的 DataFrame) ---\n",
    "    def weighted_average(group, avg_col, weight_col):\n",
    "        \"\"\"计算分组DataFrame的加权平均值\"\"\"\n",
    "        d = group[avg_col]\n",
    "        w = group[weight_col] + 1e-6 # 避免权重为0\n",
    "        try:\n",
    "            # 只有当权重和 > 0 时才计算\n",
    "            if w.sum() > 1e-6:\n",
    "                 return np.average(d, weights=w)\n",
    "            else:\n",
    "                 return 0 # 或者返回 np.nan\n",
    "        except ZeroDivisionError:\n",
    "            return 0 # 或者返回 np.nan\n",
    "\n",
    "    # --- 第三步：使用 groupby().apply() 计算加权平均 ---\n",
    "    # apply() 允许将函数应用于每个分组的 DataFrame\n",
    "    print(\"计算加权平均情感比率...\")\n",
    "    wavg_readnum = df_comp_daily.groupby(['Date', 'Period']).apply(\n",
    "        weighted_average, 'Sent_Ratio', 'Readnum' # 传入要平均的列和权重列名\n",
    "    ).rename('Sent_Ratio_wavg_Readnum') # 重命名 Series\n",
    "\n",
    "    wavg_commentnum = df_comp_daily.groupby(['Date', 'Period']).apply(\n",
    "        weighted_average, 'Sent_Ratio', 'Commentnum'\n",
    "    ).rename('Sent_Ratio_wavg_Commentnum')\n",
    "\n",
    "    # --- 第四步：将所有聚合结果合并 ---\n",
    "    print(\"合并聚合结果...\")\n",
    "    # 将加权平均结果 (Series) 合并到初步聚合的 DataFrame\n",
    "    daily_agg_comp = pd.merge(daily_agg_comp_simple, wavg_readnum, on=['Date', 'Period'], how='left')\n",
    "    daily_agg_comp = pd.merge(daily_agg_comp, wavg_commentnum, on=['Date', 'Period'], how='left')\n",
    "\n",
    "    # --- 第五步：计算整体情感比率 (基于总和) ---\n",
    "    print(\"计算整体情感比率...\")\n",
    "    daily_agg_comp['Sent_Ratio_overall'] = (daily_agg_comp['Pospostnum_sum'] - daily_agg_comp['Negpostnum_sum']) / (daily_agg_comp['Pospostnum_sum'] + daily_agg_comp['Negpostnum_sum'] + 1e-6)\n",
    "    daily_agg_comp['Sent_Ratio_overall'] = daily_agg_comp['Sent_Ratio_overall'].clip(-1, 1)\n",
    "\n",
    "    print(\"\\n上市公司每日聚合数据预览:\")\n",
    "    print(daily_agg_comp.head())\n",
    "\n",
    "    \n",
    "\n"
   ]
  },
  {
   "cell_type": "code",
   "execution_count": 23,
   "metadata": {},
   "outputs": [
    {
     "data": {
      "application/vnd.plotly.v1+json": {
       "config": {
        "plotlyServerURL": "https://plot.ly"
       },
       "data": [
        {
         "mode": "lines",
         "name": "总发帖量",
         "type": "scatter",
         "x": [
          "2020-07-01T00:00:00.000000000",
          "2020-07-02T00:00:00.000000000",
          "2020-07-03T00:00:00.000000000",
          "2020-07-04T00:00:00.000000000",
          "2020-07-05T00:00:00.000000000",
          "2020-07-06T00:00:00.000000000",
          "2020-07-07T00:00:00.000000000",
          "2020-07-08T00:00:00.000000000",
          "2020-07-09T00:00:00.000000000",
          "2020-07-10T00:00:00.000000000",
          "2020-07-11T00:00:00.000000000",
          "2020-07-12T00:00:00.000000000",
          "2020-07-13T00:00:00.000000000",
          "2020-07-14T00:00:00.000000000",
          "2020-07-15T00:00:00.000000000",
          "2020-07-16T00:00:00.000000000",
          "2020-07-17T00:00:00.000000000",
          "2020-07-18T00:00:00.000000000",
          "2020-07-19T00:00:00.000000000",
          "2020-07-20T00:00:00.000000000",
          "2020-07-21T00:00:00.000000000",
          "2020-07-22T00:00:00.000000000",
          "2020-07-23T00:00:00.000000000",
          "2020-07-24T00:00:00.000000000",
          "2020-07-25T00:00:00.000000000",
          "2020-07-26T00:00:00.000000000",
          "2020-07-27T00:00:00.000000000",
          "2020-07-28T00:00:00.000000000",
          "2020-07-29T00:00:00.000000000",
          "2020-07-30T00:00:00.000000000",
          "2020-07-31T00:00:00.000000000",
          "2020-08-01T00:00:00.000000000",
          "2020-08-02T00:00:00.000000000",
          "2020-08-03T00:00:00.000000000",
          "2020-08-04T00:00:00.000000000",
          "2020-08-05T00:00:00.000000000",
          "2020-08-06T00:00:00.000000000",
          "2020-08-07T00:00:00.000000000",
          "2020-08-08T00:00:00.000000000",
          "2020-08-09T00:00:00.000000000",
          "2020-08-10T00:00:00.000000000",
          "2020-08-11T00:00:00.000000000",
          "2020-08-12T00:00:00.000000000",
          "2020-08-13T00:00:00.000000000",
          "2020-08-14T00:00:00.000000000",
          "2020-08-15T00:00:00.000000000",
          "2020-08-16T00:00:00.000000000",
          "2020-08-17T00:00:00.000000000",
          "2020-08-18T00:00:00.000000000",
          "2020-08-19T00:00:00.000000000",
          "2020-08-20T00:00:00.000000000",
          "2020-08-21T00:00:00.000000000",
          "2020-08-22T00:00:00.000000000",
          "2020-08-23T00:00:00.000000000",
          "2020-08-24T00:00:00.000000000",
          "2020-08-25T00:00:00.000000000",
          "2020-08-26T00:00:00.000000000",
          "2020-08-27T00:00:00.000000000",
          "2020-08-28T00:00:00.000000000",
          "2020-08-29T00:00:00.000000000",
          "2020-08-30T00:00:00.000000000",
          "2020-08-31T00:00:00.000000000",
          "2020-09-01T00:00:00.000000000",
          "2020-09-02T00:00:00.000000000",
          "2020-09-03T00:00:00.000000000",
          "2020-09-04T00:00:00.000000000",
          "2020-09-05T00:00:00.000000000",
          "2020-09-06T00:00:00.000000000",
          "2020-09-07T00:00:00.000000000",
          "2020-09-08T00:00:00.000000000",
          "2020-09-09T00:00:00.000000000",
          "2020-09-10T00:00:00.000000000",
          "2020-09-11T00:00:00.000000000",
          "2020-09-12T00:00:00.000000000",
          "2020-09-13T00:00:00.000000000",
          "2020-09-14T00:00:00.000000000",
          "2020-09-15T00:00:00.000000000",
          "2020-09-16T00:00:00.000000000",
          "2020-09-17T00:00:00.000000000",
          "2020-09-18T00:00:00.000000000",
          "2020-09-19T00:00:00.000000000",
          "2020-09-20T00:00:00.000000000",
          "2020-09-21T00:00:00.000000000",
          "2020-09-22T00:00:00.000000000",
          "2020-09-23T00:00:00.000000000",
          "2020-09-24T00:00:00.000000000",
          "2020-09-25T00:00:00.000000000",
          "2020-09-26T00:00:00.000000000",
          "2020-09-27T00:00:00.000000000",
          "2020-09-28T00:00:00.000000000",
          "2020-09-29T00:00:00.000000000",
          "2020-09-30T00:00:00.000000000",
          "2020-10-01T00:00:00.000000000",
          "2020-10-02T00:00:00.000000000",
          "2020-10-03T00:00:00.000000000",
          "2020-10-04T00:00:00.000000000",
          "2020-10-05T00:00:00.000000000",
          "2020-10-06T00:00:00.000000000",
          "2020-10-07T00:00:00.000000000",
          "2020-10-08T00:00:00.000000000",
          "2020-10-09T00:00:00.000000000",
          "2020-10-10T00:00:00.000000000",
          "2020-10-11T00:00:00.000000000",
          "2020-10-12T00:00:00.000000000",
          "2020-10-13T00:00:00.000000000",
          "2020-10-14T00:00:00.000000000",
          "2020-10-15T00:00:00.000000000",
          "2020-10-16T00:00:00.000000000",
          "2020-10-17T00:00:00.000000000",
          "2020-10-18T00:00:00.000000000",
          "2020-10-19T00:00:00.000000000",
          "2020-10-20T00:00:00.000000000",
          "2020-10-21T00:00:00.000000000",
          "2020-10-22T00:00:00.000000000",
          "2020-10-23T00:00:00.000000000",
          "2020-10-24T00:00:00.000000000",
          "2020-10-25T00:00:00.000000000",
          "2020-10-26T00:00:00.000000000",
          "2020-10-27T00:00:00.000000000",
          "2020-10-28T00:00:00.000000000",
          "2020-10-29T00:00:00.000000000",
          "2020-10-30T00:00:00.000000000",
          "2020-10-31T00:00:00.000000000",
          "2022-02-01T00:00:00.000000000",
          "2022-02-02T00:00:00.000000000",
          "2022-02-03T00:00:00.000000000",
          "2022-02-04T00:00:00.000000000",
          "2022-02-05T00:00:00.000000000",
          "2022-02-06T00:00:00.000000000",
          "2022-02-07T00:00:00.000000000",
          "2022-02-08T00:00:00.000000000",
          "2022-02-09T00:00:00.000000000",
          "2022-02-10T00:00:00.000000000",
          "2022-02-11T00:00:00.000000000",
          "2022-02-12T00:00:00.000000000",
          "2022-02-13T00:00:00.000000000",
          "2022-02-14T00:00:00.000000000",
          "2022-02-15T00:00:00.000000000",
          "2022-02-16T00:00:00.000000000",
          "2022-02-17T00:00:00.000000000",
          "2022-02-18T00:00:00.000000000",
          "2022-02-19T00:00:00.000000000",
          "2022-02-20T00:00:00.000000000",
          "2022-02-21T00:00:00.000000000",
          "2022-02-22T00:00:00.000000000",
          "2022-02-23T00:00:00.000000000",
          "2022-02-24T00:00:00.000000000",
          "2022-02-25T00:00:00.000000000",
          "2022-02-26T00:00:00.000000000",
          "2022-02-27T00:00:00.000000000",
          "2022-02-28T00:00:00.000000000",
          "2022-03-01T00:00:00.000000000",
          "2022-03-02T00:00:00.000000000",
          "2022-03-03T00:00:00.000000000",
          "2022-03-04T00:00:00.000000000",
          "2022-03-05T00:00:00.000000000",
          "2022-03-06T00:00:00.000000000",
          "2022-03-07T00:00:00.000000000",
          "2022-03-08T00:00:00.000000000",
          "2022-03-09T00:00:00.000000000",
          "2022-03-10T00:00:00.000000000",
          "2022-03-11T00:00:00.000000000",
          "2022-03-12T00:00:00.000000000",
          "2022-03-13T00:00:00.000000000",
          "2022-03-14T00:00:00.000000000",
          "2022-03-15T00:00:00.000000000",
          "2022-03-16T00:00:00.000000000",
          "2022-03-17T00:00:00.000000000",
          "2022-03-18T00:00:00.000000000",
          "2022-03-19T00:00:00.000000000",
          "2022-03-20T00:00:00.000000000",
          "2022-03-21T00:00:00.000000000",
          "2022-03-22T00:00:00.000000000",
          "2022-03-23T00:00:00.000000000",
          "2022-03-24T00:00:00.000000000",
          "2022-03-25T00:00:00.000000000",
          "2022-03-26T00:00:00.000000000",
          "2022-03-27T00:00:00.000000000",
          "2022-03-28T00:00:00.000000000",
          "2022-03-29T00:00:00.000000000",
          "2022-03-30T00:00:00.000000000",
          "2022-03-31T00:00:00.000000000",
          "2022-04-01T00:00:00.000000000",
          "2022-04-02T00:00:00.000000000",
          "2022-04-03T00:00:00.000000000",
          "2022-04-04T00:00:00.000000000",
          "2022-04-05T00:00:00.000000000",
          "2022-04-06T00:00:00.000000000",
          "2022-04-07T00:00:00.000000000",
          "2022-04-08T00:00:00.000000000",
          "2022-04-09T00:00:00.000000000",
          "2022-04-10T00:00:00.000000000",
          "2022-04-11T00:00:00.000000000",
          "2022-04-12T00:00:00.000000000",
          "2022-04-13T00:00:00.000000000",
          "2022-04-14T00:00:00.000000000",
          "2022-04-15T00:00:00.000000000",
          "2022-04-16T00:00:00.000000000",
          "2022-04-17T00:00:00.000000000",
          "2022-04-18T00:00:00.000000000",
          "2022-04-19T00:00:00.000000000",
          "2022-04-20T00:00:00.000000000",
          "2022-04-21T00:00:00.000000000",
          "2022-04-22T00:00:00.000000000",
          "2022-04-23T00:00:00.000000000",
          "2022-04-24T00:00:00.000000000",
          "2022-04-25T00:00:00.000000000",
          "2022-04-26T00:00:00.000000000",
          "2022-04-27T00:00:00.000000000",
          "2022-04-28T00:00:00.000000000",
          "2022-04-29T00:00:00.000000000",
          "2022-04-30T00:00:00.000000000",
          "2022-05-01T00:00:00.000000000",
          "2022-05-02T00:00:00.000000000",
          "2022-05-03T00:00:00.000000000",
          "2022-05-04T00:00:00.000000000",
          "2022-05-05T00:00:00.000000000",
          "2022-05-06T00:00:00.000000000",
          "2022-05-07T00:00:00.000000000",
          "2022-05-08T00:00:00.000000000",
          "2022-05-09T00:00:00.000000000",
          "2022-05-10T00:00:00.000000000",
          "2022-05-11T00:00:00.000000000",
          "2022-05-12T00:00:00.000000000",
          "2022-05-13T00:00:00.000000000",
          "2022-05-14T00:00:00.000000000",
          "2022-05-15T00:00:00.000000000",
          "2022-05-16T00:00:00.000000000",
          "2022-05-17T00:00:00.000000000",
          "2022-05-18T00:00:00.000000000",
          "2022-05-19T00:00:00.000000000",
          "2022-05-20T00:00:00.000000000",
          "2022-05-21T00:00:00.000000000",
          "2022-05-22T00:00:00.000000000",
          "2022-05-23T00:00:00.000000000",
          "2022-05-24T00:00:00.000000000",
          "2022-05-25T00:00:00.000000000",
          "2022-05-26T00:00:00.000000000",
          "2022-05-27T00:00:00.000000000",
          "2022-05-28T00:00:00.000000000",
          "2022-05-29T00:00:00.000000000",
          "2022-05-30T00:00:00.000000000",
          "2022-05-31T00:00:00.000000000"
         ],
         "xaxis": "x",
         "y": {
          "bdata": "HgPCAkkCPwBCABkC7wIBBCQEqQNkAFwAkgIUA1ICigL1AUsANwClARoDJwU8BMoEuACaABsH3gqABBMFdgaoAIkAvwRYBG8HVgk3CioBuwDqBE8GFglsA4MCjwBcAEUD2QRbBH8E+gJUADcAfAJXA/UC0QP8AnUAaQAVA6YD/wLCAocCSQA7ALgE4wUkA4sD/QJGADAAUwJ1A38CHQRTAioANwBGAskC3wLtAkMBNQBUAL0CbwJZAjQAHQAaABAAEQAWABoAPgAzAUsAMQBGAbYBZwGBARsCRwBGAHgC8gESAkIC8gEzACgAugHbAboCUAICAjgAFgAUABYAHwAQACQAXgFDAZ8BSQKvAaQAdAD4AisD5QK2BRoEcwBuADkCcwWTA+0KDggaAW4BdQY1BDwFQgOVA9EAmgAmBTQFYwY2BB4DeQCPAMQCPASfAwYCvQE2AD4AoQH+AWYBKwNqAmAAVQBIAtYBswGEATsBIwAaABwAJgAtASwBQwNlAIYAeQLZATACJwLtATYAMgCIAZMBswJKArgBQgBBALICDQLIAZkBwgFAABUAMwAtAEUAXQFbATIAKQBSAX4B4AG6AYkBPgA0AFwBiwGOAakBYAEpAD0AhQG9AcgBYgFvATEAMQA8AZoB",
          "dtype": "i2"
         },
         "yaxis": "y"
        },
        {
         "mode": "lines",
         "name": "总阅读数",
         "type": "scatter",
         "x": [
          "2020-07-01T00:00:00.000000000",
          "2020-07-02T00:00:00.000000000",
          "2020-07-03T00:00:00.000000000",
          "2020-07-04T00:00:00.000000000",
          "2020-07-05T00:00:00.000000000",
          "2020-07-06T00:00:00.000000000",
          "2020-07-07T00:00:00.000000000",
          "2020-07-08T00:00:00.000000000",
          "2020-07-09T00:00:00.000000000",
          "2020-07-10T00:00:00.000000000",
          "2020-07-11T00:00:00.000000000",
          "2020-07-12T00:00:00.000000000",
          "2020-07-13T00:00:00.000000000",
          "2020-07-14T00:00:00.000000000",
          "2020-07-15T00:00:00.000000000",
          "2020-07-16T00:00:00.000000000",
          "2020-07-17T00:00:00.000000000",
          "2020-07-18T00:00:00.000000000",
          "2020-07-19T00:00:00.000000000",
          "2020-07-20T00:00:00.000000000",
          "2020-07-21T00:00:00.000000000",
          "2020-07-22T00:00:00.000000000",
          "2020-07-23T00:00:00.000000000",
          "2020-07-24T00:00:00.000000000",
          "2020-07-25T00:00:00.000000000",
          "2020-07-26T00:00:00.000000000",
          "2020-07-27T00:00:00.000000000",
          "2020-07-28T00:00:00.000000000",
          "2020-07-29T00:00:00.000000000",
          "2020-07-30T00:00:00.000000000",
          "2020-07-31T00:00:00.000000000",
          "2020-08-01T00:00:00.000000000",
          "2020-08-02T00:00:00.000000000",
          "2020-08-03T00:00:00.000000000",
          "2020-08-04T00:00:00.000000000",
          "2020-08-05T00:00:00.000000000",
          "2020-08-06T00:00:00.000000000",
          "2020-08-07T00:00:00.000000000",
          "2020-08-08T00:00:00.000000000",
          "2020-08-09T00:00:00.000000000",
          "2020-08-10T00:00:00.000000000",
          "2020-08-11T00:00:00.000000000",
          "2020-08-12T00:00:00.000000000",
          "2020-08-13T00:00:00.000000000",
          "2020-08-14T00:00:00.000000000",
          "2020-08-15T00:00:00.000000000",
          "2020-08-16T00:00:00.000000000",
          "2020-08-17T00:00:00.000000000",
          "2020-08-18T00:00:00.000000000",
          "2020-08-19T00:00:00.000000000",
          "2020-08-20T00:00:00.000000000",
          "2020-08-21T00:00:00.000000000",
          "2020-08-22T00:00:00.000000000",
          "2020-08-23T00:00:00.000000000",
          "2020-08-24T00:00:00.000000000",
          "2020-08-25T00:00:00.000000000",
          "2020-08-26T00:00:00.000000000",
          "2020-08-27T00:00:00.000000000",
          "2020-08-28T00:00:00.000000000",
          "2020-08-29T00:00:00.000000000",
          "2020-08-30T00:00:00.000000000",
          "2020-08-31T00:00:00.000000000",
          "2020-09-01T00:00:00.000000000",
          "2020-09-02T00:00:00.000000000",
          "2020-09-03T00:00:00.000000000",
          "2020-09-04T00:00:00.000000000",
          "2020-09-05T00:00:00.000000000",
          "2020-09-06T00:00:00.000000000",
          "2020-09-07T00:00:00.000000000",
          "2020-09-08T00:00:00.000000000",
          "2020-09-09T00:00:00.000000000",
          "2020-09-10T00:00:00.000000000",
          "2020-09-11T00:00:00.000000000",
          "2020-09-12T00:00:00.000000000",
          "2020-09-13T00:00:00.000000000",
          "2020-09-14T00:00:00.000000000",
          "2020-09-15T00:00:00.000000000",
          "2020-09-16T00:00:00.000000000",
          "2020-09-17T00:00:00.000000000",
          "2020-09-18T00:00:00.000000000",
          "2020-09-19T00:00:00.000000000",
          "2020-09-20T00:00:00.000000000",
          "2020-09-21T00:00:00.000000000",
          "2020-09-22T00:00:00.000000000",
          "2020-09-23T00:00:00.000000000",
          "2020-09-24T00:00:00.000000000",
          "2020-09-25T00:00:00.000000000",
          "2020-09-26T00:00:00.000000000",
          "2020-09-27T00:00:00.000000000",
          "2020-09-28T00:00:00.000000000",
          "2020-09-29T00:00:00.000000000",
          "2020-09-30T00:00:00.000000000",
          "2020-10-01T00:00:00.000000000",
          "2020-10-02T00:00:00.000000000",
          "2020-10-03T00:00:00.000000000",
          "2020-10-04T00:00:00.000000000",
          "2020-10-05T00:00:00.000000000",
          "2020-10-06T00:00:00.000000000",
          "2020-10-07T00:00:00.000000000",
          "2020-10-08T00:00:00.000000000",
          "2020-10-09T00:00:00.000000000",
          "2020-10-10T00:00:00.000000000",
          "2020-10-11T00:00:00.000000000",
          "2020-10-12T00:00:00.000000000",
          "2020-10-13T00:00:00.000000000",
          "2020-10-14T00:00:00.000000000",
          "2020-10-15T00:00:00.000000000",
          "2020-10-16T00:00:00.000000000",
          "2020-10-17T00:00:00.000000000",
          "2020-10-18T00:00:00.000000000",
          "2020-10-19T00:00:00.000000000",
          "2020-10-20T00:00:00.000000000",
          "2020-10-21T00:00:00.000000000",
          "2020-10-22T00:00:00.000000000",
          "2020-10-23T00:00:00.000000000",
          "2020-10-24T00:00:00.000000000",
          "2020-10-25T00:00:00.000000000",
          "2020-10-26T00:00:00.000000000",
          "2020-10-27T00:00:00.000000000",
          "2020-10-28T00:00:00.000000000",
          "2020-10-29T00:00:00.000000000",
          "2020-10-30T00:00:00.000000000",
          "2020-10-31T00:00:00.000000000",
          "2022-02-01T00:00:00.000000000",
          "2022-02-02T00:00:00.000000000",
          "2022-02-03T00:00:00.000000000",
          "2022-02-04T00:00:00.000000000",
          "2022-02-05T00:00:00.000000000",
          "2022-02-06T00:00:00.000000000",
          "2022-02-07T00:00:00.000000000",
          "2022-02-08T00:00:00.000000000",
          "2022-02-09T00:00:00.000000000",
          "2022-02-10T00:00:00.000000000",
          "2022-02-11T00:00:00.000000000",
          "2022-02-12T00:00:00.000000000",
          "2022-02-13T00:00:00.000000000",
          "2022-02-14T00:00:00.000000000",
          "2022-02-15T00:00:00.000000000",
          "2022-02-16T00:00:00.000000000",
          "2022-02-17T00:00:00.000000000",
          "2022-02-18T00:00:00.000000000",
          "2022-02-19T00:00:00.000000000",
          "2022-02-20T00:00:00.000000000",
          "2022-02-21T00:00:00.000000000",
          "2022-02-22T00:00:00.000000000",
          "2022-02-23T00:00:00.000000000",
          "2022-02-24T00:00:00.000000000",
          "2022-02-25T00:00:00.000000000",
          "2022-02-26T00:00:00.000000000",
          "2022-02-27T00:00:00.000000000",
          "2022-02-28T00:00:00.000000000",
          "2022-03-01T00:00:00.000000000",
          "2022-03-02T00:00:00.000000000",
          "2022-03-03T00:00:00.000000000",
          "2022-03-04T00:00:00.000000000",
          "2022-03-05T00:00:00.000000000",
          "2022-03-06T00:00:00.000000000",
          "2022-03-07T00:00:00.000000000",
          "2022-03-08T00:00:00.000000000",
          "2022-03-09T00:00:00.000000000",
          "2022-03-10T00:00:00.000000000",
          "2022-03-11T00:00:00.000000000",
          "2022-03-12T00:00:00.000000000",
          "2022-03-13T00:00:00.000000000",
          "2022-03-14T00:00:00.000000000",
          "2022-03-15T00:00:00.000000000",
          "2022-03-16T00:00:00.000000000",
          "2022-03-17T00:00:00.000000000",
          "2022-03-18T00:00:00.000000000",
          "2022-03-19T00:00:00.000000000",
          "2022-03-20T00:00:00.000000000",
          "2022-03-21T00:00:00.000000000",
          "2022-03-22T00:00:00.000000000",
          "2022-03-23T00:00:00.000000000",
          "2022-03-24T00:00:00.000000000",
          "2022-03-25T00:00:00.000000000",
          "2022-03-26T00:00:00.000000000",
          "2022-03-27T00:00:00.000000000",
          "2022-03-28T00:00:00.000000000",
          "2022-03-29T00:00:00.000000000",
          "2022-03-30T00:00:00.000000000",
          "2022-03-31T00:00:00.000000000",
          "2022-04-01T00:00:00.000000000",
          "2022-04-02T00:00:00.000000000",
          "2022-04-03T00:00:00.000000000",
          "2022-04-04T00:00:00.000000000",
          "2022-04-05T00:00:00.000000000",
          "2022-04-06T00:00:00.000000000",
          "2022-04-07T00:00:00.000000000",
          "2022-04-08T00:00:00.000000000",
          "2022-04-09T00:00:00.000000000",
          "2022-04-10T00:00:00.000000000",
          "2022-04-11T00:00:00.000000000",
          "2022-04-12T00:00:00.000000000",
          "2022-04-13T00:00:00.000000000",
          "2022-04-14T00:00:00.000000000",
          "2022-04-15T00:00:00.000000000",
          "2022-04-16T00:00:00.000000000",
          "2022-04-17T00:00:00.000000000",
          "2022-04-18T00:00:00.000000000",
          "2022-04-19T00:00:00.000000000",
          "2022-04-20T00:00:00.000000000",
          "2022-04-21T00:00:00.000000000",
          "2022-04-22T00:00:00.000000000",
          "2022-04-23T00:00:00.000000000",
          "2022-04-24T00:00:00.000000000",
          "2022-04-25T00:00:00.000000000",
          "2022-04-26T00:00:00.000000000",
          "2022-04-27T00:00:00.000000000",
          "2022-04-28T00:00:00.000000000",
          "2022-04-29T00:00:00.000000000",
          "2022-04-30T00:00:00.000000000",
          "2022-05-01T00:00:00.000000000",
          "2022-05-02T00:00:00.000000000",
          "2022-05-03T00:00:00.000000000",
          "2022-05-04T00:00:00.000000000",
          "2022-05-05T00:00:00.000000000",
          "2022-05-06T00:00:00.000000000",
          "2022-05-07T00:00:00.000000000",
          "2022-05-08T00:00:00.000000000",
          "2022-05-09T00:00:00.000000000",
          "2022-05-10T00:00:00.000000000",
          "2022-05-11T00:00:00.000000000",
          "2022-05-12T00:00:00.000000000",
          "2022-05-13T00:00:00.000000000",
          "2022-05-14T00:00:00.000000000",
          "2022-05-15T00:00:00.000000000",
          "2022-05-16T00:00:00.000000000",
          "2022-05-17T00:00:00.000000000",
          "2022-05-18T00:00:00.000000000",
          "2022-05-19T00:00:00.000000000",
          "2022-05-20T00:00:00.000000000",
          "2022-05-21T00:00:00.000000000",
          "2022-05-22T00:00:00.000000000",
          "2022-05-23T00:00:00.000000000",
          "2022-05-24T00:00:00.000000000",
          "2022-05-25T00:00:00.000000000",
          "2022-05-26T00:00:00.000000000",
          "2022-05-27T00:00:00.000000000",
          "2022-05-28T00:00:00.000000000",
          "2022-05-29T00:00:00.000000000",
          "2022-05-30T00:00:00.000000000",
          "2022-05-31T00:00:00.000000000"
         ],
         "xaxis": "x2",
         "y": {
          "bdata": "/E4CAGNUAgDk5wEACVEAALtVAAAOuQEA1CUCAEQSAwBhOQMA9csCAAWTAADZcgAAFlwCAOZHAwDh2wEAjOQBAFukAQB7ngAAmmcAAIUIAgChKQMAgQsFAEq2BAC9HAQAgHoBAJlBAQBv6ggAMxMLABAqBQDH2AUAd2AFAB9UAQClWgEA2nAEABD7AwDybQYADxMIAM/sBgDUNwIAqJABAPVmBQBbegYAqX8IAJ8cBAAUqwIA10sBAOfVAAD6jgQAgCgGAJCSBQB/6AQAZgUDAIatAAATfgAAz/MCAOOUAwC2/QIAzJ0EAPD+AgBf8wAAeNAAACSSAwDZQwQAvYIDAKYdAwBNmwIA+q8AALSCAADQ4gQAjfsEAASoAgDLQwIApsIBAFeDAABLYQAAFqkCACzgAwBy5AIA0J0EAKutAgAjewAAQXIAAGR2AgDwZQMAu4kDAAcNAwB1ZgEA3VYAAKrRAAAj+gIA/f4CAPUCBgBaiQAAXlMAAEAnAADrKgAAayMAAAIuAABcLgAAEH0AAPDZAQA5kAAAmWUAAE3OAQBSuAIAHiICACgNAgDWdwIAdW0AABb5AACYiwMAP4QCAOsxAgBJJQIARMkBAL9GAADVOwAA2RUCAPzeAQDx8QIAa88CAKFxAgCacQAAv0gAACgqAACrQAAAzlMAAAx+AACOQAAAZn8BABdoAQCtewEAvCwCAFXzAQCiBgEAnrAAAIWcAgCcAgMAGoACAOrlBABBVwQAc+MAAHu2AAB6KwIAOBQFAGCWAwBsMgoA6GoIAABnAgCC3QMAjLEFAKjIAwAafwYA4E8DAMPDAwD87QEAueEAAN7PBADtqQQABKwFAMbLAwAWfAMAsuUAAKQXAQDE8QIAK94DAEgmCABTWgIAVrYCACCMAAD0fwAAbQ8CAJkzAgA8nQEAbLQDAJpeAwBLKgEAJ78AACDYAgALKgIAre0BAPsrAgDhCwIA8HgAABJaAACUVAAAQFgAAN6YAQCfbwEA+D4EANngAACw8gAAMvQCANMgAgBJkQIAMowCAAVNAgAuiAAA31wAAH3AAQAwpQEA1AcDABR2AgCjLAIAh44AAFeRAADLpAIATiACAC0HAgC83QEAGLACANKgAADiPAAAr44AAGRxAADDeAAAIsEBABY+AQAcIwAAURwAABizAQD7sgEAkvkBAFj0AQC0JwIA3bsAAGZnAAC4ygEAZ1EBAPsvAQBTIwEAI7YAAIUmAAAVJwAASMgAAFHYAAAl9wAAs80AALC3AAAKKQAAxCUAAEq3AADO7AAA",
          "dtype": "i4"
         },
         "yaxis": "y2"
        },
        {
         "mode": "lines",
         "name": "Overall Sent Ratio",
         "type": "scatter",
         "x": [
          "2020-07-01T00:00:00.000000000",
          "2020-07-02T00:00:00.000000000",
          "2020-07-03T00:00:00.000000000",
          "2020-07-04T00:00:00.000000000",
          "2020-07-05T00:00:00.000000000",
          "2020-07-06T00:00:00.000000000",
          "2020-07-07T00:00:00.000000000",
          "2020-07-08T00:00:00.000000000",
          "2020-07-09T00:00:00.000000000",
          "2020-07-10T00:00:00.000000000",
          "2020-07-11T00:00:00.000000000",
          "2020-07-12T00:00:00.000000000",
          "2020-07-13T00:00:00.000000000",
          "2020-07-14T00:00:00.000000000",
          "2020-07-15T00:00:00.000000000",
          "2020-07-16T00:00:00.000000000",
          "2020-07-17T00:00:00.000000000",
          "2020-07-18T00:00:00.000000000",
          "2020-07-19T00:00:00.000000000",
          "2020-07-20T00:00:00.000000000",
          "2020-07-21T00:00:00.000000000",
          "2020-07-22T00:00:00.000000000",
          "2020-07-23T00:00:00.000000000",
          "2020-07-24T00:00:00.000000000",
          "2020-07-25T00:00:00.000000000",
          "2020-07-26T00:00:00.000000000",
          "2020-07-27T00:00:00.000000000",
          "2020-07-28T00:00:00.000000000",
          "2020-07-29T00:00:00.000000000",
          "2020-07-30T00:00:00.000000000",
          "2020-07-31T00:00:00.000000000",
          "2020-08-01T00:00:00.000000000",
          "2020-08-02T00:00:00.000000000",
          "2020-08-03T00:00:00.000000000",
          "2020-08-04T00:00:00.000000000",
          "2020-08-05T00:00:00.000000000",
          "2020-08-06T00:00:00.000000000",
          "2020-08-07T00:00:00.000000000",
          "2020-08-08T00:00:00.000000000",
          "2020-08-09T00:00:00.000000000",
          "2020-08-10T00:00:00.000000000",
          "2020-08-11T00:00:00.000000000",
          "2020-08-12T00:00:00.000000000",
          "2020-08-13T00:00:00.000000000",
          "2020-08-14T00:00:00.000000000",
          "2020-08-15T00:00:00.000000000",
          "2020-08-16T00:00:00.000000000",
          "2020-08-17T00:00:00.000000000",
          "2020-08-18T00:00:00.000000000",
          "2020-08-19T00:00:00.000000000",
          "2020-08-20T00:00:00.000000000",
          "2020-08-21T00:00:00.000000000",
          "2020-08-22T00:00:00.000000000",
          "2020-08-23T00:00:00.000000000",
          "2020-08-24T00:00:00.000000000",
          "2020-08-25T00:00:00.000000000",
          "2020-08-26T00:00:00.000000000",
          "2020-08-27T00:00:00.000000000",
          "2020-08-28T00:00:00.000000000",
          "2020-08-29T00:00:00.000000000",
          "2020-08-30T00:00:00.000000000",
          "2020-08-31T00:00:00.000000000",
          "2020-09-01T00:00:00.000000000",
          "2020-09-02T00:00:00.000000000",
          "2020-09-03T00:00:00.000000000",
          "2020-09-04T00:00:00.000000000",
          "2020-09-05T00:00:00.000000000",
          "2020-09-06T00:00:00.000000000",
          "2020-09-07T00:00:00.000000000",
          "2020-09-08T00:00:00.000000000",
          "2020-09-09T00:00:00.000000000",
          "2020-09-10T00:00:00.000000000",
          "2020-09-11T00:00:00.000000000",
          "2020-09-12T00:00:00.000000000",
          "2020-09-13T00:00:00.000000000",
          "2020-09-14T00:00:00.000000000",
          "2020-09-15T00:00:00.000000000",
          "2020-09-16T00:00:00.000000000",
          "2020-09-17T00:00:00.000000000",
          "2020-09-18T00:00:00.000000000",
          "2020-09-19T00:00:00.000000000",
          "2020-09-20T00:00:00.000000000",
          "2020-09-21T00:00:00.000000000",
          "2020-09-22T00:00:00.000000000",
          "2020-09-23T00:00:00.000000000",
          "2020-09-24T00:00:00.000000000",
          "2020-09-25T00:00:00.000000000",
          "2020-09-26T00:00:00.000000000",
          "2020-09-27T00:00:00.000000000",
          "2020-09-28T00:00:00.000000000",
          "2020-09-29T00:00:00.000000000",
          "2020-09-30T00:00:00.000000000",
          "2020-10-01T00:00:00.000000000",
          "2020-10-02T00:00:00.000000000",
          "2020-10-03T00:00:00.000000000",
          "2020-10-04T00:00:00.000000000",
          "2020-10-05T00:00:00.000000000",
          "2020-10-06T00:00:00.000000000",
          "2020-10-07T00:00:00.000000000",
          "2020-10-08T00:00:00.000000000",
          "2020-10-09T00:00:00.000000000",
          "2020-10-10T00:00:00.000000000",
          "2020-10-11T00:00:00.000000000",
          "2020-10-12T00:00:00.000000000",
          "2020-10-13T00:00:00.000000000",
          "2020-10-14T00:00:00.000000000",
          "2020-10-15T00:00:00.000000000",
          "2020-10-16T00:00:00.000000000",
          "2020-10-17T00:00:00.000000000",
          "2020-10-18T00:00:00.000000000",
          "2020-10-19T00:00:00.000000000",
          "2020-10-20T00:00:00.000000000",
          "2020-10-21T00:00:00.000000000",
          "2020-10-22T00:00:00.000000000",
          "2020-10-23T00:00:00.000000000",
          "2020-10-24T00:00:00.000000000",
          "2020-10-25T00:00:00.000000000",
          "2020-10-26T00:00:00.000000000",
          "2020-10-27T00:00:00.000000000",
          "2020-10-28T00:00:00.000000000",
          "2020-10-29T00:00:00.000000000",
          "2020-10-30T00:00:00.000000000",
          "2020-10-31T00:00:00.000000000",
          "2022-02-01T00:00:00.000000000",
          "2022-02-02T00:00:00.000000000",
          "2022-02-03T00:00:00.000000000",
          "2022-02-04T00:00:00.000000000",
          "2022-02-05T00:00:00.000000000",
          "2022-02-06T00:00:00.000000000",
          "2022-02-07T00:00:00.000000000",
          "2022-02-08T00:00:00.000000000",
          "2022-02-09T00:00:00.000000000",
          "2022-02-10T00:00:00.000000000",
          "2022-02-11T00:00:00.000000000",
          "2022-02-12T00:00:00.000000000",
          "2022-02-13T00:00:00.000000000",
          "2022-02-14T00:00:00.000000000",
          "2022-02-15T00:00:00.000000000",
          "2022-02-16T00:00:00.000000000",
          "2022-02-17T00:00:00.000000000",
          "2022-02-18T00:00:00.000000000",
          "2022-02-19T00:00:00.000000000",
          "2022-02-20T00:00:00.000000000",
          "2022-02-21T00:00:00.000000000",
          "2022-02-22T00:00:00.000000000",
          "2022-02-23T00:00:00.000000000",
          "2022-02-24T00:00:00.000000000",
          "2022-02-25T00:00:00.000000000",
          "2022-02-26T00:00:00.000000000",
          "2022-02-27T00:00:00.000000000",
          "2022-02-28T00:00:00.000000000",
          "2022-03-01T00:00:00.000000000",
          "2022-03-02T00:00:00.000000000",
          "2022-03-03T00:00:00.000000000",
          "2022-03-04T00:00:00.000000000",
          "2022-03-05T00:00:00.000000000",
          "2022-03-06T00:00:00.000000000",
          "2022-03-07T00:00:00.000000000",
          "2022-03-08T00:00:00.000000000",
          "2022-03-09T00:00:00.000000000",
          "2022-03-10T00:00:00.000000000",
          "2022-03-11T00:00:00.000000000",
          "2022-03-12T00:00:00.000000000",
          "2022-03-13T00:00:00.000000000",
          "2022-03-14T00:00:00.000000000",
          "2022-03-15T00:00:00.000000000",
          "2022-03-16T00:00:00.000000000",
          "2022-03-17T00:00:00.000000000",
          "2022-03-18T00:00:00.000000000",
          "2022-03-19T00:00:00.000000000",
          "2022-03-20T00:00:00.000000000",
          "2022-03-21T00:00:00.000000000",
          "2022-03-22T00:00:00.000000000",
          "2022-03-23T00:00:00.000000000",
          "2022-03-24T00:00:00.000000000",
          "2022-03-25T00:00:00.000000000",
          "2022-03-26T00:00:00.000000000",
          "2022-03-27T00:00:00.000000000",
          "2022-03-28T00:00:00.000000000",
          "2022-03-29T00:00:00.000000000",
          "2022-03-30T00:00:00.000000000",
          "2022-03-31T00:00:00.000000000",
          "2022-04-01T00:00:00.000000000",
          "2022-04-02T00:00:00.000000000",
          "2022-04-03T00:00:00.000000000",
          "2022-04-04T00:00:00.000000000",
          "2022-04-05T00:00:00.000000000",
          "2022-04-06T00:00:00.000000000",
          "2022-04-07T00:00:00.000000000",
          "2022-04-08T00:00:00.000000000",
          "2022-04-09T00:00:00.000000000",
          "2022-04-10T00:00:00.000000000",
          "2022-04-11T00:00:00.000000000",
          "2022-04-12T00:00:00.000000000",
          "2022-04-13T00:00:00.000000000",
          "2022-04-14T00:00:00.000000000",
          "2022-04-15T00:00:00.000000000",
          "2022-04-16T00:00:00.000000000",
          "2022-04-17T00:00:00.000000000",
          "2022-04-18T00:00:00.000000000",
          "2022-04-19T00:00:00.000000000",
          "2022-04-20T00:00:00.000000000",
          "2022-04-21T00:00:00.000000000",
          "2022-04-22T00:00:00.000000000",
          "2022-04-23T00:00:00.000000000",
          "2022-04-24T00:00:00.000000000",
          "2022-04-25T00:00:00.000000000",
          "2022-04-26T00:00:00.000000000",
          "2022-04-27T00:00:00.000000000",
          "2022-04-28T00:00:00.000000000",
          "2022-04-29T00:00:00.000000000",
          "2022-04-30T00:00:00.000000000",
          "2022-05-01T00:00:00.000000000",
          "2022-05-02T00:00:00.000000000",
          "2022-05-03T00:00:00.000000000",
          "2022-05-04T00:00:00.000000000",
          "2022-05-05T00:00:00.000000000",
          "2022-05-06T00:00:00.000000000",
          "2022-05-07T00:00:00.000000000",
          "2022-05-08T00:00:00.000000000",
          "2022-05-09T00:00:00.000000000",
          "2022-05-10T00:00:00.000000000",
          "2022-05-11T00:00:00.000000000",
          "2022-05-12T00:00:00.000000000",
          "2022-05-13T00:00:00.000000000",
          "2022-05-14T00:00:00.000000000",
          "2022-05-15T00:00:00.000000000",
          "2022-05-16T00:00:00.000000000",
          "2022-05-17T00:00:00.000000000",
          "2022-05-18T00:00:00.000000000",
          "2022-05-19T00:00:00.000000000",
          "2022-05-20T00:00:00.000000000",
          "2022-05-21T00:00:00.000000000",
          "2022-05-22T00:00:00.000000000",
          "2022-05-23T00:00:00.000000000",
          "2022-05-24T00:00:00.000000000",
          "2022-05-25T00:00:00.000000000",
          "2022-05-26T00:00:00.000000000",
          "2022-05-27T00:00:00.000000000",
          "2022-05-28T00:00:00.000000000",
          "2022-05-29T00:00:00.000000000",
          "2022-05-30T00:00:00.000000000",
          "2022-05-31T00:00:00.000000000"
         ],
         "xaxis": "x3",
         "y": {
          "bdata": "b8eH3fSmxz8hZIpM+8mCv1xwHQNV+sk/bCJnSVVV5T+5LMCBsNzTP5T35JZRENA/mJ7NoMhs0T8ljZFUVVXVPy94QJ5b4tQ/FyPAxzpXfr8TYE2S53nePx96Zs6VqN0/9N/PhKmuzD8GuuwqzGrEP7Rl+5kvB9g/CE5DGwlmoD9/VAXtby3BP5l8SMOjcO0/lqedYtFF1z+poZUHODTPP1mvkwGCIdk/X+2/jeM40D/9rsMccUfcP7HEXWLJL9Y/sl3a7zzP4z9LUsUgtJfgPzuReru1cNM/ZxQwWYtegb80IuRM27DQPxh+pqghmrI/knz7OXqs0j+aUPvjvjzmP0KXSYvXUN4/J7TuDIJTyT9vt0M9Nn3BP5tHlNe6QtM/dwFPIhB7xz+NK2Np+L5LPzGvk7ph7bs/U+WYr7S01D/41txSv+fGPwF9E7bjQ8C/zTFVeZbewr8jsy9TgFm4P9/oM5icyck/Sg9Zun0E5z+HE89Gb3rjP2HYZFRVVdU/qpQ6b5d60j+hEAWQkJDAP2SGFd8f4H+/F+FRb++Hub/zFX2qtLTkPwPGFaVFF90/HbPez0UXzT+uKrHRqXnAv35NwBwfgsQ/BM5BNmF+1z/BP/BYL2DLP4uLekxVVek/JqnC4yym4z+xhEZVspK1P5I0Wl1F4tU/r9rJegfxnb+0Gvc0lNewP430E+i8xcA/U3fT7P//3z/dhie7QhbiPyhw9RiLOc2/LjWb7kjkyb+O0EJYekizPwOzATmkJrg/vOtAIOmMw79sImdJVVXlP+PHS4CWlsa/ubuwA7OkjD/dw2Wg5E7RP9v2JEbzB8s/bC6uoGdyy78R01tbaBW4P9y5XiA8POw/f0RTkbyG4j+qgO4LbeLPv6eU5r2HWLi/6EZn990Dob8xW1bN8NOpv4yUnhH5rLs/tsw+GEmS5D8rYQvpFV/hP+1aYzCruM0/wdA/us5asj+heOJy0UXHP4XE22diJ+Y/22NffCRJ4j8DxhWlRRfdP09XrhlVVeU/T1euGVVV5T8Cqqb8XHTRP4AO2biJndg/exFFu0UX3T98Mp9SVVXVP1F3dS6U1+A/sD32CV104T/5LTVJDezNPxEMpPkcUtM/b61xz0UX1T+1Wf1PDPXHP0Jr6peZmck/Kt5ibYMp4j8jtYUHERHhP3NYTDIzM9E/ScbDU5biwD8xEGbU1dXVP6zF8itnOrw/g79rIwaBxT8yJrtmHMfhP9tjX3wkSeI/eUkBFl100T9w9ZSUtyTUPxMIDdvJEbs/u1DN6VG4vj/6NP8PyDXBP9ISW830puc/A//5eosu6j8tDBOAbdvmPx58pm6Zmck/AAAAAAAAAAAxX7NDmZnJPwP/+XqLLuo/wn6w2LZt2z+/HybGQhbiP869uHNiJ94/epve/f//3z86qvynqqreP1PlmK+0tOQ/MnY1Z9u25T9U0ZfnpH3gPwyt0tpJJdw/dhSXcjTb2D/WkmB8Q+vgPxKVaQwTkOE/0mYkpKqq4j+QEAeszyHlP62EOXNfHts/fdyOLOZF3T+Rv9bkrhjXP9bXWt1To+A/R5G8JwtG2z8XYqFNUFDgP5qBMANHT+A/a4Ntah3E4D8zC+by+XzeP4xCNwFtGuA/94Egr5KQ2T8vC1l6BqLSP5maqePXHuI/+ZDjV+rJ6D/NvgKCek/dP0JXL24wReI/o1I442zD2z9tsNoGbnfYP23Etx2F69E/frMNPhdd1D86Jz/GPY3gP1AiIjyNsNw/RgWbbFxItT/oveuuFKjVP/7JGF391d8/a3ryteGG2z8b9oPFtm3bP45goen//98/mE+MMTMz4z+a/8YZNPniPyv6THDnzt0/0Lk1aMcK5D8xxuXI5UXgP9Sjn2xiJ+Y/dInFVHTR5T/NKVIw2k7jP44M4wc5FeA/Z/YOszE03T+8yO9vHMfhPzY+k/3/f+I/xNGIOl5D6T8efKZumZnZP1n2IRixE+s/s0tihaqq6j+tefRsMaTjP+GrtnbTm94/8kH7cQpe5j9jgmmOIp/lP+Cy09/agek/21T+JFcQ4z+zgum0bNniP+dCRHHtwNw/NU8PlUGp4D/N4/xhIj3QPyJMu8iJneg/lqedYtFF5z+rQ7QpoHHnP3gdkHqRKOU/RTUIsCn63D9NqOB2Jz/IP6YFOAj4hds/FwgYIzMz4z+0lWtGVVXlPxU4umr17NA/sDtB5W3S3T9vTC2QOHjfP17DmPdbnNY/Ayo8QbJF5D9VZ9Ilz/PsPwJxwiYXXeQ/MTFKRFVV1T+OYKHp///fP2wiZ0lVVeU/bXeLl5mZ4z/AhQx9OODhP8kKIISZmdk/hAplAB4erj95aUukDXTaP00X+gIyKd4/dS/aHzXB2D84jvxn9iTfPx4rNH8FFtg/97/74zzP4z8xMUpEVVXVP3gzUBNf8dU/f/RG4TiO4z8a5FDCTZjfP6pZL+/N0No/dAs4VaJ25T8XCBgjMzPjP1znUfH//+s/+lzpaUJQ5j+YT4wxMzPjP8bcylxfX98/XWteSwPa5D8MLIR6yrTjP7A99glddOE/zdh01k1v6j9i6X2oqqriPwewMb8FLuA/",
          "dtype": "f8"
         },
         "yaxis": "y3"
        },
        {
         "line": {
          "dash": "dot"
         },
         "mode": "lines",
         "name": "WAvg Sent Ratio (Readnum)",
         "type": "scatter",
         "x": [
          "2020-07-01T00:00:00.000000000",
          "2020-07-02T00:00:00.000000000",
          "2020-07-03T00:00:00.000000000",
          "2020-07-04T00:00:00.000000000",
          "2020-07-05T00:00:00.000000000",
          "2020-07-06T00:00:00.000000000",
          "2020-07-07T00:00:00.000000000",
          "2020-07-08T00:00:00.000000000",
          "2020-07-09T00:00:00.000000000",
          "2020-07-10T00:00:00.000000000",
          "2020-07-11T00:00:00.000000000",
          "2020-07-12T00:00:00.000000000",
          "2020-07-13T00:00:00.000000000",
          "2020-07-14T00:00:00.000000000",
          "2020-07-15T00:00:00.000000000",
          "2020-07-16T00:00:00.000000000",
          "2020-07-17T00:00:00.000000000",
          "2020-07-18T00:00:00.000000000",
          "2020-07-19T00:00:00.000000000",
          "2020-07-20T00:00:00.000000000",
          "2020-07-21T00:00:00.000000000",
          "2020-07-22T00:00:00.000000000",
          "2020-07-23T00:00:00.000000000",
          "2020-07-24T00:00:00.000000000",
          "2020-07-25T00:00:00.000000000",
          "2020-07-26T00:00:00.000000000",
          "2020-07-27T00:00:00.000000000",
          "2020-07-28T00:00:00.000000000",
          "2020-07-29T00:00:00.000000000",
          "2020-07-30T00:00:00.000000000",
          "2020-07-31T00:00:00.000000000",
          "2020-08-01T00:00:00.000000000",
          "2020-08-02T00:00:00.000000000",
          "2020-08-03T00:00:00.000000000",
          "2020-08-04T00:00:00.000000000",
          "2020-08-05T00:00:00.000000000",
          "2020-08-06T00:00:00.000000000",
          "2020-08-07T00:00:00.000000000",
          "2020-08-08T00:00:00.000000000",
          "2020-08-09T00:00:00.000000000",
          "2020-08-10T00:00:00.000000000",
          "2020-08-11T00:00:00.000000000",
          "2020-08-12T00:00:00.000000000",
          "2020-08-13T00:00:00.000000000",
          "2020-08-14T00:00:00.000000000",
          "2020-08-15T00:00:00.000000000",
          "2020-08-16T00:00:00.000000000",
          "2020-08-17T00:00:00.000000000",
          "2020-08-18T00:00:00.000000000",
          "2020-08-19T00:00:00.000000000",
          "2020-08-20T00:00:00.000000000",
          "2020-08-21T00:00:00.000000000",
          "2020-08-22T00:00:00.000000000",
          "2020-08-23T00:00:00.000000000",
          "2020-08-24T00:00:00.000000000",
          "2020-08-25T00:00:00.000000000",
          "2020-08-26T00:00:00.000000000",
          "2020-08-27T00:00:00.000000000",
          "2020-08-28T00:00:00.000000000",
          "2020-08-29T00:00:00.000000000",
          "2020-08-30T00:00:00.000000000",
          "2020-08-31T00:00:00.000000000",
          "2020-09-01T00:00:00.000000000",
          "2020-09-02T00:00:00.000000000",
          "2020-09-03T00:00:00.000000000",
          "2020-09-04T00:00:00.000000000",
          "2020-09-05T00:00:00.000000000",
          "2020-09-06T00:00:00.000000000",
          "2020-09-07T00:00:00.000000000",
          "2020-09-08T00:00:00.000000000",
          "2020-09-09T00:00:00.000000000",
          "2020-09-10T00:00:00.000000000",
          "2020-09-11T00:00:00.000000000",
          "2020-09-12T00:00:00.000000000",
          "2020-09-13T00:00:00.000000000",
          "2020-09-14T00:00:00.000000000",
          "2020-09-15T00:00:00.000000000",
          "2020-09-16T00:00:00.000000000",
          "2020-09-17T00:00:00.000000000",
          "2020-09-18T00:00:00.000000000",
          "2020-09-19T00:00:00.000000000",
          "2020-09-20T00:00:00.000000000",
          "2020-09-21T00:00:00.000000000",
          "2020-09-22T00:00:00.000000000",
          "2020-09-23T00:00:00.000000000",
          "2020-09-24T00:00:00.000000000",
          "2020-09-25T00:00:00.000000000",
          "2020-09-26T00:00:00.000000000",
          "2020-09-27T00:00:00.000000000",
          "2020-09-28T00:00:00.000000000",
          "2020-09-29T00:00:00.000000000",
          "2020-09-30T00:00:00.000000000",
          "2020-10-01T00:00:00.000000000",
          "2020-10-02T00:00:00.000000000",
          "2020-10-03T00:00:00.000000000",
          "2020-10-04T00:00:00.000000000",
          "2020-10-05T00:00:00.000000000",
          "2020-10-06T00:00:00.000000000",
          "2020-10-07T00:00:00.000000000",
          "2020-10-08T00:00:00.000000000",
          "2020-10-09T00:00:00.000000000",
          "2020-10-10T00:00:00.000000000",
          "2020-10-11T00:00:00.000000000",
          "2020-10-12T00:00:00.000000000",
          "2020-10-13T00:00:00.000000000",
          "2020-10-14T00:00:00.000000000",
          "2020-10-15T00:00:00.000000000",
          "2020-10-16T00:00:00.000000000",
          "2020-10-17T00:00:00.000000000",
          "2020-10-18T00:00:00.000000000",
          "2020-10-19T00:00:00.000000000",
          "2020-10-20T00:00:00.000000000",
          "2020-10-21T00:00:00.000000000",
          "2020-10-22T00:00:00.000000000",
          "2020-10-23T00:00:00.000000000",
          "2020-10-24T00:00:00.000000000",
          "2020-10-25T00:00:00.000000000",
          "2020-10-26T00:00:00.000000000",
          "2020-10-27T00:00:00.000000000",
          "2020-10-28T00:00:00.000000000",
          "2020-10-29T00:00:00.000000000",
          "2020-10-30T00:00:00.000000000",
          "2020-10-31T00:00:00.000000000",
          "2022-02-01T00:00:00.000000000",
          "2022-02-02T00:00:00.000000000",
          "2022-02-03T00:00:00.000000000",
          "2022-02-04T00:00:00.000000000",
          "2022-02-05T00:00:00.000000000",
          "2022-02-06T00:00:00.000000000",
          "2022-02-07T00:00:00.000000000",
          "2022-02-08T00:00:00.000000000",
          "2022-02-09T00:00:00.000000000",
          "2022-02-10T00:00:00.000000000",
          "2022-02-11T00:00:00.000000000",
          "2022-02-12T00:00:00.000000000",
          "2022-02-13T00:00:00.000000000",
          "2022-02-14T00:00:00.000000000",
          "2022-02-15T00:00:00.000000000",
          "2022-02-16T00:00:00.000000000",
          "2022-02-17T00:00:00.000000000",
          "2022-02-18T00:00:00.000000000",
          "2022-02-19T00:00:00.000000000",
          "2022-02-20T00:00:00.000000000",
          "2022-02-21T00:00:00.000000000",
          "2022-02-22T00:00:00.000000000",
          "2022-02-23T00:00:00.000000000",
          "2022-02-24T00:00:00.000000000",
          "2022-02-25T00:00:00.000000000",
          "2022-02-26T00:00:00.000000000",
          "2022-02-27T00:00:00.000000000",
          "2022-02-28T00:00:00.000000000",
          "2022-03-01T00:00:00.000000000",
          "2022-03-02T00:00:00.000000000",
          "2022-03-03T00:00:00.000000000",
          "2022-03-04T00:00:00.000000000",
          "2022-03-05T00:00:00.000000000",
          "2022-03-06T00:00:00.000000000",
          "2022-03-07T00:00:00.000000000",
          "2022-03-08T00:00:00.000000000",
          "2022-03-09T00:00:00.000000000",
          "2022-03-10T00:00:00.000000000",
          "2022-03-11T00:00:00.000000000",
          "2022-03-12T00:00:00.000000000",
          "2022-03-13T00:00:00.000000000",
          "2022-03-14T00:00:00.000000000",
          "2022-03-15T00:00:00.000000000",
          "2022-03-16T00:00:00.000000000",
          "2022-03-17T00:00:00.000000000",
          "2022-03-18T00:00:00.000000000",
          "2022-03-19T00:00:00.000000000",
          "2022-03-20T00:00:00.000000000",
          "2022-03-21T00:00:00.000000000",
          "2022-03-22T00:00:00.000000000",
          "2022-03-23T00:00:00.000000000",
          "2022-03-24T00:00:00.000000000",
          "2022-03-25T00:00:00.000000000",
          "2022-03-26T00:00:00.000000000",
          "2022-03-27T00:00:00.000000000",
          "2022-03-28T00:00:00.000000000",
          "2022-03-29T00:00:00.000000000",
          "2022-03-30T00:00:00.000000000",
          "2022-03-31T00:00:00.000000000",
          "2022-04-01T00:00:00.000000000",
          "2022-04-02T00:00:00.000000000",
          "2022-04-03T00:00:00.000000000",
          "2022-04-04T00:00:00.000000000",
          "2022-04-05T00:00:00.000000000",
          "2022-04-06T00:00:00.000000000",
          "2022-04-07T00:00:00.000000000",
          "2022-04-08T00:00:00.000000000",
          "2022-04-09T00:00:00.000000000",
          "2022-04-10T00:00:00.000000000",
          "2022-04-11T00:00:00.000000000",
          "2022-04-12T00:00:00.000000000",
          "2022-04-13T00:00:00.000000000",
          "2022-04-14T00:00:00.000000000",
          "2022-04-15T00:00:00.000000000",
          "2022-04-16T00:00:00.000000000",
          "2022-04-17T00:00:00.000000000",
          "2022-04-18T00:00:00.000000000",
          "2022-04-19T00:00:00.000000000",
          "2022-04-20T00:00:00.000000000",
          "2022-04-21T00:00:00.000000000",
          "2022-04-22T00:00:00.000000000",
          "2022-04-23T00:00:00.000000000",
          "2022-04-24T00:00:00.000000000",
          "2022-04-25T00:00:00.000000000",
          "2022-04-26T00:00:00.000000000",
          "2022-04-27T00:00:00.000000000",
          "2022-04-28T00:00:00.000000000",
          "2022-04-29T00:00:00.000000000",
          "2022-04-30T00:00:00.000000000",
          "2022-05-01T00:00:00.000000000",
          "2022-05-02T00:00:00.000000000",
          "2022-05-03T00:00:00.000000000",
          "2022-05-04T00:00:00.000000000",
          "2022-05-05T00:00:00.000000000",
          "2022-05-06T00:00:00.000000000",
          "2022-05-07T00:00:00.000000000",
          "2022-05-08T00:00:00.000000000",
          "2022-05-09T00:00:00.000000000",
          "2022-05-10T00:00:00.000000000",
          "2022-05-11T00:00:00.000000000",
          "2022-05-12T00:00:00.000000000",
          "2022-05-13T00:00:00.000000000",
          "2022-05-14T00:00:00.000000000",
          "2022-05-15T00:00:00.000000000",
          "2022-05-16T00:00:00.000000000",
          "2022-05-17T00:00:00.000000000",
          "2022-05-18T00:00:00.000000000",
          "2022-05-19T00:00:00.000000000",
          "2022-05-20T00:00:00.000000000",
          "2022-05-21T00:00:00.000000000",
          "2022-05-22T00:00:00.000000000",
          "2022-05-23T00:00:00.000000000",
          "2022-05-24T00:00:00.000000000",
          "2022-05-25T00:00:00.000000000",
          "2022-05-26T00:00:00.000000000",
          "2022-05-27T00:00:00.000000000",
          "2022-05-28T00:00:00.000000000",
          "2022-05-29T00:00:00.000000000",
          "2022-05-30T00:00:00.000000000",
          "2022-05-31T00:00:00.000000000"
         ],
         "xaxis": "x3",
         "y": {
          "bdata": "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",
          "dtype": "f8"
         },
         "yaxis": "y3"
        }
       ],
       "layout": {
        "annotations": [
         {
          "font": {
           "size": 16
          },
          "showarrow": false,
          "text": "每日总发帖量",
          "x": 0.5,
          "xanchor": "center",
          "xref": "paper",
          "y": 1,
          "yanchor": "bottom",
          "yref": "paper"
         },
         {
          "font": {
           "size": 16
          },
          "showarrow": false,
          "text": "每日总阅读数",
          "x": 0.5,
          "xanchor": "center",
          "xref": "paper",
          "y": 0.6111111111111112,
          "yanchor": "bottom",
          "yref": "paper"
         },
         {
          "font": {
           "size": 16
          },
          "showarrow": false,
          "text": "每日聚合情感比率 (Overall & 加权阅读数)",
          "x": 0.5,
          "xanchor": "center",
          "xref": "paper",
          "y": 0.22222222222222224,
          "yanchor": "bottom",
          "yref": "paper"
         }
        ],
        "height": 1000,
        "shapes": [
         {
          "line": {
           "color": "grey",
           "dash": "dash",
           "width": 1
          },
          "type": "line",
          "x0": 0,
          "x1": 1,
          "xref": "x3 domain",
          "y0": 0,
          "y1": 0,
          "yref": "y3"
         }
        ],
        "template": {
         "data": {
          "bar": [
           {
            "error_x": {
             "color": "#2a3f5f"
            },
            "error_y": {
             "color": "#2a3f5f"
            },
            "marker": {
             "line": {
              "color": "#E5ECF6",
              "width": 0.5
             },
             "pattern": {
              "fillmode": "overlay",
              "size": 10,
              "solidity": 0.2
             }
            },
            "type": "bar"
           }
          ],
          "barpolar": [
           {
            "marker": {
             "line": {
              "color": "#E5ECF6",
              "width": 0.5
             },
             "pattern": {
              "fillmode": "overlay",
              "size": 10,
              "solidity": 0.2
             }
            },
            "type": "barpolar"
           }
          ],
          "carpet": [
           {
            "aaxis": {
             "endlinecolor": "#2a3f5f",
             "gridcolor": "white",
             "linecolor": "white",
             "minorgridcolor": "white",
             "startlinecolor": "#2a3f5f"
            },
            "baxis": {
             "endlinecolor": "#2a3f5f",
             "gridcolor": "white",
             "linecolor": "white",
             "minorgridcolor": "white",
             "startlinecolor": "#2a3f5f"
            },
            "type": "carpet"
           }
          ],
          "choropleth": [
           {
            "colorbar": {
             "outlinewidth": 0,
             "ticks": ""
            },
            "type": "choropleth"
           }
          ],
          "contour": [
           {
            "colorbar": {
             "outlinewidth": 0,
             "ticks": ""
            },
            "colorscale": [
             [
              0,
              "#0d0887"
             ],
             [
              0.1111111111111111,
              "#46039f"
             ],
             [
              0.2222222222222222,
              "#7201a8"
             ],
             [
              0.3333333333333333,
              "#9c179e"
             ],
             [
              0.4444444444444444,
              "#bd3786"
             ],
             [
              0.5555555555555556,
              "#d8576b"
             ],
             [
              0.6666666666666666,
              "#ed7953"
             ],
             [
              0.7777777777777778,
              "#fb9f3a"
             ],
             [
              0.8888888888888888,
              "#fdca26"
             ],
             [
              1,
              "#f0f921"
             ]
            ],
            "type": "contour"
           }
          ],
          "contourcarpet": [
           {
            "colorbar": {
             "outlinewidth": 0,
             "ticks": ""
            },
            "type": "contourcarpet"
           }
          ],
          "heatmap": [
           {
            "colorbar": {
             "outlinewidth": 0,
             "ticks": ""
            },
            "colorscale": [
             [
              0,
              "#0d0887"
             ],
             [
              0.1111111111111111,
              "#46039f"
             ],
             [
              0.2222222222222222,
              "#7201a8"
             ],
             [
              0.3333333333333333,
              "#9c179e"
             ],
             [
              0.4444444444444444,
              "#bd3786"
             ],
             [
              0.5555555555555556,
              "#d8576b"
             ],
             [
              0.6666666666666666,
              "#ed7953"
             ],
             [
              0.7777777777777778,
              "#fb9f3a"
             ],
             [
              0.8888888888888888,
              "#fdca26"
             ],
             [
              1,
              "#f0f921"
             ]
            ],
            "type": "heatmap"
           }
          ],
          "histogram": [
           {
            "marker": {
             "pattern": {
              "fillmode": "overlay",
              "size": 10,
              "solidity": 0.2
             }
            },
            "type": "histogram"
           }
          ],
          "histogram2d": [
           {
            "colorbar": {
             "outlinewidth": 0,
             "ticks": ""
            },
            "colorscale": [
             [
              0,
              "#0d0887"
             ],
             [
              0.1111111111111111,
              "#46039f"
             ],
             [
              0.2222222222222222,
              "#7201a8"
             ],
             [
              0.3333333333333333,
              "#9c179e"
             ],
             [
              0.4444444444444444,
              "#bd3786"
             ],
             [
              0.5555555555555556,
              "#d8576b"
             ],
             [
              0.6666666666666666,
              "#ed7953"
             ],
             [
              0.7777777777777778,
              "#fb9f3a"
             ],
             [
              0.8888888888888888,
              "#fdca26"
             ],
             [
              1,
              "#f0f921"
             ]
            ],
            "type": "histogram2d"
           }
          ],
          "histogram2dcontour": [
           {
            "colorbar": {
             "outlinewidth": 0,
             "ticks": ""
            },
            "colorscale": [
             [
              0,
              "#0d0887"
             ],
             [
              0.1111111111111111,
              "#46039f"
             ],
             [
              0.2222222222222222,
              "#7201a8"
             ],
             [
              0.3333333333333333,
              "#9c179e"
             ],
             [
              0.4444444444444444,
              "#bd3786"
             ],
             [
              0.5555555555555556,
              "#d8576b"
             ],
             [
              0.6666666666666666,
              "#ed7953"
             ],
             [
              0.7777777777777778,
              "#fb9f3a"
             ],
             [
              0.8888888888888888,
              "#fdca26"
             ],
             [
              1,
              "#f0f921"
             ]
            ],
            "type": "histogram2dcontour"
           }
          ],
          "mesh3d": [
           {
            "colorbar": {
             "outlinewidth": 0,
             "ticks": ""
            },
            "type": "mesh3d"
           }
          ],
          "parcoords": [
           {
            "line": {
             "colorbar": {
              "outlinewidth": 0,
              "ticks": ""
             }
            },
            "type": "parcoords"
           }
          ],
          "pie": [
           {
            "automargin": true,
            "type": "pie"
           }
          ],
          "scatter": [
           {
            "fillpattern": {
             "fillmode": "overlay",
             "size": 10,
             "solidity": 0.2
            },
            "type": "scatter"
           }
          ],
          "scatter3d": [
           {
            "line": {
             "colorbar": {
              "outlinewidth": 0,
              "ticks": ""
             }
            },
            "marker": {
             "colorbar": {
              "outlinewidth": 0,
              "ticks": ""
             }
            },
            "type": "scatter3d"
           }
          ],
          "scattercarpet": [
           {
            "marker": {
             "colorbar": {
              "outlinewidth": 0,
              "ticks": ""
             }
            },
            "type": "scattercarpet"
           }
          ],
          "scattergeo": [
           {
            "marker": {
             "colorbar": {
              "outlinewidth": 0,
              "ticks": ""
             }
            },
            "type": "scattergeo"
           }
          ],
          "scattergl": [
           {
            "marker": {
             "colorbar": {
              "outlinewidth": 0,
              "ticks": ""
             }
            },
            "type": "scattergl"
           }
          ],
          "scattermap": [
           {
            "marker": {
             "colorbar": {
              "outlinewidth": 0,
              "ticks": ""
             }
            },
            "type": "scattermap"
           }
          ],
          "scattermapbox": [
           {
            "marker": {
             "colorbar": {
              "outlinewidth": 0,
              "ticks": ""
             }
            },
            "type": "scattermapbox"
           }
          ],
          "scatterpolar": [
           {
            "marker": {
             "colorbar": {
              "outlinewidth": 0,
              "ticks": ""
             }
            },
            "type": "scatterpolar"
           }
          ],
          "scatterpolargl": [
           {
            "marker": {
             "colorbar": {
              "outlinewidth": 0,
              "ticks": ""
             }
            },
            "type": "scatterpolargl"
           }
          ],
          "scatterternary": [
           {
            "marker": {
             "colorbar": {
              "outlinewidth": 0,
              "ticks": ""
             }
            },
            "type": "scatterternary"
           }
          ],
          "surface": [
           {
            "colorbar": {
             "outlinewidth": 0,
             "ticks": ""
            },
            "colorscale": [
             [
              0,
              "#0d0887"
             ],
             [
              0.1111111111111111,
              "#46039f"
             ],
             [
              0.2222222222222222,
              "#7201a8"
             ],
             [
              0.3333333333333333,
              "#9c179e"
             ],
             [
              0.4444444444444444,
              "#bd3786"
             ],
             [
              0.5555555555555556,
              "#d8576b"
             ],
             [
              0.6666666666666666,
              "#ed7953"
             ],
             [
              0.7777777777777778,
              "#fb9f3a"
             ],
             [
              0.8888888888888888,
              "#fdca26"
             ],
             [
              1,
              "#f0f921"
             ]
            ],
            "type": "surface"
           }
          ],
          "table": [
           {
            "cells": {
             "fill": {
              "color": "#EBF0F8"
             },
             "line": {
              "color": "white"
             }
            },
            "header": {
             "fill": {
              "color": "#C8D4E3"
             },
             "line": {
              "color": "white"
             }
            },
            "type": "table"
           }
          ]
         },
         "layout": {
          "annotationdefaults": {
           "arrowcolor": "#2a3f5f",
           "arrowhead": 0,
           "arrowwidth": 1
          },
          "autotypenumbers": "strict",
          "coloraxis": {
           "colorbar": {
            "outlinewidth": 0,
            "ticks": ""
           }
          },
          "colorscale": {
           "diverging": [
            [
             0,
             "#8e0152"
            ],
            [
             0.1,
             "#c51b7d"
            ],
            [
             0.2,
             "#de77ae"
            ],
            [
             0.3,
             "#f1b6da"
            ],
            [
             0.4,
             "#fde0ef"
            ],
            [
             0.5,
             "#f7f7f7"
            ],
            [
             0.6,
             "#e6f5d0"
            ],
            [
             0.7,
             "#b8e186"
            ],
            [
             0.8,
             "#7fbc41"
            ],
            [
             0.9,
             "#4d9221"
            ],
            [
             1,
             "#276419"
            ]
           ],
           "sequential": [
            [
             0,
             "#0d0887"
            ],
            [
             0.1111111111111111,
             "#46039f"
            ],
            [
             0.2222222222222222,
             "#7201a8"
            ],
            [
             0.3333333333333333,
             "#9c179e"
            ],
            [
             0.4444444444444444,
             "#bd3786"
            ],
            [
             0.5555555555555556,
             "#d8576b"
            ],
            [
             0.6666666666666666,
             "#ed7953"
            ],
            [
             0.7777777777777778,
             "#fb9f3a"
            ],
            [
             0.8888888888888888,
             "#fdca26"
            ],
            [
             1,
             "#f0f921"
            ]
           ],
           "sequentialminus": [
            [
             0,
             "#0d0887"
            ],
            [
             0.1111111111111111,
             "#46039f"
            ],
            [
             0.2222222222222222,
             "#7201a8"
            ],
            [
             0.3333333333333333,
             "#9c179e"
            ],
            [
             0.4444444444444444,
             "#bd3786"
            ],
            [
             0.5555555555555556,
             "#d8576b"
            ],
            [
             0.6666666666666666,
             "#ed7953"
            ],
            [
             0.7777777777777778,
             "#fb9f3a"
            ],
            [
             0.8888888888888888,
             "#fdca26"
            ],
            [
             1,
             "#f0f921"
            ]
           ]
          },
          "colorway": [
           "#636efa",
           "#EF553B",
           "#00cc96",
           "#ab63fa",
           "#FFA15A",
           "#19d3f3",
           "#FF6692",
           "#B6E880",
           "#FF97FF",
           "#FECB52"
          ],
          "font": {
           "color": "#2a3f5f"
          },
          "geo": {
           "bgcolor": "white",
           "lakecolor": "white",
           "landcolor": "#E5ECF6",
           "showlakes": true,
           "showland": true,
           "subunitcolor": "white"
          },
          "hoverlabel": {
           "align": "left"
          },
          "hovermode": "closest",
          "mapbox": {
           "style": "light"
          },
          "paper_bgcolor": "white",
          "plot_bgcolor": "#E5ECF6",
          "polar": {
           "angularaxis": {
            "gridcolor": "white",
            "linecolor": "white",
            "ticks": ""
           },
           "bgcolor": "#E5ECF6",
           "radialaxis": {
            "gridcolor": "white",
            "linecolor": "white",
            "ticks": ""
           }
          },
          "scene": {
           "xaxis": {
            "backgroundcolor": "#E5ECF6",
            "gridcolor": "white",
            "gridwidth": 2,
            "linecolor": "white",
            "showbackground": true,
            "ticks": "",
            "zerolinecolor": "white"
           },
           "yaxis": {
            "backgroundcolor": "#E5ECF6",
            "gridcolor": "white",
            "gridwidth": 2,
            "linecolor": "white",
            "showbackground": true,
            "ticks": "",
            "zerolinecolor": "white"
           },
           "zaxis": {
            "backgroundcolor": "#E5ECF6",
            "gridcolor": "white",
            "gridwidth": 2,
            "linecolor": "white",
            "showbackground": true,
            "ticks": "",
            "zerolinecolor": "white"
           }
          },
          "shapedefaults": {
           "line": {
            "color": "#2a3f5f"
           }
          },
          "ternary": {
           "aaxis": {
            "gridcolor": "white",
            "linecolor": "white",
            "ticks": ""
           },
           "baxis": {
            "gridcolor": "white",
            "linecolor": "white",
            "ticks": ""
           },
           "bgcolor": "#E5ECF6",
           "caxis": {
            "gridcolor": "white",
            "linecolor": "white",
            "ticks": ""
           }
          },
          "title": {
           "x": 0.05
          },
          "xaxis": {
           "automargin": true,
           "gridcolor": "white",
           "linecolor": "white",
           "ticks": "",
           "title": {
            "standoff": 15
           },
           "zerolinecolor": "white",
           "zerolinewidth": 2
          },
          "yaxis": {
           "automargin": true,
           "gridcolor": "white",
           "linecolor": "white",
           "ticks": "",
           "title": {
            "standoff": 15
           },
           "zerolinecolor": "white",
           "zerolinewidth": 2
          }
         }
        },
        "title": {
         "text": "上市公司股吧总体情绪与关注度时序变化"
        },
        "xaxis": {
         "anchor": "y",
         "domain": [
          0,
          1
         ],
         "matches": "x3",
         "showticklabels": false
        },
        "xaxis2": {
         "anchor": "y2",
         "domain": [
          0,
          1
         ],
         "matches": "x3",
         "showticklabels": false
        },
        "xaxis3": {
         "anchor": "y3",
         "domain": [
          0,
          1
         ],
         "title": {
          "text": "日期"
         }
        },
        "yaxis": {
         "anchor": "x",
         "domain": [
          0.7777777777777778,
          1
         ],
         "title": {
          "text": "数量"
         }
        },
        "yaxis2": {
         "anchor": "x2",
         "domain": [
          0.3888888888888889,
          0.6111111111111112
         ],
         "title": {
          "text": "数量"
         }
        },
        "yaxis3": {
         "anchor": "x3",
         "domain": [
          0,
          0.22222222222222224
         ],
         "range": [
          -1,
          1
         ],
         "title": {
          "text": "情感比率 (-1 to 1)"
         }
        }
       }
      }
     },
     "metadata": {},
     "output_type": "display_data"
    }
   ],
   "source": [
    "# --- 绘制上市公司总体情绪与关注度时间序列图 (使用 Plotly) ---\n",
    "fig_comp_agg = make_subplots(rows=3, cols=1, shared_xaxes=True,\n",
    "                                subplot_titles=(\"每日总发帖量\", \"每日总阅读数\", \"每日聚合情感比率 (Overall & 加权阅读数)\"))\n",
    "\n",
    "# 添加发帖量轨迹\n",
    "fig_comp_agg.add_trace(go.Scatter(x=daily_agg_comp['Date'], y=daily_agg_comp['Tpostnum_sum'],\n",
    "                                    mode='lines', name='总发帖量'), row=1, col=1)\n",
    "\n",
    "# 添加阅读数轨迹\n",
    "fig_comp_agg.add_trace(go.Scatter(x=daily_agg_comp['Date'], y=daily_agg_comp['Readnum_sum'],\n",
    "                                    mode='lines', name='总阅读数'), row=2, col=1)\n",
    "\n",
    "# 添加情感比率轨迹\n",
    "fig_comp_agg.add_trace(go.Scatter(x=daily_agg_comp['Date'], y=daily_agg_comp['Sent_Ratio_overall'],\n",
    "                                    mode='lines', name='Overall Sent Ratio'), row=3, col=1)\n",
    "fig_comp_agg.add_trace(go.Scatter(x=daily_agg_comp['Date'], y=daily_agg_comp['Sent_Ratio_wavg_Readnum'],\n",
    "                                    mode='lines', name='WAvg Sent Ratio (Readnum)', line=dict(dash='dot')), row=3, col=1)\n",
    "# 添加零线，方便观察正负\n",
    "fig_comp_agg.add_hline(y=0, line_width=1, line_dash=\"dash\", line_color=\"grey\", row=3, col=1)\n",
    "\n",
    "\n",
    "# 更新布局\n",
    "fig_comp_agg.update_layout(title_text=\"上市公司股吧总体情绪与关注度时序变化\", height=1000)\n",
    "fig_comp_agg.update_xaxes(title_text=\"日期\", row=3, col=1)\n",
    "fig_comp_agg.update_yaxes(title_text=\"数量\", row=1, col=1)\n",
    "fig_comp_agg.update_yaxes(title_text=\"数量\", row=2, col=1)\n",
    "fig_comp_agg.update_yaxes(title_text=\"情感比率 (-1 to 1)\", range=[-1, 1], row=3, col=1) # 固定y轴范围\n",
    "\n",
    "# # 添加时期背景色 (可选)\n",
    "# for period_name, (start_date, end_date) in periods_of_interest.items():\n",
    "#     color = 'rgba(255, 0, 0, 0.1)' if period_name == '疫情期' else 'rgba(0, 0, 255, 0.1)'\n",
    "#     fig_comp_agg.add_vrect(x0=start_date, x1=end_date, fillcolor=color, layer=\"below\", line_width=0, row=\"all\", col=1)\n",
    "\n",
    "\n",
    "fig_comp_agg.show()\n",
    "# fig_comp_agg.write_image(\"company_sentiment_attention_timeseries.png\") # 保存为静态图片\n"
   ]
  },
  {
   "cell_type": "code",
   "execution_count": 24,
   "metadata": {},
   "outputs": [
    {
     "data": {
      "application/vnd.plotly.v1+json": {
       "config": {
        "plotlyServerURL": "https://plot.ly"
       },
       "data": [
        {
         "hovertemplate": "Source=山东黄金_Sent_Ratio<br>Date=%{x}<br>Sentiment_Ratio=%{y}<extra></extra>",
         "legendgroup": "山东黄金_Sent_Ratio",
         "line": {
          "color": "#636efa",
          "dash": "solid"
         },
         "marker": {
          "symbol": "circle"
         },
         "mode": "lines",
         "name": "山东黄金_Sent_Ratio",
         "orientation": "v",
         "showlegend": true,
         "type": "scatter",
         "x": [
          "2020-07-01T00:00:00.000000000",
          "2020-07-02T00:00:00.000000000",
          "2020-07-03T00:00:00.000000000",
          "2020-07-04T00:00:00.000000000",
          "2020-07-05T00:00:00.000000000",
          "2020-07-06T00:00:00.000000000",
          "2020-07-07T00:00:00.000000000",
          "2020-07-08T00:00:00.000000000",
          "2020-07-09T00:00:00.000000000",
          "2020-07-10T00:00:00.000000000",
          "2020-07-11T00:00:00.000000000",
          "2020-07-12T00:00:00.000000000",
          "2020-07-13T00:00:00.000000000",
          "2020-07-14T00:00:00.000000000",
          "2020-07-15T00:00:00.000000000",
          "2020-07-16T00:00:00.000000000",
          "2020-07-17T00:00:00.000000000",
          "2020-07-18T00:00:00.000000000",
          "2020-07-19T00:00:00.000000000",
          "2020-07-20T00:00:00.000000000",
          "2020-07-21T00:00:00.000000000",
          "2020-07-22T00:00:00.000000000",
          "2020-07-23T00:00:00.000000000",
          "2020-07-24T00:00:00.000000000",
          "2020-07-25T00:00:00.000000000",
          "2020-07-26T00:00:00.000000000",
          "2020-07-27T00:00:00.000000000",
          "2020-07-28T00:00:00.000000000",
          "2020-07-29T00:00:00.000000000",
          "2020-07-30T00:00:00.000000000",
          "2020-07-31T00:00:00.000000000",
          "2020-08-01T00:00:00.000000000",
          "2020-08-02T00:00:00.000000000",
          "2020-08-03T00:00:00.000000000",
          "2020-08-04T00:00:00.000000000",
          "2020-08-05T00:00:00.000000000",
          "2020-08-06T00:00:00.000000000",
          "2020-08-07T00:00:00.000000000",
          "2020-08-08T00:00:00.000000000",
          "2020-08-09T00:00:00.000000000",
          "2020-08-10T00:00:00.000000000",
          "2020-08-11T00:00:00.000000000",
          "2020-08-12T00:00:00.000000000",
          "2020-08-13T00:00:00.000000000",
          "2020-08-14T00:00:00.000000000",
          "2020-08-15T00:00:00.000000000",
          "2020-08-16T00:00:00.000000000",
          "2020-08-17T00:00:00.000000000",
          "2020-08-18T00:00:00.000000000",
          "2020-08-19T00:00:00.000000000",
          "2020-08-20T00:00:00.000000000",
          "2020-08-21T00:00:00.000000000",
          "2020-08-22T00:00:00.000000000",
          "2020-08-23T00:00:00.000000000",
          "2020-08-24T00:00:00.000000000",
          "2020-08-25T00:00:00.000000000",
          "2020-08-26T00:00:00.000000000",
          "2020-08-27T00:00:00.000000000",
          "2020-08-28T00:00:00.000000000",
          "2020-08-29T00:00:00.000000000",
          "2020-08-30T00:00:00.000000000",
          "2020-08-31T00:00:00.000000000",
          "2020-09-01T00:00:00.000000000",
          "2020-09-02T00:00:00.000000000",
          "2020-09-03T00:00:00.000000000",
          "2020-09-04T00:00:00.000000000",
          "2020-09-05T00:00:00.000000000",
          "2020-09-06T00:00:00.000000000",
          "2020-09-07T00:00:00.000000000",
          "2020-09-08T00:00:00.000000000",
          "2020-09-09T00:00:00.000000000",
          "2020-09-10T00:00:00.000000000",
          "2020-09-11T00:00:00.000000000",
          "2020-09-12T00:00:00.000000000",
          "2020-09-13T00:00:00.000000000",
          "2020-09-14T00:00:00.000000000",
          "2020-09-15T00:00:00.000000000",
          "2020-09-16T00:00:00.000000000",
          "2020-09-17T00:00:00.000000000",
          "2020-09-18T00:00:00.000000000",
          "2020-09-19T00:00:00.000000000",
          "2020-09-20T00:00:00.000000000",
          "2020-09-21T00:00:00.000000000",
          "2020-09-22T00:00:00.000000000",
          "2020-09-23T00:00:00.000000000",
          "2020-09-24T00:00:00.000000000",
          "2020-09-25T00:00:00.000000000",
          "2020-09-26T00:00:00.000000000",
          "2020-09-27T00:00:00.000000000",
          "2020-09-28T00:00:00.000000000",
          "2020-09-29T00:00:00.000000000",
          "2020-09-30T00:00:00.000000000",
          "2020-10-01T00:00:00.000000000",
          "2020-10-02T00:00:00.000000000",
          "2020-10-03T00:00:00.000000000",
          "2020-10-04T00:00:00.000000000",
          "2020-10-05T00:00:00.000000000",
          "2020-10-06T00:00:00.000000000",
          "2020-10-07T00:00:00.000000000",
          "2020-10-08T00:00:00.000000000",
          "2020-10-09T00:00:00.000000000",
          "2020-10-10T00:00:00.000000000",
          "2020-10-11T00:00:00.000000000",
          "2020-10-12T00:00:00.000000000",
          "2020-10-13T00:00:00.000000000",
          "2020-10-14T00:00:00.000000000",
          "2020-10-15T00:00:00.000000000",
          "2020-10-16T00:00:00.000000000",
          "2020-10-17T00:00:00.000000000",
          "2020-10-18T00:00:00.000000000",
          "2020-10-19T00:00:00.000000000",
          "2020-10-20T00:00:00.000000000",
          "2020-10-21T00:00:00.000000000",
          "2020-10-22T00:00:00.000000000",
          "2020-10-23T00:00:00.000000000",
          "2020-10-24T00:00:00.000000000",
          "2020-10-25T00:00:00.000000000",
          "2020-10-26T00:00:00.000000000",
          "2020-10-27T00:00:00.000000000",
          "2020-10-28T00:00:00.000000000",
          "2020-10-29T00:00:00.000000000",
          "2020-10-30T00:00:00.000000000",
          "2020-10-31T00:00:00.000000000",
          "2022-02-01T00:00:00.000000000",
          "2022-02-02T00:00:00.000000000",
          "2022-02-03T00:00:00.000000000",
          "2022-02-04T00:00:00.000000000",
          "2022-02-05T00:00:00.000000000",
          "2022-02-06T00:00:00.000000000",
          "2022-02-07T00:00:00.000000000",
          "2022-02-08T00:00:00.000000000",
          "2022-02-09T00:00:00.000000000",
          "2022-02-10T00:00:00.000000000",
          "2022-02-11T00:00:00.000000000",
          "2022-02-12T00:00:00.000000000",
          "2022-02-13T00:00:00.000000000",
          "2022-02-14T00:00:00.000000000",
          "2022-02-15T00:00:00.000000000",
          "2022-02-16T00:00:00.000000000",
          "2022-02-17T00:00:00.000000000",
          "2022-02-18T00:00:00.000000000",
          "2022-02-19T00:00:00.000000000",
          "2022-02-20T00:00:00.000000000",
          "2022-02-21T00:00:00.000000000",
          "2022-02-22T00:00:00.000000000",
          "2022-02-23T00:00:00.000000000",
          "2022-02-24T00:00:00.000000000",
          "2022-02-25T00:00:00.000000000",
          "2022-02-26T00:00:00.000000000",
          "2022-02-27T00:00:00.000000000",
          "2022-02-28T00:00:00.000000000",
          "2022-03-01T00:00:00.000000000",
          "2022-03-02T00:00:00.000000000",
          "2022-03-03T00:00:00.000000000",
          "2022-03-04T00:00:00.000000000",
          "2022-03-05T00:00:00.000000000",
          "2022-03-06T00:00:00.000000000",
          "2022-03-07T00:00:00.000000000",
          "2022-03-08T00:00:00.000000000",
          "2022-03-09T00:00:00.000000000",
          "2022-03-10T00:00:00.000000000",
          "2022-03-11T00:00:00.000000000",
          "2022-03-12T00:00:00.000000000",
          "2022-03-13T00:00:00.000000000",
          "2022-03-14T00:00:00.000000000",
          "2022-03-15T00:00:00.000000000",
          "2022-03-16T00:00:00.000000000",
          "2022-03-17T00:00:00.000000000",
          "2022-03-18T00:00:00.000000000",
          "2022-03-19T00:00:00.000000000",
          "2022-03-20T00:00:00.000000000",
          "2022-03-21T00:00:00.000000000",
          "2022-03-22T00:00:00.000000000",
          "2022-03-23T00:00:00.000000000",
          "2022-03-24T00:00:00.000000000",
          "2022-03-25T00:00:00.000000000",
          "2022-03-26T00:00:00.000000000",
          "2022-03-27T00:00:00.000000000",
          "2022-03-28T00:00:00.000000000",
          "2022-03-29T00:00:00.000000000",
          "2022-03-30T00:00:00.000000000",
          "2022-03-31T00:00:00.000000000",
          "2022-04-01T00:00:00.000000000",
          "2022-04-02T00:00:00.000000000",
          "2022-04-03T00:00:00.000000000",
          "2022-04-04T00:00:00.000000000",
          "2022-04-05T00:00:00.000000000",
          "2022-04-06T00:00:00.000000000",
          "2022-04-07T00:00:00.000000000",
          "2022-04-08T00:00:00.000000000",
          "2022-04-09T00:00:00.000000000",
          "2022-04-10T00:00:00.000000000",
          "2022-04-11T00:00:00.000000000",
          "2022-04-12T00:00:00.000000000",
          "2022-04-13T00:00:00.000000000",
          "2022-04-14T00:00:00.000000000",
          "2022-04-15T00:00:00.000000000",
          "2022-04-16T00:00:00.000000000",
          "2022-04-17T00:00:00.000000000",
          "2022-04-18T00:00:00.000000000",
          "2022-04-19T00:00:00.000000000",
          "2022-04-20T00:00:00.000000000",
          "2022-04-21T00:00:00.000000000",
          "2022-04-22T00:00:00.000000000",
          "2022-04-23T00:00:00.000000000",
          "2022-04-24T00:00:00.000000000",
          "2022-04-25T00:00:00.000000000",
          "2022-04-26T00:00:00.000000000",
          "2022-04-27T00:00:00.000000000",
          "2022-04-28T00:00:00.000000000",
          "2022-04-29T00:00:00.000000000",
          "2022-04-30T00:00:00.000000000",
          "2022-05-01T00:00:00.000000000",
          "2022-05-02T00:00:00.000000000",
          "2022-05-03T00:00:00.000000000",
          "2022-05-04T00:00:00.000000000",
          "2022-05-05T00:00:00.000000000",
          "2022-05-06T00:00:00.000000000",
          "2022-05-07T00:00:00.000000000",
          "2022-05-08T00:00:00.000000000",
          "2022-05-09T00:00:00.000000000",
          "2022-05-10T00:00:00.000000000",
          "2022-05-11T00:00:00.000000000",
          "2022-05-12T00:00:00.000000000",
          "2022-05-13T00:00:00.000000000",
          "2022-05-14T00:00:00.000000000",
          "2022-05-15T00:00:00.000000000",
          "2022-05-16T00:00:00.000000000",
          "2022-05-17T00:00:00.000000000",
          "2022-05-18T00:00:00.000000000",
          "2022-05-19T00:00:00.000000000",
          "2022-05-20T00:00:00.000000000",
          "2022-05-21T00:00:00.000000000",
          "2022-05-22T00:00:00.000000000",
          "2022-05-23T00:00:00.000000000",
          "2022-05-24T00:00:00.000000000",
          "2022-05-25T00:00:00.000000000",
          "2022-05-26T00:00:00.000000000",
          "2022-05-27T00:00:00.000000000",
          "2022-05-28T00:00:00.000000000",
          "2022-05-29T00:00:00.000000000",
          "2022-05-30T00:00:00.000000000",
          "2022-05-31T00:00:00.000000000"
         ],
         "xaxis": "x",
         "y": {
          "bdata": "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",
          "dtype": "f8"
         },
         "yaxis": "y"
        },
        {
         "hovertemplate": "Source=Other_Sent_Ratio<br>Date=%{x}<br>Sentiment_Ratio=%{y}<extra></extra>",
         "legendgroup": "Other_Sent_Ratio",
         "line": {
          "color": "#EF553B",
          "dash": "solid"
         },
         "marker": {
          "symbol": "circle"
         },
         "mode": "lines",
         "name": "Other_Sent_Ratio",
         "orientation": "v",
         "showlegend": true,
         "type": "scatter",
         "x": [
          "2020-07-01T00:00:00.000000000",
          "2020-07-02T00:00:00.000000000",
          "2020-07-03T00:00:00.000000000",
          "2020-07-04T00:00:00.000000000",
          "2020-07-05T00:00:00.000000000",
          "2020-07-06T00:00:00.000000000",
          "2020-07-07T00:00:00.000000000",
          "2020-07-08T00:00:00.000000000",
          "2020-07-09T00:00:00.000000000",
          "2020-07-10T00:00:00.000000000",
          "2020-07-11T00:00:00.000000000",
          "2020-07-12T00:00:00.000000000",
          "2020-07-13T00:00:00.000000000",
          "2020-07-14T00:00:00.000000000",
          "2020-07-15T00:00:00.000000000",
          "2020-07-16T00:00:00.000000000",
          "2020-07-17T00:00:00.000000000",
          "2020-07-18T00:00:00.000000000",
          "2020-07-19T00:00:00.000000000",
          "2020-07-20T00:00:00.000000000",
          "2020-07-21T00:00:00.000000000",
          "2020-07-22T00:00:00.000000000",
          "2020-07-23T00:00:00.000000000",
          "2020-07-24T00:00:00.000000000",
          "2020-07-25T00:00:00.000000000",
          "2020-07-26T00:00:00.000000000",
          "2020-07-27T00:00:00.000000000",
          "2020-07-28T00:00:00.000000000",
          "2020-07-29T00:00:00.000000000",
          "2020-07-30T00:00:00.000000000",
          "2020-07-31T00:00:00.000000000",
          "2020-08-01T00:00:00.000000000",
          "2020-08-02T00:00:00.000000000",
          "2020-08-03T00:00:00.000000000",
          "2020-08-04T00:00:00.000000000",
          "2020-08-05T00:00:00.000000000",
          "2020-08-06T00:00:00.000000000",
          "2020-08-07T00:00:00.000000000",
          "2020-08-08T00:00:00.000000000",
          "2020-08-09T00:00:00.000000000",
          "2020-08-10T00:00:00.000000000",
          "2020-08-11T00:00:00.000000000",
          "2020-08-12T00:00:00.000000000",
          "2020-08-13T00:00:00.000000000",
          "2020-08-14T00:00:00.000000000",
          "2020-08-15T00:00:00.000000000",
          "2020-08-16T00:00:00.000000000",
          "2020-08-17T00:00:00.000000000",
          "2020-08-18T00:00:00.000000000",
          "2020-08-19T00:00:00.000000000",
          "2020-08-20T00:00:00.000000000",
          "2020-08-21T00:00:00.000000000",
          "2020-08-22T00:00:00.000000000",
          "2020-08-23T00:00:00.000000000",
          "2020-08-24T00:00:00.000000000",
          "2020-08-25T00:00:00.000000000",
          "2020-08-26T00:00:00.000000000",
          "2020-08-27T00:00:00.000000000",
          "2020-08-28T00:00:00.000000000",
          "2020-08-29T00:00:00.000000000",
          "2020-08-30T00:00:00.000000000",
          "2020-08-31T00:00:00.000000000",
          "2020-09-01T00:00:00.000000000",
          "2020-09-02T00:00:00.000000000",
          "2020-09-03T00:00:00.000000000",
          "2020-09-04T00:00:00.000000000",
          "2020-09-05T00:00:00.000000000",
          "2020-09-06T00:00:00.000000000",
          "2020-09-07T00:00:00.000000000",
          "2020-09-08T00:00:00.000000000",
          "2020-09-09T00:00:00.000000000",
          "2020-09-10T00:00:00.000000000",
          "2020-09-11T00:00:00.000000000",
          "2020-09-12T00:00:00.000000000",
          "2020-09-13T00:00:00.000000000",
          "2020-09-14T00:00:00.000000000",
          "2020-09-15T00:00:00.000000000",
          "2020-09-16T00:00:00.000000000",
          "2020-09-17T00:00:00.000000000",
          "2020-09-18T00:00:00.000000000",
          "2020-09-19T00:00:00.000000000",
          "2020-09-20T00:00:00.000000000",
          "2020-09-21T00:00:00.000000000",
          "2020-09-22T00:00:00.000000000",
          "2020-09-23T00:00:00.000000000",
          "2020-09-24T00:00:00.000000000",
          "2020-09-25T00:00:00.000000000",
          "2020-09-26T00:00:00.000000000",
          "2020-09-27T00:00:00.000000000",
          "2020-09-28T00:00:00.000000000",
          "2020-09-29T00:00:00.000000000",
          "2020-09-30T00:00:00.000000000",
          "2020-10-01T00:00:00.000000000",
          "2020-10-02T00:00:00.000000000",
          "2020-10-03T00:00:00.000000000",
          "2020-10-04T00:00:00.000000000",
          "2020-10-05T00:00:00.000000000",
          "2020-10-06T00:00:00.000000000",
          "2020-10-07T00:00:00.000000000",
          "2020-10-08T00:00:00.000000000",
          "2020-10-09T00:00:00.000000000",
          "2020-10-10T00:00:00.000000000",
          "2020-10-11T00:00:00.000000000",
          "2020-10-12T00:00:00.000000000",
          "2020-10-13T00:00:00.000000000",
          "2020-10-14T00:00:00.000000000",
          "2020-10-15T00:00:00.000000000",
          "2020-10-16T00:00:00.000000000",
          "2020-10-17T00:00:00.000000000",
          "2020-10-18T00:00:00.000000000",
          "2020-10-19T00:00:00.000000000",
          "2020-10-20T00:00:00.000000000",
          "2020-10-21T00:00:00.000000000",
          "2020-10-22T00:00:00.000000000",
          "2020-10-23T00:00:00.000000000",
          "2020-10-24T00:00:00.000000000",
          "2020-10-25T00:00:00.000000000",
          "2020-10-26T00:00:00.000000000",
          "2020-10-27T00:00:00.000000000",
          "2020-10-28T00:00:00.000000000",
          "2020-10-29T00:00:00.000000000",
          "2020-10-30T00:00:00.000000000",
          "2020-10-31T00:00:00.000000000",
          "2022-02-01T00:00:00.000000000",
          "2022-02-02T00:00:00.000000000",
          "2022-02-03T00:00:00.000000000",
          "2022-02-04T00:00:00.000000000",
          "2022-02-05T00:00:00.000000000",
          "2022-02-06T00:00:00.000000000",
          "2022-02-07T00:00:00.000000000",
          "2022-02-08T00:00:00.000000000",
          "2022-02-09T00:00:00.000000000",
          "2022-02-10T00:00:00.000000000",
          "2022-02-11T00:00:00.000000000",
          "2022-02-12T00:00:00.000000000",
          "2022-02-13T00:00:00.000000000",
          "2022-02-14T00:00:00.000000000",
          "2022-02-15T00:00:00.000000000",
          "2022-02-16T00:00:00.000000000",
          "2022-02-17T00:00:00.000000000",
          "2022-02-18T00:00:00.000000000",
          "2022-02-19T00:00:00.000000000",
          "2022-02-20T00:00:00.000000000",
          "2022-02-21T00:00:00.000000000",
          "2022-02-22T00:00:00.000000000",
          "2022-02-23T00:00:00.000000000",
          "2022-02-24T00:00:00.000000000",
          "2022-02-25T00:00:00.000000000",
          "2022-02-26T00:00:00.000000000",
          "2022-02-27T00:00:00.000000000",
          "2022-02-28T00:00:00.000000000",
          "2022-03-01T00:00:00.000000000",
          "2022-03-02T00:00:00.000000000",
          "2022-03-03T00:00:00.000000000",
          "2022-03-04T00:00:00.000000000",
          "2022-03-05T00:00:00.000000000",
          "2022-03-06T00:00:00.000000000",
          "2022-03-07T00:00:00.000000000",
          "2022-03-08T00:00:00.000000000",
          "2022-03-09T00:00:00.000000000",
          "2022-03-10T00:00:00.000000000",
          "2022-03-11T00:00:00.000000000",
          "2022-03-12T00:00:00.000000000",
          "2022-03-13T00:00:00.000000000",
          "2022-03-14T00:00:00.000000000",
          "2022-03-15T00:00:00.000000000",
          "2022-03-16T00:00:00.000000000",
          "2022-03-17T00:00:00.000000000",
          "2022-03-18T00:00:00.000000000",
          "2022-03-19T00:00:00.000000000",
          "2022-03-20T00:00:00.000000000",
          "2022-03-21T00:00:00.000000000",
          "2022-03-22T00:00:00.000000000",
          "2022-03-23T00:00:00.000000000",
          "2022-03-24T00:00:00.000000000",
          "2022-03-25T00:00:00.000000000",
          "2022-03-26T00:00:00.000000000",
          "2022-03-27T00:00:00.000000000",
          "2022-03-28T00:00:00.000000000",
          "2022-03-29T00:00:00.000000000",
          "2022-03-30T00:00:00.000000000",
          "2022-03-31T00:00:00.000000000",
          "2022-04-01T00:00:00.000000000",
          "2022-04-02T00:00:00.000000000",
          "2022-04-03T00:00:00.000000000",
          "2022-04-04T00:00:00.000000000",
          "2022-04-05T00:00:00.000000000",
          "2022-04-06T00:00:00.000000000",
          "2022-04-07T00:00:00.000000000",
          "2022-04-08T00:00:00.000000000",
          "2022-04-09T00:00:00.000000000",
          "2022-04-10T00:00:00.000000000",
          "2022-04-11T00:00:00.000000000",
          "2022-04-12T00:00:00.000000000",
          "2022-04-13T00:00:00.000000000",
          "2022-04-14T00:00:00.000000000",
          "2022-04-15T00:00:00.000000000",
          "2022-04-16T00:00:00.000000000",
          "2022-04-17T00:00:00.000000000",
          "2022-04-18T00:00:00.000000000",
          "2022-04-19T00:00:00.000000000",
          "2022-04-20T00:00:00.000000000",
          "2022-04-21T00:00:00.000000000",
          "2022-04-22T00:00:00.000000000",
          "2022-04-23T00:00:00.000000000",
          "2022-04-24T00:00:00.000000000",
          "2022-04-25T00:00:00.000000000",
          "2022-04-26T00:00:00.000000000",
          "2022-04-27T00:00:00.000000000",
          "2022-04-28T00:00:00.000000000",
          "2022-04-29T00:00:00.000000000",
          "2022-04-30T00:00:00.000000000",
          "2022-05-01T00:00:00.000000000",
          "2022-05-02T00:00:00.000000000",
          "2022-05-03T00:00:00.000000000",
          "2022-05-04T00:00:00.000000000",
          "2022-05-05T00:00:00.000000000",
          "2022-05-06T00:00:00.000000000",
          "2022-05-07T00:00:00.000000000",
          "2022-05-08T00:00:00.000000000",
          "2022-05-09T00:00:00.000000000",
          "2022-05-10T00:00:00.000000000",
          "2022-05-11T00:00:00.000000000",
          "2022-05-12T00:00:00.000000000",
          "2022-05-13T00:00:00.000000000",
          "2022-05-14T00:00:00.000000000",
          "2022-05-15T00:00:00.000000000",
          "2022-05-16T00:00:00.000000000",
          "2022-05-17T00:00:00.000000000",
          "2022-05-18T00:00:00.000000000",
          "2022-05-19T00:00:00.000000000",
          "2022-05-20T00:00:00.000000000",
          "2022-05-21T00:00:00.000000000",
          "2022-05-22T00:00:00.000000000",
          "2022-05-23T00:00:00.000000000",
          "2022-05-24T00:00:00.000000000",
          "2022-05-25T00:00:00.000000000",
          "2022-05-26T00:00:00.000000000",
          "2022-05-27T00:00:00.000000000",
          "2022-05-28T00:00:00.000000000",
          "2022-05-29T00:00:00.000000000",
          "2022-05-30T00:00:00.000000000",
          "2022-05-31T00:00:00.000000000"
         ],
         "xaxis": "x",
         "y": {
          "bdata": "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",
          "dtype": "f8"
         },
         "yaxis": "y"
        }
       ],
       "layout": {
        "legend": {
         "title": {
          "text": "Source"
         },
         "tracegroupgap": 0
        },
        "shapes": [
         {
          "line": {
           "color": "grey",
           "dash": "dash",
           "width": 1
          },
          "type": "line",
          "x0": 0,
          "x1": 1,
          "xref": "x domain",
          "y0": 0,
          "y1": 0,
          "yref": "y"
         }
        ],
        "template": {
         "data": {
          "bar": [
           {
            "error_x": {
             "color": "#2a3f5f"
            },
            "error_y": {
             "color": "#2a3f5f"
            },
            "marker": {
             "line": {
              "color": "#E5ECF6",
              "width": 0.5
             },
             "pattern": {
              "fillmode": "overlay",
              "size": 10,
              "solidity": 0.2
             }
            },
            "type": "bar"
           }
          ],
          "barpolar": [
           {
            "marker": {
             "line": {
              "color": "#E5ECF6",
              "width": 0.5
             },
             "pattern": {
              "fillmode": "overlay",
              "size": 10,
              "solidity": 0.2
             }
            },
            "type": "barpolar"
           }
          ],
          "carpet": [
           {
            "aaxis": {
             "endlinecolor": "#2a3f5f",
             "gridcolor": "white",
             "linecolor": "white",
             "minorgridcolor": "white",
             "startlinecolor": "#2a3f5f"
            },
            "baxis": {
             "endlinecolor": "#2a3f5f",
             "gridcolor": "white",
             "linecolor": "white",
             "minorgridcolor": "white",
             "startlinecolor": "#2a3f5f"
            },
            "type": "carpet"
           }
          ],
          "choropleth": [
           {
            "colorbar": {
             "outlinewidth": 0,
             "ticks": ""
            },
            "type": "choropleth"
           }
          ],
          "contour": [
           {
            "colorbar": {
             "outlinewidth": 0,
             "ticks": ""
            },
            "colorscale": [
             [
              0,
              "#0d0887"
             ],
             [
              0.1111111111111111,
              "#46039f"
             ],
             [
              0.2222222222222222,
              "#7201a8"
             ],
             [
              0.3333333333333333,
              "#9c179e"
             ],
             [
              0.4444444444444444,
              "#bd3786"
             ],
             [
              0.5555555555555556,
              "#d8576b"
             ],
             [
              0.6666666666666666,
              "#ed7953"
             ],
             [
              0.7777777777777778,
              "#fb9f3a"
             ],
             [
              0.8888888888888888,
              "#fdca26"
             ],
             [
              1,
              "#f0f921"
             ]
            ],
            "type": "contour"
           }
          ],
          "contourcarpet": [
           {
            "colorbar": {
             "outlinewidth": 0,
             "ticks": ""
            },
            "type": "contourcarpet"
           }
          ],
          "heatmap": [
           {
            "colorbar": {
             "outlinewidth": 0,
             "ticks": ""
            },
            "colorscale": [
             [
              0,
              "#0d0887"
             ],
             [
              0.1111111111111111,
              "#46039f"
             ],
             [
              0.2222222222222222,
              "#7201a8"
             ],
             [
              0.3333333333333333,
              "#9c179e"
             ],
             [
              0.4444444444444444,
              "#bd3786"
             ],
             [
              0.5555555555555556,
              "#d8576b"
             ],
             [
              0.6666666666666666,
              "#ed7953"
             ],
             [
              0.7777777777777778,
              "#fb9f3a"
             ],
             [
              0.8888888888888888,
              "#fdca26"
             ],
             [
              1,
              "#f0f921"
             ]
            ],
            "type": "heatmap"
           }
          ],
          "histogram": [
           {
            "marker": {
             "pattern": {
              "fillmode": "overlay",
              "size": 10,
              "solidity": 0.2
             }
            },
            "type": "histogram"
           }
          ],
          "histogram2d": [
           {
            "colorbar": {
             "outlinewidth": 0,
             "ticks": ""
            },
            "colorscale": [
             [
              0,
              "#0d0887"
             ],
             [
              0.1111111111111111,
              "#46039f"
             ],
             [
              0.2222222222222222,
              "#7201a8"
             ],
             [
              0.3333333333333333,
              "#9c179e"
             ],
             [
              0.4444444444444444,
              "#bd3786"
             ],
             [
              0.5555555555555556,
              "#d8576b"
             ],
             [
              0.6666666666666666,
              "#ed7953"
             ],
             [
              0.7777777777777778,
              "#fb9f3a"
             ],
             [
              0.8888888888888888,
              "#fdca26"
             ],
             [
              1,
              "#f0f921"
             ]
            ],
            "type": "histogram2d"
           }
          ],
          "histogram2dcontour": [
           {
            "colorbar": {
             "outlinewidth": 0,
             "ticks": ""
            },
            "colorscale": [
             [
              0,
              "#0d0887"
             ],
             [
              0.1111111111111111,
              "#46039f"
             ],
             [
              0.2222222222222222,
              "#7201a8"
             ],
             [
              0.3333333333333333,
              "#9c179e"
             ],
             [
              0.4444444444444444,
              "#bd3786"
             ],
             [
              0.5555555555555556,
              "#d8576b"
             ],
             [
              0.6666666666666666,
              "#ed7953"
             ],
             [
              0.7777777777777778,
              "#fb9f3a"
             ],
             [
              0.8888888888888888,
              "#fdca26"
             ],
             [
              1,
              "#f0f921"
             ]
            ],
            "type": "histogram2dcontour"
           }
          ],
          "mesh3d": [
           {
            "colorbar": {
             "outlinewidth": 0,
             "ticks": ""
            },
            "type": "mesh3d"
           }
          ],
          "parcoords": [
           {
            "line": {
             "colorbar": {
              "outlinewidth": 0,
              "ticks": ""
             }
            },
            "type": "parcoords"
           }
          ],
          "pie": [
           {
            "automargin": true,
            "type": "pie"
           }
          ],
          "scatter": [
           {
            "fillpattern": {
             "fillmode": "overlay",
             "size": 10,
             "solidity": 0.2
            },
            "type": "scatter"
           }
          ],
          "scatter3d": [
           {
            "line": {
             "colorbar": {
              "outlinewidth": 0,
              "ticks": ""
             }
            },
            "marker": {
             "colorbar": {
              "outlinewidth": 0,
              "ticks": ""
             }
            },
            "type": "scatter3d"
           }
          ],
          "scattercarpet": [
           {
            "marker": {
             "colorbar": {
              "outlinewidth": 0,
              "ticks": ""
             }
            },
            "type": "scattercarpet"
           }
          ],
          "scattergeo": [
           {
            "marker": {
             "colorbar": {
              "outlinewidth": 0,
              "ticks": ""
             }
            },
            "type": "scattergeo"
           }
          ],
          "scattergl": [
           {
            "marker": {
             "colorbar": {
              "outlinewidth": 0,
              "ticks": ""
             }
            },
            "type": "scattergl"
           }
          ],
          "scattermap": [
           {
            "marker": {
             "colorbar": {
              "outlinewidth": 0,
              "ticks": ""
             }
            },
            "type": "scattermap"
           }
          ],
          "scattermapbox": [
           {
            "marker": {
             "colorbar": {
              "outlinewidth": 0,
              "ticks": ""
             }
            },
            "type": "scattermapbox"
           }
          ],
          "scatterpolar": [
           {
            "marker": {
             "colorbar": {
              "outlinewidth": 0,
              "ticks": ""
             }
            },
            "type": "scatterpolar"
           }
          ],
          "scatterpolargl": [
           {
            "marker": {
             "colorbar": {
              "outlinewidth": 0,
              "ticks": ""
             }
            },
            "type": "scatterpolargl"
           }
          ],
          "scatterternary": [
           {
            "marker": {
             "colorbar": {
              "outlinewidth": 0,
              "ticks": ""
             }
            },
            "type": "scatterternary"
           }
          ],
          "surface": [
           {
            "colorbar": {
             "outlinewidth": 0,
             "ticks": ""
            },
            "colorscale": [
             [
              0,
              "#0d0887"
             ],
             [
              0.1111111111111111,
              "#46039f"
             ],
             [
              0.2222222222222222,
              "#7201a8"
             ],
             [
              0.3333333333333333,
              "#9c179e"
             ],
             [
              0.4444444444444444,
              "#bd3786"
             ],
             [
              0.5555555555555556,
              "#d8576b"
             ],
             [
              0.6666666666666666,
              "#ed7953"
             ],
             [
              0.7777777777777778,
              "#fb9f3a"
             ],
             [
              0.8888888888888888,
              "#fdca26"
             ],
             [
              1,
              "#f0f921"
             ]
            ],
            "type": "surface"
           }
          ],
          "table": [
           {
            "cells": {
             "fill": {
              "color": "#EBF0F8"
             },
             "line": {
              "color": "white"
             }
            },
            "header": {
             "fill": {
              "color": "#C8D4E3"
             },
             "line": {
              "color": "white"
             }
            },
            "type": "table"
           }
          ]
         },
         "layout": {
          "annotationdefaults": {
           "arrowcolor": "#2a3f5f",
           "arrowhead": 0,
           "arrowwidth": 1
          },
          "autotypenumbers": "strict",
          "coloraxis": {
           "colorbar": {
            "outlinewidth": 0,
            "ticks": ""
           }
          },
          "colorscale": {
           "diverging": [
            [
             0,
             "#8e0152"
            ],
            [
             0.1,
             "#c51b7d"
            ],
            [
             0.2,
             "#de77ae"
            ],
            [
             0.3,
             "#f1b6da"
            ],
            [
             0.4,
             "#fde0ef"
            ],
            [
             0.5,
             "#f7f7f7"
            ],
            [
             0.6,
             "#e6f5d0"
            ],
            [
             0.7,
             "#b8e186"
            ],
            [
             0.8,
             "#7fbc41"
            ],
            [
             0.9,
             "#4d9221"
            ],
            [
             1,
             "#276419"
            ]
           ],
           "sequential": [
            [
             0,
             "#0d0887"
            ],
            [
             0.1111111111111111,
             "#46039f"
            ],
            [
             0.2222222222222222,
             "#7201a8"
            ],
            [
             0.3333333333333333,
             "#9c179e"
            ],
            [
             0.4444444444444444,
             "#bd3786"
            ],
            [
             0.5555555555555556,
             "#d8576b"
            ],
            [
             0.6666666666666666,
             "#ed7953"
            ],
            [
             0.7777777777777778,
             "#fb9f3a"
            ],
            [
             0.8888888888888888,
             "#fdca26"
            ],
            [
             1,
             "#f0f921"
            ]
           ],
           "sequentialminus": [
            [
             0,
             "#0d0887"
            ],
            [
             0.1111111111111111,
             "#46039f"
            ],
            [
             0.2222222222222222,
             "#7201a8"
            ],
            [
             0.3333333333333333,
             "#9c179e"
            ],
            [
             0.4444444444444444,
             "#bd3786"
            ],
            [
             0.5555555555555556,
             "#d8576b"
            ],
            [
             0.6666666666666666,
             "#ed7953"
            ],
            [
             0.7777777777777778,
             "#fb9f3a"
            ],
            [
             0.8888888888888888,
             "#fdca26"
            ],
            [
             1,
             "#f0f921"
            ]
           ]
          },
          "colorway": [
           "#636efa",
           "#EF553B",
           "#00cc96",
           "#ab63fa",
           "#FFA15A",
           "#19d3f3",
           "#FF6692",
           "#B6E880",
           "#FF97FF",
           "#FECB52"
          ],
          "font": {
           "color": "#2a3f5f"
          },
          "geo": {
           "bgcolor": "white",
           "lakecolor": "white",
           "landcolor": "#E5ECF6",
           "showlakes": true,
           "showland": true,
           "subunitcolor": "white"
          },
          "hoverlabel": {
           "align": "left"
          },
          "hovermode": "closest",
          "mapbox": {
           "style": "light"
          },
          "paper_bgcolor": "white",
          "plot_bgcolor": "#E5ECF6",
          "polar": {
           "angularaxis": {
            "gridcolor": "white",
            "linecolor": "white",
            "ticks": ""
           },
           "bgcolor": "#E5ECF6",
           "radialaxis": {
            "gridcolor": "white",
            "linecolor": "white",
            "ticks": ""
           }
          },
          "scene": {
           "xaxis": {
            "backgroundcolor": "#E5ECF6",
            "gridcolor": "white",
            "gridwidth": 2,
            "linecolor": "white",
            "showbackground": true,
            "ticks": "",
            "zerolinecolor": "white"
           },
           "yaxis": {
            "backgroundcolor": "#E5ECF6",
            "gridcolor": "white",
            "gridwidth": 2,
            "linecolor": "white",
            "showbackground": true,
            "ticks": "",
            "zerolinecolor": "white"
           },
           "zaxis": {
            "backgroundcolor": "#E5ECF6",
            "gridcolor": "white",
            "gridwidth": 2,
            "linecolor": "white",
            "showbackground": true,
            "ticks": "",
            "zerolinecolor": "white"
           }
          },
          "shapedefaults": {
           "line": {
            "color": "#2a3f5f"
           }
          },
          "ternary": {
           "aaxis": {
            "gridcolor": "white",
            "linecolor": "white",
            "ticks": ""
           },
           "baxis": {
            "gridcolor": "white",
            "linecolor": "white",
            "ticks": ""
           },
           "bgcolor": "#E5ECF6",
           "caxis": {
            "gridcolor": "white",
            "linecolor": "white",
            "ticks": ""
           }
          },
          "title": {
           "x": 0.05
          },
          "xaxis": {
           "automargin": true,
           "gridcolor": "white",
           "linecolor": "white",
           "ticks": "",
           "title": {
            "standoff": 15
           },
           "zerolinecolor": "white",
           "zerolinewidth": 2
          },
          "yaxis": {
           "automargin": true,
           "gridcolor": "white",
           "linecolor": "white",
           "ticks": "",
           "title": {
            "standoff": 15
           },
           "zerolinecolor": "white",
           "zerolinewidth": 2
          }
         }
        },
        "title": {
         "text": "山东黄金 vs 其他股吧 每日情感比率对比"
        },
        "xaxis": {
         "anchor": "y",
         "domain": [
          0,
          1
         ],
         "title": {
          "text": "Date"
         }
        },
        "yaxis": {
         "anchor": "x",
         "domain": [
          0,
          1
         ],
         "range": [
          -1,
          1
         ],
         "title": {
          "text": "Sentiment_Ratio"
         }
        }
       }
      }
     },
     "metadata": {},
     "output_type": "display_data"
    }
   ],
   "source": [
    "# --- 示例：对比不同类型股吧的情绪 (上市公司整体 vs 其他股吧整体) ---\n",
    "if 'other_daily' in dfs_filtered and 'company_daily' in daily_agg_comp:\n",
    "    df_other_daily = dfs_filtered['other_daily']\n",
    "    # 按日期聚合其他股吧数据\n",
    "    daily_agg_other = df_other_daily.groupby(['Date', 'Period']).agg(\n",
    "         Pospostnum_sum=('Pospostnum', 'sum'),\n",
    "         Negpostnum_sum=('Negpostnum', 'sum'),\n",
    "         # Sent_Ratio_wavg_Readnum=lambda x: np.average(x['Sent_Ratio'], weights=x['Readnum'] + 1e-6) if x['Readnum'].sum() > 0 else 0,\n",
    "    ).reset_index()\n",
    "    daily_agg_other['Sent_Ratio_overall'] = (daily_agg_other['Pospostnum_sum'] - daily_agg_other['Negpostnum_sum']) / \\\n",
    "                                            (daily_agg_other['Pospostnum_sum'] + daily_agg_other['Negpostnum_sum'] + 1e-6)\n",
    "    daily_agg_other['Sent_Ratio_overall'] = daily_agg_other['Sent_Ratio_overall'].clip(-1, 1)\n",
    "\n",
    "    # 合并两种类型的聚合数据\n",
    "    daily_agg_comp_subset = daily_agg_comp[['Date', 'Sent_Ratio_overall']].rename(columns={'Sent_Ratio_overall': 'Company_Sent_Ratio'})\n",
    "    daily_agg_other_subset = daily_agg_other[['Date', 'Sent_Ratio_overall']].rename(columns={'Sent_Ratio_overall': 'Other_Sent_Ratio'})\n",
    "    merged_sent = pd.merge(daily_agg_comp_subset, daily_agg_other_subset, on='Date', how='outer')\n",
    "\n",
    "    # 绘图对比\n",
    "    fig_compare_type = px.line(merged_sent.melt(id_vars='Date', var_name='Guba_Type', value_name='Sentiment_Ratio'),\n",
    "                               x='Date', y='Sentiment_Ratio', color='Guba_Type',\n",
    "                               title='上市公司股吧 vs 其他股吧 每日总体情感比率对比')\n",
    "    fig_compare_type.add_hline(y=0, line_width=1, line_dash=\"dash\", line_color=\"grey\")\n",
    "    fig_compare_type.update_yaxes(range=[-1, 1])\n",
    "    fig_compare_type.show()\n",
    "    # fig_compare_type.write_image(\"guba_type_sentiment_comparison.png\")\n",
    "\n",
    "# --- 示例：对比单个核心公司 vs 其他股吧 (以山东黄金为例) ---\n",
    "if 'company_daily' in dfs_filtered and 'other_daily' in dfs_filtered:\n",
    "    target_company = '山东黄金' # 选择一个公司\n",
    "    df_target_comp = dfs_filtered['company_daily'][dfs_filtered['company_daily']['Coname'] == target_company].copy()\n",
    "    # 这里直接用 Sent_Ratio_overall 计算起来麻烦，用计算好的 Sent_Ratio\n",
    "    df_target_comp = df_target_comp[['Date', 'Sent_Ratio']].rename(columns={'Sent_Ratio': f'{target_company}_Sent_Ratio'})\n",
    "\n",
    "    # 使用上面聚合好的 other 数据\n",
    "    # daily_agg_other_subset ...\n",
    "    df_other_daily = dfs_filtered['other_daily']\n",
    "    daily_agg_other = df_other_daily.groupby(['Date', 'Period']).agg(\n",
    "         Pospostnum_sum=('Pospostnum', 'sum'),\n",
    "         Negpostnum_sum=('Negpostnum', 'sum'),\n",
    "         # Sent_Ratio_wavg_Readnum=lambda x: np.average(x['Sent_Ratio'], weights=x['Readnum'] + 1e-6) if x['Readnum'].sum() > 0 else 0,\n",
    "    ).reset_index()\n",
    "    daily_agg_other['Sent_Ratio_overall'] = (daily_agg_other['Pospostnum_sum'] - daily_agg_other['Negpostnum_sum']) / \\\n",
    "                                            (daily_agg_other['Pospostnum_sum'] + daily_agg_other['Negpostnum_sum'] + 1e-6)\n",
    "    daily_agg_other['Sent_Ratio_overall'] = daily_agg_other['Sent_Ratio_overall'].clip(-1, 1)\n",
    "    \n",
    "    daily_agg_other_subset = daily_agg_other[['Date', 'Sent_Ratio_overall']].rename(columns={'Sent_Ratio_overall': 'Other_Sent_Ratio'})\n",
    "\n",
    "    merged_comp_other = pd.merge(df_target_comp, daily_agg_other_subset, on='Date', how='outer')\n",
    "\n",
    "    fig_compare_sdhj_other = px.line(merged_comp_other.melt(id_vars='Date', var_name='Source', value_name='Sentiment_Ratio'),\n",
    "                                     x='Date', y='Sentiment_Ratio', color='Source',\n",
    "                                     title=f'{target_company} vs 其他股吧 每日情感比率对比')\n",
    "    fig_compare_sdhj_other.add_hline(y=0, line_width=1, line_dash=\"dash\", line_color=\"grey\")\n",
    "    fig_compare_sdhj_other.update_yaxes(range=[-1, 1])\n",
    "    fig_compare_sdhj_other.show()\n",
    "    # fig_compare_sdhj_other.write_image(\"sdhj_vs_other_sentiment.png\")"
   ]
  },
  {
   "cell_type": "markdown",
   "metadata": {},
   "source": [
    "**第5步：交易时间段与非交易时间段分析**\n",
    "- **操作**: 利用带有 `Tradetime_Dum` (是否交易时间段) 的数据集，对比*交易时段和非交易时段的情绪差异*。\n",
    "- **注释与依据**:\n",
    "    - **数据利用**: 这是利用你提供的 `*_trading_time.csv` 数据集的关键分析。\n",
    "    - **分组对比 (`groupby().mean(), groupby().sum()`)**: 直接比较 `Tradetime_Dum` 为 0（非交易）和 1（交易）时段的平均情感指标，或总量指标。\n",
    "    - **可视化**: 使用*柱状图*可以清晰地对比两个时段的**平均情绪**。使用*堆叠柱状图*可以展示不同时段**信息量的占比**。\n",
    "    - **潜在模式**: 分析这些差异有助于理解：\n",
    "        - 市场情绪是*在交易时段集中爆发，还是在非交易时段（如盘后、周末）发酵*？\n",
    "        - 交易时段的情绪是否*更受价格波动影响*？\n",
    "        - 信息（帖子、阅读量）主要*在哪个时段产生*？"
   ]
  },
  {
   "cell_type": "code",
   "execution_count": null,
   "metadata": {},
   "outputs": [
    {
     "name": "stdout",
     "output_type": "stream",
     "text": [
      "\n",
      "--- 开始交易/非交易时间段情绪分析 ---\n",
      "\n",
      "按时期和是否交易时段划分的平均情感比率:\n",
      "        NonTrading_AvgSent  Trading_AvgSent\n",
      "Period                                     \n",
      "俄乌冲突期             0.578969         0.432245\n",
      "疫情期               0.434554         0.090831\n"
     ]
    }
   ],
   "source": [
    "print(\"\\n--- 开始交易/非交易时间段情绪分析 ---\")\n",
    "# 主要使用*_trading 数据集\n",
    "\n",
    "if 'company_trading' in dfs_filtered:\n",
    "    df_comp_trade = dfs_filtered['company_trading'] \n",
    "\n",
    "    # 确保 Tradetime_Dum 列是数值类型(0或1)\n",
    "    df_comp_trade['Tradetime_Dum']= pd.to_numeric(df_comp_trade['Tradetime_Dum'],errors='coerce') #.fillna(0).astype(int) # 确保是整数0或1\n",
    "        # pd.to_numeric是pandas库中用于将数据转换为数值类型的函数\n",
    "        # 参数errors='coerce'表示在转换过程中，如果遇到无法转换为数值的数据，将它们设置为NaN（即不是数字）。\n",
    "        # 这样，Tradetime_Dum列中的所有非数值数据都会被替换为NaN，而其他数值数据则保持不变。\n",
    "        # 这种处理方式通常用于数据清洗和预处理阶段，以确保数据的统一性和后续分析的准确性。\n",
    "    # 方法一：按是否交易时间段分组，计算平均情感\n",
    "    avg_sent_by_tradetime = df_comp_trade.groupby(['Period','Tradetime_Dum'])['Sent_Ratio'].mean().unstack()\n",
    "        # 计算在不同时间段和交易时间哑变量组合下，情感比率（Sent_Ratio）的平均值。\n",
    "        # 首先使用groupby(['Period','Tradetime_Dum'])根据时间段（Period）和交易时间哑变量（Tradetime_Dum）对数据进行分组，\n",
    "        # 然后对每个分组中的情感比率（Sent_Ratio）列求平均值，\n",
    "        # 最后使用unstack()方法将结果进行展开，以便于更直观地查看不同组合下的平均情感比率。\n",
    "            # .unstack() 是一个在数据分析和处理中常用的函数，特别是在使用Pandas库处理DataFrame时。\n",
    "            # 它的主要功能是将DataFrame的某一层级索引（或多层级索引中的一个）转换成列，从而实现数据的重塑。\n",
    "            # 简单来说，就是将原本按行组织的索引“展开”成列，使得原本隐藏在索引中的数据变得更加直观和易于分析。\n",
    "            # 这个操作在处理分组数据、时间序列数据或者需要转换数据视角的场景中非常有用。\n",
    "            # 在这个例子中直观表现就是print结果是否有多层索引\n",
    "        # 这里的df_comp_trade是一个DataFrame，包含了相关的数据。\n",
    "        \n",
    "    # 重命名列名（非交易时间段/交易时间段），使其更清晰\n",
    "    avg_sent_by_tradetime.columns = ['NonTrading_AvgSent', 'Trading_AvgSent']\n",
    "    print('\\n按时期和是否交易时段划分的平均情感比率:')\n",
    "    print(avg_sent_by_tradetime)\n"
   ]
  },
  {
   "cell_type": "code",
   "execution_count": 34,
   "metadata": {},
   "outputs": [
    {
     "data": {
      "text/plain": [
       "<matplotlib.lines.Line2D at 0x1da5090eb40>"
      ]
     },
     "execution_count": 34,
     "metadata": {},
     "output_type": "execute_result"
    },
    {
     "data": {
      "image/png": "[encoded data removed]",
      "text/plain": [
       "<Figure size 1000x600 with 1 Axes>"
      ]
     },
     "metadata": {},
     "output_type": "display_data"
    }
   ],
   "source": [
    "# 可视化对比(柱状图)\n",
    "avg_sent_by_tradetime.plot(kind='bar', figsize=(10,6))\n",
    "plt.title('交易时段 vs 非交易时段 平均情感比率对比')\n",
    "plt.xlabel('时期')\n",
    "plt.ylabel('平均情感比率')\n",
    "plt.xticks(rotation=0)\n",
    "plt.axhline(0,color='grey',linewidth=0.8,linestyle='--') # 添加零线\n",
    "\n"
   ]
  },
  {
   "cell_type": "code",
   "execution_count": null,
   "metadata": {},
   "outputs": [
    {
     "name": "stdout",
     "output_type": "stream",
     "text": [
      "\n",
      "按时期和是否交易时段划分的发帖/阅读/评论量占比(%)\n",
      "                              Tpostnum    Readnum  Commentnum\n",
      "Period Period Tradetime_Dum                                  \n",
      "俄乌冲突期  俄乌冲突期  非交易时段          37.280058  50.092469   52.114909\n",
      "              交易时段           62.719942  49.907531   47.885091\n",
      "疫情期    疫情期    非交易时段          33.080537  45.123460   44.900842\n",
      "              交易时段           66.919463  54.876540   55.099158\n"
     ]
    }
   ],
   "source": [
    "# 观察交易日前后情绪变化（更复杂，需要按日期和时间排序处理）\n",
    "# 例如，可以比较 交易日9:00-15:00的情绪 与 前一天15：00-当天9：00的情绪 差异\n",
    "# 需要更复杂的情绪处理，例如将日期和时间段合并或排序\n",
    "\n",
    "# 简化：查看交易时段的帖子/阅读量占比，了解信息发布集中度\n",
    "volume_by_tradetime = df_comp_trade.groupby(['Period','Tradetime_Dum'])[['Tpostnum','Readnum','Commentnum']].sum()\n",
    "# 错误情况：使用.apply(lambda)语句计算占比，导致结果在原df上再加一层索引\n",
    "# volume_by_tradetime_pct =volume_by_tradetime.groupby(level='Period').apply(lambda x:100*x / x.sum())\n",
    "# volume_by_tradetime_pct.rename(index={0:'非交易时段',1:'交易时段'},inplace=True) # 使用 level='Tradetime_Dum' 可能更好，或直接unstack\n",
    "#     # .groupby(level='Period') 是一种在Pandas库中用于数据分组的方法。\n",
    "#     # 它表示按照数据中的'Period'这一层级（通常在多级索引DataFrame中）对数据进行分组。\n",
    "#     # 这样可以将具有相同'Period'值的数据点归为一组，便于后续进行聚合、转换或分析操作。\n",
    "#     # 简单来说，就是根据'Period'这一列或索引的不同值，将数据分成若干组。\n",
    "# print('\\n按时期和是否交易时段划分的发帖/阅读/评论量占比(%)')\n",
    "# print(volume_by_tradetime_pct)"
   ]
  },
  {
   "cell_type": "code",
   "execution_count": null,
   "metadata": {},
   "outputs": [
    {
     "name": "stdout",
     "output_type": "stream",
     "text": [
      "                Tpostnum               Readnum           \n",
      "Tradetime_Dum       交易时段      非交易时段       交易时段      非交易时段\n",
      "Period Period                                            \n",
      "俄乌冲突期  俄乌冲突期   62.719942  37.280058  49.907531  50.092469\n",
      "疫情期    疫情期     66.919463  33.080537  54.876540  45.123460\n"
     ]
    }
   ],
   "source": [
    "# print(volume_by_tradetime_pct[['Tpostnum','Readnum']].unstack(level='Tradetime_Dum'))"
   ]
  },
  {
   "cell_type": "code",
   "execution_count": null,
   "metadata": {},
   "outputs": [
    {
     "name": "stdout",
     "output_type": "stream",
     "text": [
      "\n",
      "按时期和是否交易时段划分的发帖/阅读/评论量占比 (%) [使用 Transform]:\n",
      "                       Tpostnum    Readnum  Commentnum\n",
      "Period Tradetime_Dum                                  \n",
      "俄乌冲突期  0              37.280058  50.092469   52.114909\n",
      "       1              62.719942  49.907531   47.885091\n",
      "疫情期    0              33.080537  45.123460   44.900842\n",
      "       1              66.919463  54.876540   55.099158\n",
      "\n",
      "索引结构:\n",
      "MultiIndex([('俄乌冲突期', 0),\n",
      "            ('俄乌冲突期', 1),\n",
      "            (  '疫情期', 0),\n",
      "            (  '疫情期', 1)],\n",
      "           names=['Period', 'Tradetime_Dum'])\n"
     ]
    }
   ],
   "source": [
    "# 正确处理：使用transform() 方法\n",
    "# groupby(level='Period').transform('sum') 会返回一个与 volume_by_tradetime 形状相同、索引相同的DataFrame,\n",
    "# 其中每个单元格的值是其所属 Period 分组的总和。\n",
    "period_sums = volume_by_tradetime.groupby(level='Period').transform('sum')\n",
    "\n",
    "# 直接用原始总量除以同形状的时期总和，得到占比，索引保持不变 (Period, Tradetime_Dum)\n",
    "volume_by_tradetime_pct = 100 * volume_by_tradetime / (period_sums + 1e-6) # 加 epsilon 防除零\n",
    "\n",
    "print(\"\\n按时期和是否交易时段划分的发帖/阅读/评论量占比 (%) [使用 Transform]:\")\n",
    "# 打印前检查一下索引，确认结构是 (Period, Tradetime_Dum)\n",
    "print(volume_by_tradetime_pct.head())\n",
    "print(\"\\n索引结构:\")\n",
    "print(volume_by_tradetime_pct.index)"
   ]
  },
  {
   "cell_type": "code",
   "execution_count": 78,
   "metadata": {},
   "outputs": [
    {
     "name": "stdout",
     "output_type": "stream",
     "text": [
      "                Tpostnum               Readnum           \n",
      "Tradetime_Dum      非交易时段       交易时段      非交易时段       交易时段\n",
      "Period                                                   \n",
      "俄乌冲突期          37.280058  62.719942  50.092469  49.907531\n",
      "疫情期            33.080537  66.919463  45.123460  54.876540\n"
     ]
    }
   ],
   "source": [
    "p=volume_by_tradetime_pct[['Tpostnum','Readnum']].unstack(level='Tradetime_Dum')\n",
    "p.rename(columns={0:'非交易时段',1:'交易时段'},inplace=True)\n",
    "print(p)"
   ]
  },
  {
   "cell_type": "code",
   "execution_count": 85,
   "metadata": {},
   "outputs": [
    {
     "data": {
      "image/png": "[encoded data removed]",
      "text/plain": [
       "<Figure size 1600x700 with 2 Axes>"
      ]
     },
     "metadata": {},
     "output_type": "display_data"
    }
   ],
   "source": [
    "# --- 4. 可视化占比 (这部分代码可以保持不变) ---\n",
    "fig, axes = plt.subplots(1, 2, figsize=(16, 7), sharey=True)\n",
    "\n",
    "# 绘制帖子数占比图\n",
    "p['Tpostnum'].plot(kind='bar', stacked=True, ax=axes[0], colormap='tab10')\n",
    "axes[0].set_title('交易时段 vs 非交易时段 帖子数占比')\n",
    "axes[0].set_xlabel('时期')\n",
    "axes[0].set_ylabel('占比 (%)')\n",
    "axes[0].tick_params(axis='x', rotation=0)\n",
    "axes[0].legend(title='时段类型')\n",
    "for container in axes[0].containers:\n",
    "    axes[0].bar_label(container, fmt='%.1f%%', label_type='center', color='white', weight='bold', fontsize=9)\n",
    "# 绘制阅读量占比图\n",
    "p['Readnum'].plot(kind='bar', stacked=True, ax=axes[1], colormap='tab10')\n",
    "axes[1].set_title('交易时段 vs 非交易时段 阅读量占比')\n",
    "axes[1].set_xlabel('时期')\n",
    "axes[1].tick_params(axis='x', rotation=0)\n",
    "axes[1].legend(title='时段类型')\n",
    "for container in axes[1].containers:\n",
    "    axes[1].bar_label(container, fmt='%.1f%%', label_type='center', color='white', weight='bold', fontsize=9)\n",
    "\n",
    "plt.suptitle('交易时段 vs 非交易时段 帖子与阅读量占比分析', fontsize=16)\n",
    "plt.tight_layout(rect=[0, 0.03, 1, 0.95])\n",
    "plt.savefig('tradetime_volume_percentage_subplots_transform.png')\n",
    "plt.show()"
   ]
  },
  {
   "cell_type": "code",
   "execution_count": null,
   "metadata": {},
   "outputs": [
    {
     "data": {
      "image/png": "[encoded data removed]",
      "text/plain": [
       "<Figure size 1200x700 with 1 Axes>"
      ]
     },
     "metadata": {},
     "output_type": "display_data"
    }
   ],
   "source": [
    "# 错误：将两个指标公用同一组的可视化占比(堆叠柱状图)\n",
    "# volume_by_tradetime_pct[['Tpostnum','Readnum']].unstack(level='Tradetime_Dum').plot(kind='bar',stacked=True,figsize=(12,7))\n",
    "# plt.title('交易时段 vs 非交易时段 帖子与阅读量占比')\n",
    "# plt.xlabel('时期')\n",
    "# plt.ylabel('占比(%)')\n",
    "# plt.xticks(rotation=0)\n",
    "# plt.legend(title='时段类型',labels=['非交易','交易'])  # 确认标签对应\n",
    "\n",
    "# plt.tight_layout()\n",
    "#     # plt.tight_layout() 用于自动调整子图参数，使之填充整个图像区域，同时尽量减少子图之间的重叠。\n",
    "#     # 当在一个图像中绘制多个子图时，经常会遇到子图之间的间距、标签或标题显示不全的问题，\n",
    "#     # 使用 plt.tight_layout() 可以有效地解决这些问题，使图像更加整洁和美观。\n",
    "#     # 简而言之，这个函数的作用是优化图像布局，确保所有元素都能恰当地显示。\n",
    "# plt.savefig('tradetime_volume_percentage.png')\n",
    "# plt.show()"
   ]
  },
  {
   "cell_type": "markdown",
   "metadata": {},
   "source": [
    "## 第6步：关联性分析 (与黄金价格)\n",
    "- **操作**: 获取同期的黄金价格数据（例如*伦敦金现货价格XAUUSD，或国内黄金期货价格*），与计算出的情感指数进行相关性分析或可视化对比。\n",
    "- 上海黄金交易所现货实盘 Au99.99 品  种 作 为 黄 金 价 格 代 表 进 行 研 究 ,数 据 来 自 国 泰 安 CSMAR 数 据 库 ,样 本 期 为 2020—2022 年 ,得到1213个日度数据。\n",
    "- **注释与依据**:\n",
    "    - **外部数据整合**: 这是将文本情绪分析与实际市场行为联系起来的关键一步。获取可靠、频率匹配（*日度）的黄金价格数据*至关重要。\n",
    "    - **数据合并**: 使用 `join` 或 `merge` 将价格数据按日期合并到聚合的情感数据中。`how='inner'` 保证只分析两者都有数据的日期。\n",
    "    - **相关性分析 (`.corr()`)**: 计算**皮尔逊相关系数矩阵**，快速了解哪些情绪/关注度指标与金价呈正相关或负相关。注意：相关性不等于因果性！\n",
    "    - 热力图 (sns.heatmap): 直观展示相关系数矩阵，颜色深浅和正负表示相关性强弱和方向。\n",
    "    - 可视化对比: 将情感指数曲线和价格曲线放在同一时间轴上对比，直观观察两者走势是否一致、是否存在*领先/滞后*关系。\n",
    "    - 格兰杰因果检验 (可选，高级): 引入 `statsmodels` 库进行**格兰杰因果检验**，可以初步探索**一个时间序列是否有助于预测另一个时间序列**。这是比简单相关性更进一步的分析，但结果解释需谨慎，且对*数据平稳性*有要求。在Pre中展示这个方法可以体现统计深度，但要强调其局限性。"
   ]
  },
  {
   "cell_type": "code",
   "execution_count": 86,
   "metadata": {},
   "outputs": [
    {
     "name": "stdout",
     "output_type": "stream",
     "text": [
      "\n",
      "--- 开始关联性分析 (需要外部黄金价格数据) ---\n",
      "黄金价格数据加载成功。\n"
     ]
    }
   ],
   "source": [
    "print(\"\\n--- 开始关联性分析 (需要外部黄金价格数据) ---\")\n",
    "\n",
    "# --- 1. 加载黄金价格数据 ---\n",
    "# 假设你找到了一个包含日期和收盘价的CSV文件: gold_price.csv\n",
    "# 列名可能为 'Date', 'Close_Price'\n",
    "# try:\n",
    "    \n",
    "# 确保日期格式一致，并设为索引\n",
    "gold_price_df = pd.read_csv('gold_price.csv')\n",
    "gold_price_df['Date'] = pd.to_datetime(gold_price_df['Date'])\n",
    "gold_price_df = gold_price_df.set_index('Date')\n",
    "# 仅保留收盘价，并重命名\n",
    "gold_price_df = gold_price_df[['Close_Price']].rename(columns={'Close_Price': 'Gold_Price'})\n",
    "print(\"黄金价格数据加载成功。\")\n",
    "\n",
    "   \n",
    "\n",
    "\n",
    "#     else:\n",
    "#         print(\"缺少聚合后的公司情感数据 ('daily_agg_comp')，无法进行关联分析。\")\n",
    "\n",
    "# except FileNotFoundError:\n",
    "#     print(\"错误：未找到黄金价格数据文件 'gold_price.csv'。请准备该文件。\")\n",
    "# except Exception as e:\n",
    "#     print(f\"处理黄金价格数据或进行关联分析时出错: {e}\")"
   ]
  },
  {
   "cell_type": "code",
   "execution_count": 87,
   "metadata": {},
   "outputs": [
    {
     "name": "stdout",
     "output_type": "stream",
     "text": [
      "\n",
      "已合并情感数据与黄金价格数据。\n",
      "            Sent_Ratio_overall  Sent_Ratio_wavg_Readnum  Tpostnum_sum  \\\n",
      "Date                                                                    \n",
      "2020-07-01            0.184783                 0.196932           798   \n",
      "2020-07-02           -0.009174                 0.010942           706   \n",
      "2020-07-03            0.202952                 0.214601           585   \n",
      "2020-07-06            0.250996                 0.245910           537   \n",
      "2020-07-07            0.272265                 0.276071           751   \n",
      "\n",
      "            Gold_Price  \n",
      "Date                    \n",
      "2020-07-01      400.82  \n",
      "2020-07-02      396.04  \n",
      "2020-07-03      397.55  \n",
      "2020-07-06      396.97  \n",
      "2020-07-07      397.46  \n"
     ]
    }
   ],
   "source": [
    "# --- 2. 合并情感数据与价格数据 ---\n",
    "    # 以每日聚合的公司数据为例\n",
    "if 'daily_agg_comp' in locals():\n",
    "    # 确保 daily_agg_comp 的 Date 是索引或普通列，以便合并\n",
    "    if not isinstance(daily_agg_comp.index, pd.DatetimeIndex):\n",
    "        daily_agg_comp = daily_agg_comp.set_index('Date')\n",
    "\n",
    "    # 使用 merge 或 join 合并\n",
    "    merged_data = daily_agg_comp.join(gold_price_df, how='inner') # inner join 只保留双方都有的日期\n",
    "    print(\"\\n已合并情感数据与黄金价格数据。\")\n",
    "    print(merged_data[['Sent_Ratio_overall', 'Sent_Ratio_wavg_Readnum', 'Tpostnum_sum', 'Gold_Price']].head())\n",
    "\n",
    "        "
   ]
  },
  {
   "cell_type": "code",
   "execution_count": 88,
   "metadata": {},
   "outputs": [
    {
     "name": "stdout",
     "output_type": "stream",
     "text": [
      "\n",
      "情感/关注度指标与黄金价格的相关系数矩阵:\n",
      "                         Sent_Ratio_overall  Sent_Ratio_wavg_Readnum  \\\n",
      "Sent_Ratio_overall                 1.000000                 0.996816   \n",
      "Sent_Ratio_wavg_Readnum            0.996816                 1.000000   \n",
      "Tpostnum_sum                      -0.290383                -0.291059   \n",
      "Readnum_sum                       -0.283272                -0.285625   \n",
      "Commentnum_sum                    -0.037510                -0.037698   \n",
      "Gold_Price                        -0.482199                -0.485035   \n",
      "\n",
      "                         Tpostnum_sum  Readnum_sum  Commentnum_sum  Gold_Price  \n",
      "Sent_Ratio_overall          -0.290383    -0.283272       -0.037510   -0.482199  \n",
      "Sent_Ratio_wavg_Readnum     -0.291059    -0.285625       -0.037698   -0.485035  \n",
      "Tpostnum_sum                 1.000000     0.915576        0.888151    0.450801  \n",
      "Readnum_sum                  0.915576     1.000000        0.878247    0.434926  \n",
      "Commentnum_sum               0.888151     0.878247        1.000000    0.198843  \n",
      "Gold_Price                   0.450801     0.434926        0.198843    1.000000  \n"
     ]
    },
    {
     "data": {
      "image/png": "[encoded data removed]",
      "text/plain": [
       "<Figure size 1000x800 with 2 Axes>"
      ]
     },
     "metadata": {},
     "output_type": "display_data"
    }
   ],
   "source": [
    "# --- 3. 计算相关系数 ---\n",
    "# 选择要分析的列\n",
    "columns_to_correlate = ['Sent_Ratio_overall', 'Sent_Ratio_wavg_Readnum', 'Tpostnum_sum', 'Readnum_sum', 'Commentnum_sum', 'Gold_Price']\n",
    "correlation_matrix = merged_data[columns_to_correlate].corr()\n",
    "print(\"\\n情感/关注度指标与黄金价格的相关系数矩阵:\")\n",
    "print(correlation_matrix)\n",
    "\n",
    "# 可视化相关系数矩阵 (热力图)\n",
    "plt.figure(figsize=(10, 8))\n",
    "sns.heatmap(correlation_matrix, annot=True, cmap='coolwarm', fmt=\".2f\", linewidths=.5)\n",
    "plt.title('情绪/关注度指标与黄金价格相关性热力图')\n",
    "plt.tight_layout()\n",
    "plt.savefig('correlation_heatmap_sentiment_price.png')\n",
    "plt.show()\n",
    "\n",
    "       "
   ]
  },
  {
   "cell_type": "code",
   "execution_count": 89,
   "metadata": {},
   "outputs": [
    {
     "data": {
      "application/vnd.plotly.v1+json": {
       "config": {
        "plotlyServerURL": "https://plot.ly"
       },
       "data": [
        {
         "name": "Sentiment Ratio",
         "type": "scatter",
         "x": [
          "2020-07-01T00:00:00.000000000",
          "2020-07-02T00:00:00.000000000",
          "2020-07-03T00:00:00.000000000",
          "2020-07-06T00:00:00.000000000",
          "2020-07-07T00:00:00.000000000",
          "2020-07-08T00:00:00.000000000",
          "2020-07-09T00:00:00.000000000",
          "2020-07-10T00:00:00.000000000",
          "2020-07-13T00:00:00.000000000",
          "2020-07-14T00:00:00.000000000",
          "2020-07-15T00:00:00.000000000",
          "2020-07-16T00:00:00.000000000",
          "2020-07-17T00:00:00.000000000",
          "2020-07-20T00:00:00.000000000",
          "2020-07-21T00:00:00.000000000",
          "2020-07-22T00:00:00.000000000",
          "2020-07-23T00:00:00.000000000",
          "2020-07-24T00:00:00.000000000",
          "2020-07-27T00:00:00.000000000",
          "2020-07-28T00:00:00.000000000",
          "2020-07-29T00:00:00.000000000",
          "2020-07-30T00:00:00.000000000",
          "2020-07-31T00:00:00.000000000",
          "2020-08-03T00:00:00.000000000",
          "2020-08-04T00:00:00.000000000",
          "2020-08-05T00:00:00.000000000",
          "2020-08-06T00:00:00.000000000",
          "2020-08-07T00:00:00.000000000",
          "2020-08-10T00:00:00.000000000",
          "2020-08-11T00:00:00.000000000",
          "2020-08-12T00:00:00.000000000",
          "2020-08-13T00:00:00.000000000",
          "2020-08-14T00:00:00.000000000",
          "2020-08-17T00:00:00.000000000",
          "2020-08-18T00:00:00.000000000",
          "2020-08-19T00:00:00.000000000",
          "2020-08-20T00:00:00.000000000",
          "2020-08-21T00:00:00.000000000",
          "2020-08-24T00:00:00.000000000",
          "2020-08-25T00:00:00.000000000",
          "2020-08-26T00:00:00.000000000",
          "2020-08-27T00:00:00.000000000",
          "2020-08-28T00:00:00.000000000",
          "2020-08-31T00:00:00.000000000",
          "2020-09-01T00:00:00.000000000",
          "2020-09-02T00:00:00.000000000",
          "2020-09-03T00:00:00.000000000",
          "2020-09-04T00:00:00.000000000",
          "2020-09-07T00:00:00.000000000",
          "2020-09-08T00:00:00.000000000",
          "2020-09-09T00:00:00.000000000",
          "2020-09-10T00:00:00.000000000",
          "2020-09-11T00:00:00.000000000",
          "2020-09-14T00:00:00.000000000",
          "2020-09-15T00:00:00.000000000",
          "2020-09-16T00:00:00.000000000",
          "2020-09-17T00:00:00.000000000",
          "2020-09-18T00:00:00.000000000",
          "2020-09-21T00:00:00.000000000",
          "2020-09-22T00:00:00.000000000",
          "2020-09-23T00:00:00.000000000",
          "2020-09-24T00:00:00.000000000",
          "2020-09-25T00:00:00.000000000",
          "2020-09-28T00:00:00.000000000",
          "2020-09-29T00:00:00.000000000",
          "2020-09-30T00:00:00.000000000",
          "2020-10-09T00:00:00.000000000",
          "2020-10-12T00:00:00.000000000",
          "2020-10-13T00:00:00.000000000",
          "2020-10-14T00:00:00.000000000",
          "2020-10-15T00:00:00.000000000",
          "2020-10-16T00:00:00.000000000",
          "2020-10-19T00:00:00.000000000",
          "2020-10-20T00:00:00.000000000",
          "2020-10-21T00:00:00.000000000",
          "2020-10-22T00:00:00.000000000",
          "2020-10-23T00:00:00.000000000",
          "2020-10-26T00:00:00.000000000",
          "2020-10-27T00:00:00.000000000",
          "2020-10-28T00:00:00.000000000",
          "2020-10-29T00:00:00.000000000",
          "2020-10-30T00:00:00.000000000",
          "2022-02-07T00:00:00.000000000",
          "2022-02-08T00:00:00.000000000",
          "2022-02-09T00:00:00.000000000",
          "2022-02-10T00:00:00.000000000",
          "2022-02-11T00:00:00.000000000",
          "2022-02-14T00:00:00.000000000",
          "2022-02-15T00:00:00.000000000",
          "2022-02-16T00:00:00.000000000",
          "2022-02-17T00:00:00.000000000",
          "2022-02-18T00:00:00.000000000",
          "2022-02-21T00:00:00.000000000",
          "2022-02-22T00:00:00.000000000",
          "2022-02-23T00:00:00.000000000",
          "2022-02-24T00:00:00.000000000",
          "2022-02-25T00:00:00.000000000",
          "2022-02-28T00:00:00.000000000",
          "2022-03-01T00:00:00.000000000",
          "2022-03-02T00:00:00.000000000",
          "2022-03-03T00:00:00.000000000",
          "2022-03-04T00:00:00.000000000",
          "2022-03-07T00:00:00.000000000",
          "2022-03-08T00:00:00.000000000",
          "2022-03-09T00:00:00.000000000",
          "2022-03-10T00:00:00.000000000",
          "2022-03-11T00:00:00.000000000",
          "2022-03-14T00:00:00.000000000",
          "2022-03-15T00:00:00.000000000",
          "2022-03-16T00:00:00.000000000",
          "2022-03-17T00:00:00.000000000",
          "2022-03-18T00:00:00.000000000",
          "2022-03-21T00:00:00.000000000",
          "2022-03-22T00:00:00.000000000",
          "2022-03-23T00:00:00.000000000",
          "2022-03-24T00:00:00.000000000",
          "2022-03-25T00:00:00.000000000",
          "2022-03-28T00:00:00.000000000",
          "2022-03-29T00:00:00.000000000",
          "2022-03-30T00:00:00.000000000",
          "2022-03-31T00:00:00.000000000",
          "2022-04-01T00:00:00.000000000",
          "2022-04-06T00:00:00.000000000",
          "2022-04-07T00:00:00.000000000",
          "2022-04-08T00:00:00.000000000",
          "2022-04-11T00:00:00.000000000",
          "2022-04-12T00:00:00.000000000",
          "2022-04-13T00:00:00.000000000",
          "2022-04-14T00:00:00.000000000",
          "2022-04-15T00:00:00.000000000",
          "2022-04-18T00:00:00.000000000",
          "2022-04-19T00:00:00.000000000",
          "2022-04-20T00:00:00.000000000",
          "2022-04-21T00:00:00.000000000",
          "2022-04-22T00:00:00.000000000",
          "2022-04-25T00:00:00.000000000",
          "2022-04-26T00:00:00.000000000",
          "2022-04-27T00:00:00.000000000",
          "2022-04-28T00:00:00.000000000",
          "2022-04-29T00:00:00.000000000",
          "2022-05-05T00:00:00.000000000",
          "2022-05-06T00:00:00.000000000",
          "2022-05-09T00:00:00.000000000",
          "2022-05-10T00:00:00.000000000",
          "2022-05-11T00:00:00.000000000",
          "2022-05-12T00:00:00.000000000",
          "2022-05-13T00:00:00.000000000",
          "2022-05-16T00:00:00.000000000",
          "2022-05-17T00:00:00.000000000",
          "2022-05-18T00:00:00.000000000",
          "2022-05-19T00:00:00.000000000",
          "2022-05-20T00:00:00.000000000",
          "2022-05-23T00:00:00.000000000",
          "2022-05-24T00:00:00.000000000",
          "2022-05-25T00:00:00.000000000",
          "2022-05-26T00:00:00.000000000",
          "2022-05-27T00:00:00.000000000",
          "2022-05-30T00:00:00.000000000",
          "2022-05-31T00:00:00.000000000"
         ],
         "xaxis": "x",
         "y": {
          "bdata": "b8eH3fSmxz8hZIpM+8mCv1xwHQNV+sk/lPfkllEQ0D+Yns2gyGzRPyWNkVRVVdU/L3hAnlvi1D8XI8DHOld+v/Tfz4Sprsw/BrrsKsxqxD+0ZfuZLwfYPwhOQxsJZqA/f1QF7W8twT+poZUHODTPP1mvkwGCIdk/X+2/jeM40D/9rsMccUfcP7HEXWLJL9Y/O5F6u7Vw0z9nFDBZi16BvzQi5EzbsNA/GH6mqCGasj+SfPs5eqzSPye07gyCU8k/b7dDPTZ9wT+bR5TXukLTP3cBTyIQe8c/jStjafi+Sz/41txSv+fGPwF9E7bjQ8C/zTFVeZbewr8jsy9TgFm4P9/oM5icyck/YdhkVFVV1T+qlDpvl3rSP6EQBZCQkMA/ZIYV3x/gf78X4VFv74e5vx2z3s9FF80/riqx0al5wL9+TcAcH4LEPwTOQTZhftc/wT/wWC9gyz+xhEZVspK1P5I0Wl1F4tU/r9rJegfxnb+0Gvc0lNewP430E+i8xcA/KHD1GIs5zb8uNZvuSOTJv47QQlh6SLM/A7MBOaQmuD+860Ag6YzDv7m7sAOzpIw/3cNloORO0T/b9iRG8wfLP2wurqBncsu/EdNbW2gVuD+qgO4LbeLPv6eU5r2HWLi/6EZn990Dob8xW1bN8NOpv4yUnhH5rLs/7VpjMKu4zT/B0D+6zlqyP6F44nLRRcc/fDKfUlVV1T/5LTVJDezNPxEMpPkcUtM/b61xz0UX1T+1Wf1PDPXHP0Jr6peZmck/c1hMMjMz0T9JxsNTluLAPzEQZtTV1dU/rMXyK2c6vD+Dv2sjBoHFP3lJARZddNE/cPWUlLck1D8TCA3byRG7P7tQzelRuL4/+jT/D8g1wT/CfrDYtm3bP78fJsZCFuI/zr24c2In3j96m979///fPzqq/Keqqt4/VNGX56R94D8MrdLaSSXcP3YUl3I029g/1pJgfEPr4D8SlWkME5DhP62EOXNfHts/fdyOLOZF3T+Rv9bkrhjXP9bXWt1To+A/R5G8JwtG2z9rg21qHcTgPzML5vL5fN4/jEI3AW0a4D/3gSCvkpDZPy8LWXoGotI/zb4CgnpP3T9CVy9uMEXiP6NSOONsw9s/bbDaBm532D9txLcdhevRP1AiIjyNsNw/RgWbbFxItT/oveuuFKjVP/7JGF391d8/a3ryteGG2z+YT4wxMzPjP5r/xhk0+eI/K/pMcOfO3T/QuTVoxwrkPzHG5cjlReA/zSlSMNpO4z+ODOMHORXgP2f2DrMxNN0/vMjvbxzH4T82PpP9/3/iP6159GwxpOM/4au2dtOb3j/yQftxCl7mP9tU/iRXEOM/s4LptGzZ4j/nQkRx7cDcPzVPD5VBqeA/zeP8YSI90D+rQ7QpoHHnP3gdkHqRKOU/RTUIsCn63D9NqOB2Jz/IP6YFOAj4hds/FTi6avXs0D+wO0HlbdLdP29MLZA4eN8/XsOY91uc1j8DKjxBskXkP213i5eZmeM/wIUMfTjg4T95aUukDXTaP00X+gIyKd4/dS/aHzXB2D84jvxn9iTfPx4rNH8FFtg/eDNQE1/x1T9/9EbhOI7jPxrkUMJNmN8/qlkv783Q2j90CzhVonblP/pc6WlCUOY/mE+MMTMz4z/G3MpcX1/fP11rXksD2uQ/DCyEesq04z9i6X2oqqriPwewMb8FLuA/",
          "dtype": "f8"
         },
         "yaxis": "y"
        },
        {
         "name": "Gold Price",
         "type": "scatter",
         "x": [
          "2020-07-01T00:00:00.000000000",
          "2020-07-02T00:00:00.000000000",
          "2020-07-03T00:00:00.000000000",
          "2020-07-06T00:00:00.000000000",
          "2020-07-07T00:00:00.000000000",
          "2020-07-08T00:00:00.000000000",
          "2020-07-09T00:00:00.000000000",
          "2020-07-10T00:00:00.000000000",
          "2020-07-13T00:00:00.000000000",
          "2020-07-14T00:00:00.000000000",
          "2020-07-15T00:00:00.000000000",
          "2020-07-16T00:00:00.000000000",
          "2020-07-17T00:00:00.000000000",
          "2020-07-20T00:00:00.000000000",
          "2020-07-21T00:00:00.000000000",
          "2020-07-22T00:00:00.000000000",
          "2020-07-23T00:00:00.000000000",
          "2020-07-24T00:00:00.000000000",
          "2020-07-27T00:00:00.000000000",
          "2020-07-28T00:00:00.000000000",
          "2020-07-29T00:00:00.000000000",
          "2020-07-30T00:00:00.000000000",
          "2020-07-31T00:00:00.000000000",
          "2020-08-03T00:00:00.000000000",
          "2020-08-04T00:00:00.000000000",
          "2020-08-05T00:00:00.000000000",
          "2020-08-06T00:00:00.000000000",
          "2020-08-07T00:00:00.000000000",
          "2020-08-10T00:00:00.000000000",
          "2020-08-11T00:00:00.000000000",
          "2020-08-12T00:00:00.000000000",
          "2020-08-13T00:00:00.000000000",
          "2020-08-14T00:00:00.000000000",
          "2020-08-17T00:00:00.000000000",
          "2020-08-18T00:00:00.000000000",
          "2020-08-19T00:00:00.000000000",
          "2020-08-20T00:00:00.000000000",
          "2020-08-21T00:00:00.000000000",
          "2020-08-24T00:00:00.000000000",
          "2020-08-25T00:00:00.000000000",
          "2020-08-26T00:00:00.000000000",
          "2020-08-27T00:00:00.000000000",
          "2020-08-28T00:00:00.000000000",
          "2020-08-31T00:00:00.000000000",
          "2020-09-01T00:00:00.000000000",
          "2020-09-02T00:00:00.000000000",
          "2020-09-03T00:00:00.000000000",
          "2020-09-04T00:00:00.000000000",
          "2020-09-07T00:00:00.000000000",
          "2020-09-08T00:00:00.000000000",
          "2020-09-09T00:00:00.000000000",
          "2020-09-10T00:00:00.000000000",
          "2020-09-11T00:00:00.000000000",
          "2020-09-14T00:00:00.000000000",
          "2020-09-15T00:00:00.000000000",
          "2020-09-16T00:00:00.000000000",
          "2020-09-17T00:00:00.000000000",
          "2020-09-18T00:00:00.000000000",
          "2020-09-21T00:00:00.000000000",
          "2020-09-22T00:00:00.000000000",
          "2020-09-23T00:00:00.000000000",
          "2020-09-24T00:00:00.000000000",
          "2020-09-25T00:00:00.000000000",
          "2020-09-28T00:00:00.000000000",
          "2020-09-29T00:00:00.000000000",
          "2020-09-30T00:00:00.000000000",
          "2020-10-09T00:00:00.000000000",
          "2020-10-12T00:00:00.000000000",
          "2020-10-13T00:00:00.000000000",
          "2020-10-14T00:00:00.000000000",
          "2020-10-15T00:00:00.000000000",
          "2020-10-16T00:00:00.000000000",
          "2020-10-19T00:00:00.000000000",
          "2020-10-20T00:00:00.000000000",
          "2020-10-21T00:00:00.000000000",
          "2020-10-22T00:00:00.000000000",
          "2020-10-23T00:00:00.000000000",
          "2020-10-26T00:00:00.000000000",
          "2020-10-27T00:00:00.000000000",
          "2020-10-28T00:00:00.000000000",
          "2020-10-29T00:00:00.000000000",
          "2020-10-30T00:00:00.000000000",
          "2022-02-07T00:00:00.000000000",
          "2022-02-08T00:00:00.000000000",
          "2022-02-09T00:00:00.000000000",
          "2022-02-10T00:00:00.000000000",
          "2022-02-11T00:00:00.000000000",
          "2022-02-14T00:00:00.000000000",
          "2022-02-15T00:00:00.000000000",
          "2022-02-16T00:00:00.000000000",
          "2022-02-17T00:00:00.000000000",
          "2022-02-18T00:00:00.000000000",
          "2022-02-21T00:00:00.000000000",
          "2022-02-22T00:00:00.000000000",
          "2022-02-23T00:00:00.000000000",
          "2022-02-24T00:00:00.000000000",
          "2022-02-25T00:00:00.000000000",
          "2022-02-28T00:00:00.000000000",
          "2022-03-01T00:00:00.000000000",
          "2022-03-02T00:00:00.000000000",
          "2022-03-03T00:00:00.000000000",
          "2022-03-04T00:00:00.000000000",
          "2022-03-07T00:00:00.000000000",
          "2022-03-08T00:00:00.000000000",
          "2022-03-09T00:00:00.000000000",
          "2022-03-10T00:00:00.000000000",
          "2022-03-11T00:00:00.000000000",
          "2022-03-14T00:00:00.000000000",
          "2022-03-15T00:00:00.000000000",
          "2022-03-16T00:00:00.000000000",
          "2022-03-17T00:00:00.000000000",
          "2022-03-18T00:00:00.000000000",
          "2022-03-21T00:00:00.000000000",
          "2022-03-22T00:00:00.000000000",
          "2022-03-23T00:00:00.000000000",
          "2022-03-24T00:00:00.000000000",
          "2022-03-25T00:00:00.000000000",
          "2022-03-28T00:00:00.000000000",
          "2022-03-29T00:00:00.000000000",
          "2022-03-30T00:00:00.000000000",
          "2022-03-31T00:00:00.000000000",
          "2022-04-01T00:00:00.000000000",
          "2022-04-06T00:00:00.000000000",
          "2022-04-07T00:00:00.000000000",
          "2022-04-08T00:00:00.000000000",
          "2022-04-11T00:00:00.000000000",
          "2022-04-12T00:00:00.000000000",
          "2022-04-13T00:00:00.000000000",
          "2022-04-14T00:00:00.000000000",
          "2022-04-15T00:00:00.000000000",
          "2022-04-18T00:00:00.000000000",
          "2022-04-19T00:00:00.000000000",
          "2022-04-20T00:00:00.000000000",
          "2022-04-21T00:00:00.000000000",
          "2022-04-22T00:00:00.000000000",
          "2022-04-25T00:00:00.000000000",
          "2022-04-26T00:00:00.000000000",
          "2022-04-27T00:00:00.000000000",
          "2022-04-28T00:00:00.000000000",
          "2022-04-29T00:00:00.000000000",
          "2022-05-05T00:00:00.000000000",
          "2022-05-06T00:00:00.000000000",
          "2022-05-09T00:00:00.000000000",
          "2022-05-10T00:00:00.000000000",
          "2022-05-11T00:00:00.000000000",
          "2022-05-12T00:00:00.000000000",
          "2022-05-13T00:00:00.000000000",
          "2022-05-16T00:00:00.000000000",
          "2022-05-17T00:00:00.000000000",
          "2022-05-18T00:00:00.000000000",
          "2022-05-19T00:00:00.000000000",
          "2022-05-20T00:00:00.000000000",
          "2022-05-23T00:00:00.000000000",
          "2022-05-24T00:00:00.000000000",
          "2022-05-25T00:00:00.000000000",
          "2022-05-26T00:00:00.000000000",
          "2022-05-27T00:00:00.000000000",
          "2022-05-30T00:00:00.000000000",
          "2022-05-31T00:00:00.000000000"
         ],
         "xaxis": "x2",
         "y": {
          "bdata": "hetRuB4NeUBxPQrXo8B4QM3MzMzM2HhA7FG4HoXPeECPwvUoXNd4QArXo3A99nhApHA9CtcfeUBxPQrXo/x4QHsUrkfhEnlA4XoUrkcFeUAK16NwPQZ5QHE9Ctej/HhA16NwPQrXeEDXo3A9Cut4QMP1KFyPGnlA16NwPQqneUBmZmZmZsp5QDMzMzMzH3pAmpmZmZmtekAzMzMzM5N6QIXrUbgesXpAAAAAAABgekDsUbgehc96QHsUrkfhunpAPQrXo3DBekA9CtejcHl7QKRwPQrXr3tApHA9Ctffe0BmZmZmZp57QAAAAAAAEHtAAAAAAABweUAAAAAAAMh5QHE9CtejCHpAMzMzMzNLekAAAAAAAOB6QK5H4XoUfnpAmpmZmZn5eUCkcD0K1+95QI/C9Shc+3lAAAAAAADQeUDhehSuR8l5QJqZmZmZGXpAexSuR+EiekAAAAAAADB6QEjhehSuf3pAzczMzMwkekAAAAAAAOh5QM3MzMzM7HlA7FG4HoXTeUAAAAAAAOh5QBSuR+F67HlAexSuR+EWekBxPQrXowR6QAAAAAAA+HlAFK5H4XoQekCPwvUoXAd6QDMzMzMz23lASOF6FK73eUC4HoXrUfR5QOF6FK5HWXlAH4XrUbgKeUBxPQrXo7R4QAAAAAAAAHlAj8L1KFzzeEDNzMzMzDx5QOxRuB6FL3lApHA9CtdHeUBxPQrXo4x5QK5H4XoUanlAmpmZmZkteUDNzMzMzCR5QAAAAAAAQHlAZmZmZmZGeUAAAAAAABB5QJqZmZmZQXlAXI/C9ShAeUCkcD0K1yt5QGZmZmZmDnlAuB6F61FAeUCamZmZmUl5QOxRuB6F93hAj8L1KFzTeECamZmZmTV3QPYoXI/CUXdAUrgehettd0AzMzMzM3t3QD0K16NwXXdAZmZmZma+d0BxPQrXowB4QNejcD0Kr3dAcT0K16Pkd0DsUbgehRd4QBSuR+F6FHhA16NwPQpneEDD9ShcjyZ4QArXo3A9snhA9ihcj8JZeEAzMzMzMyt4QGZmZmZmPnhAH4XrUbiqeEAzMzMzM394QKRwPQrXn3hAAAAAAAAYeUCPwvUoXJ95QPYoXI/C8XlAmpmZmZkheUCamZmZmTl5QNejcD0KC3lAMzMzMzObeEApXI/C9XR4QD0K16NwoXhACtejcD26eEDD9Shcj5p4QAAAAAAAxHhAKVyPwvWceEAAAAAAAOB4QAAAAAAAAHlAAAAAAADIeEAAAAAAAKB4QD0K16NwnXhACtejcD2ieEAzMzMzM7N4QDMzMzMzk3hAzczMzMykeEBSuB6F67F4QArXo3A95nhAFK5H4XoEeUDD9Shcjx55QMP1KFyPNnlASOF6FK5HeUCF61G4Hm15QClcj8L1THlA9ihcj8L9eEAzMzMzMzt5QKRwPQrXW3lASOF6FK4/eUAfhetRuAJ5QArXo3A9CnlAMzMzMzP/eEAzMzMzM1N5QNejcD0KK3lAAAAAAAAweUDNzMzMzDx5QPYoXI/CJXlAmpmZmZkFeUDXo3A9Cit5QDMzMzMz73hAXI/C9SjEeEB7FK5H4dJ4QBSuR+F6rHhA9ihcj8KteED2KFyPwsl4QEjhehSu43hAKVyPwvX0eED2KFyPwvV4QFK4HoXrDXlAAAAAAAAoeUA9CtejcPF4QJqZmZmZ5XhA",
          "dtype": "f8"
         },
         "yaxis": "y2"
        }
       ],
       "layout": {
        "annotations": [
         {
          "font": {
           "size": 16
          },
          "showarrow": false,
          "text": "每日聚合情感比率 (Overall)",
          "x": 0.5,
          "xanchor": "center",
          "xref": "paper",
          "y": 1,
          "yanchor": "bottom",
          "yref": "paper"
         },
         {
          "font": {
           "size": 16
          },
          "showarrow": false,
          "text": "黄金价格 (收盘价)",
          "x": 0.5,
          "xanchor": "center",
          "xref": "paper",
          "y": 0.375,
          "yanchor": "bottom",
          "yref": "paper"
         }
        ],
        "height": 600,
        "shapes": [
         {
          "line": {
           "color": "grey",
           "dash": "dash",
           "width": 1
          },
          "type": "line",
          "x0": 0,
          "x1": 1,
          "xref": "x domain",
          "y0": 0,
          "y1": 0,
          "yref": "y"
         }
        ],
        "template": {
         "data": {
          "bar": [
           {
            "error_x": {
             "color": "#2a3f5f"
            },
            "error_y": {
             "color": "#2a3f5f"
            },
            "marker": {
             "line": {
              "color": "#E5ECF6",
              "width": 0.5
             },
             "pattern": {
              "fillmode": "overlay",
              "size": 10,
              "solidity": 0.2
             }
            },
            "type": "bar"
           }
          ],
          "barpolar": [
           {
            "marker": {
             "line": {
              "color": "#E5ECF6",
              "width": 0.5
             },
             "pattern": {
              "fillmode": "overlay",
              "size": 10,
              "solidity": 0.2
             }
            },
            "type": "barpolar"
           }
          ],
          "carpet": [
           {
            "aaxis": {
             "endlinecolor": "#2a3f5f",
             "gridcolor": "white",
             "linecolor": "white",
             "minorgridcolor": "white",
             "startlinecolor": "#2a3f5f"
            },
            "baxis": {
             "endlinecolor": "#2a3f5f",
             "gridcolor": "white",
             "linecolor": "white",
             "minorgridcolor": "white",
             "startlinecolor": "#2a3f5f"
            },
            "type": "carpet"
           }
          ],
          "choropleth": [
           {
            "colorbar": {
             "outlinewidth": 0,
             "ticks": ""
            },
            "type": "choropleth"
           }
          ],
          "contour": [
           {
            "colorbar": {
             "outlinewidth": 0,
             "ticks": ""
            },
            "colorscale": [
             [
              0,
              "#0d0887"
             ],
             [
              0.1111111111111111,
              "#46039f"
             ],
             [
              0.2222222222222222,
              "#7201a8"
             ],
             [
              0.3333333333333333,
              "#9c179e"
             ],
             [
              0.4444444444444444,
              "#bd3786"
             ],
             [
              0.5555555555555556,
              "#d8576b"
             ],
             [
              0.6666666666666666,
              "#ed7953"
             ],
             [
              0.7777777777777778,
              "#fb9f3a"
             ],
             [
              0.8888888888888888,
              "#fdca26"
             ],
             [
              1,
              "#f0f921"
             ]
            ],
            "type": "contour"
           }
          ],
          "contourcarpet": [
           {
            "colorbar": {
             "outlinewidth": 0,
             "ticks": ""
            },
            "type": "contourcarpet"
           }
          ],
          "heatmap": [
           {
            "colorbar": {
             "outlinewidth": 0,
             "ticks": ""
            },
            "colorscale": [
             [
              0,
              "#0d0887"
             ],
             [
              0.1111111111111111,
              "#46039f"
             ],
             [
              0.2222222222222222,
              "#7201a8"
             ],
             [
              0.3333333333333333,
              "#9c179e"
             ],
             [
              0.4444444444444444,
              "#bd3786"
             ],
             [
              0.5555555555555556,
              "#d8576b"
             ],
             [
              0.6666666666666666,
              "#ed7953"
             ],
             [
              0.7777777777777778,
              "#fb9f3a"
             ],
             [
              0.8888888888888888,
              "#fdca26"
             ],
             [
              1,
              "#f0f921"
             ]
            ],
            "type": "heatmap"
           }
          ],
          "histogram": [
           {
            "marker": {
             "pattern": {
              "fillmode": "overlay",
              "size": 10,
              "solidity": 0.2
             }
            },
            "type": "histogram"
           }
          ],
          "histogram2d": [
           {
            "colorbar": {
             "outlinewidth": 0,
             "ticks": ""
            },
            "colorscale": [
             [
              0,
              "#0d0887"
             ],
             [
              0.1111111111111111,
              "#46039f"
             ],
             [
              0.2222222222222222,
              "#7201a8"
             ],
             [
              0.3333333333333333,
              "#9c179e"
             ],
             [
              0.4444444444444444,
              "#bd3786"
             ],
             [
              0.5555555555555556,
              "#d8576b"
             ],
             [
              0.6666666666666666,
              "#ed7953"
             ],
             [
              0.7777777777777778,
              "#fb9f3a"
             ],
             [
              0.8888888888888888,
              "#fdca26"
             ],
             [
              1,
              "#f0f921"
             ]
            ],
            "type": "histogram2d"
           }
          ],
          "histogram2dcontour": [
           {
            "colorbar": {
             "outlinewidth": 0,
             "ticks": ""
            },
            "colorscale": [
             [
              0,
              "#0d0887"
             ],
             [
              0.1111111111111111,
              "#46039f"
             ],
             [
              0.2222222222222222,
              "#7201a8"
             ],
             [
              0.3333333333333333,
              "#9c179e"
             ],
             [
              0.4444444444444444,
              "#bd3786"
             ],
             [
              0.5555555555555556,
              "#d8576b"
             ],
             [
              0.6666666666666666,
              "#ed7953"
             ],
             [
              0.7777777777777778,
              "#fb9f3a"
             ],
             [
              0.8888888888888888,
              "#fdca26"
             ],
             [
              1,
              "#f0f921"
             ]
            ],
            "type": "histogram2dcontour"
           }
          ],
          "mesh3d": [
           {
            "colorbar": {
             "outlinewidth": 0,
             "ticks": ""
            },
            "type": "mesh3d"
           }
          ],
          "parcoords": [
           {
            "line": {
             "colorbar": {
              "outlinewidth": 0,
              "ticks": ""
             }
            },
            "type": "parcoords"
           }
          ],
          "pie": [
           {
            "automargin": true,
            "type": "pie"
           }
          ],
          "scatter": [
           {
            "fillpattern": {
             "fillmode": "overlay",
             "size": 10,
             "solidity": 0.2
            },
            "type": "scatter"
           }
          ],
          "scatter3d": [
           {
            "line": {
             "colorbar": {
              "outlinewidth": 0,
              "ticks": ""
             }
            },
            "marker": {
             "colorbar": {
              "outlinewidth": 0,
              "ticks": ""
             }
            },
            "type": "scatter3d"
           }
          ],
          "scattercarpet": [
           {
            "marker": {
             "colorbar": {
              "outlinewidth": 0,
              "ticks": ""
             }
            },
            "type": "scattercarpet"
           }
          ],
          "scattergeo": [
           {
            "marker": {
             "colorbar": {
              "outlinewidth": 0,
              "ticks": ""
             }
            },
            "type": "scattergeo"
           }
          ],
          "scattergl": [
           {
            "marker": {
             "colorbar": {
              "outlinewidth": 0,
              "ticks": ""
             }
            },
            "type": "scattergl"
           }
          ],
          "scattermap": [
           {
            "marker": {
             "colorbar": {
              "outlinewidth": 0,
              "ticks": ""
             }
            },
            "type": "scattermap"
           }
          ],
          "scattermapbox": [
           {
            "marker": {
             "colorbar": {
              "outlinewidth": 0,
              "ticks": ""
             }
            },
            "type": "scattermapbox"
           }
          ],
          "scatterpolar": [
           {
            "marker": {
             "colorbar": {
              "outlinewidth": 0,
              "ticks": ""
             }
            },
            "type": "scatterpolar"
           }
          ],
          "scatterpolargl": [
           {
            "marker": {
             "colorbar": {
              "outlinewidth": 0,
              "ticks": ""
             }
            },
            "type": "scatterpolargl"
           }
          ],
          "scatterternary": [
           {
            "marker": {
             "colorbar": {
              "outlinewidth": 0,
              "ticks": ""
             }
            },
            "type": "scatterternary"
           }
          ],
          "surface": [
           {
            "colorbar": {
             "outlinewidth": 0,
             "ticks": ""
            },
            "colorscale": [
             [
              0,
              "#0d0887"
             ],
             [
              0.1111111111111111,
              "#46039f"
             ],
             [
              0.2222222222222222,
              "#7201a8"
             ],
             [
              0.3333333333333333,
              "#9c179e"
             ],
             [
              0.4444444444444444,
              "#bd3786"
             ],
             [
              0.5555555555555556,
              "#d8576b"
             ],
             [
              0.6666666666666666,
              "#ed7953"
             ],
             [
              0.7777777777777778,
              "#fb9f3a"
             ],
             [
              0.8888888888888888,
              "#fdca26"
             ],
             [
              1,
              "#f0f921"
             ]
            ],
            "type": "surface"
           }
          ],
          "table": [
           {
            "cells": {
             "fill": {
              "color": "#EBF0F8"
             },
             "line": {
              "color": "white"
             }
            },
            "header": {
             "fill": {
              "color": "#C8D4E3"
             },
             "line": {
              "color": "white"
             }
            },
            "type": "table"
           }
          ]
         },
         "layout": {
          "annotationdefaults": {
           "arrowcolor": "#2a3f5f",
           "arrowhead": 0,
           "arrowwidth": 1
          },
          "autotypenumbers": "strict",
          "coloraxis": {
           "colorbar": {
            "outlinewidth": 0,
            "ticks": ""
           }
          },
          "colorscale": {
           "diverging": [
            [
             0,
             "#8e0152"
            ],
            [
             0.1,
             "#c51b7d"
            ],
            [
             0.2,
             "#de77ae"
            ],
            [
             0.3,
             "#f1b6da"
            ],
            [
             0.4,
             "#fde0ef"
            ],
            [
             0.5,
             "#f7f7f7"
            ],
            [
             0.6,
             "#e6f5d0"
            ],
            [
             0.7,
             "#b8e186"
            ],
            [
             0.8,
             "#7fbc41"
            ],
            [
             0.9,
             "#4d9221"
            ],
            [
             1,
             "#276419"
            ]
           ],
           "sequential": [
            [
             0,
             "#0d0887"
            ],
            [
             0.1111111111111111,
             "#46039f"
            ],
            [
             0.2222222222222222,
             "#7201a8"
            ],
            [
             0.3333333333333333,
             "#9c179e"
            ],
            [
             0.4444444444444444,
             "#bd3786"
            ],
            [
             0.5555555555555556,
             "#d8576b"
            ],
            [
             0.6666666666666666,
             "#ed7953"
            ],
            [
             0.7777777777777778,
             "#fb9f3a"
            ],
            [
             0.8888888888888888,
             "#fdca26"
            ],
            [
             1,
             "#f0f921"
            ]
           ],
           "sequentialminus": [
            [
             0,
             "#0d0887"
            ],
            [
             0.1111111111111111,
             "#46039f"
            ],
            [
             0.2222222222222222,
             "#7201a8"
            ],
            [
             0.3333333333333333,
             "#9c179e"
            ],
            [
             0.4444444444444444,
             "#bd3786"
            ],
            [
             0.5555555555555556,
             "#d8576b"
            ],
            [
             0.6666666666666666,
             "#ed7953"
            ],
            [
             0.7777777777777778,
             "#fb9f3a"
            ],
            [
             0.8888888888888888,
             "#fdca26"
            ],
            [
             1,
             "#f0f921"
            ]
           ]
          },
          "colorway": [
           "#636efa",
           "#EF553B",
           "#00cc96",
           "#ab63fa",
           "#FFA15A",
           "#19d3f3",
           "#FF6692",
           "#B6E880",
           "#FF97FF",
           "#FECB52"
          ],
          "font": {
           "color": "#2a3f5f"
          },
          "geo": {
           "bgcolor": "white",
           "lakecolor": "white",
           "landcolor": "#E5ECF6",
           "showlakes": true,
           "showland": true,
           "subunitcolor": "white"
          },
          "hoverlabel": {
           "align": "left"
          },
          "hovermode": "closest",
          "mapbox": {
           "style": "light"
          },
          "paper_bgcolor": "white",
          "plot_bgcolor": "#E5ECF6",
          "polar": {
           "angularaxis": {
            "gridcolor": "white",
            "linecolor": "white",
            "ticks": ""
           },
           "bgcolor": "#E5ECF6",
           "radialaxis": {
            "gridcolor": "white",
            "linecolor": "white",
            "ticks": ""
           }
          },
          "scene": {
           "xaxis": {
            "backgroundcolor": "#E5ECF6",
            "gridcolor": "white",
            "gridwidth": 2,
            "linecolor": "white",
            "showbackground": true,
            "ticks": "",
            "zerolinecolor": "white"
           },
           "yaxis": {
            "backgroundcolor": "#E5ECF6",
            "gridcolor": "white",
            "gridwidth": 2,
            "linecolor": "white",
            "showbackground": true,
            "ticks": "",
            "zerolinecolor": "white"
           },
           "zaxis": {
            "backgroundcolor": "#E5ECF6",
            "gridcolor": "white",
            "gridwidth": 2,
            "linecolor": "white",
            "showbackground": true,
            "ticks": "",
            "zerolinecolor": "white"
           }
          },
          "shapedefaults": {
           "line": {
            "color": "#2a3f5f"
           }
          },
          "ternary": {
           "aaxis": {
            "gridcolor": "white",
            "linecolor": "white",
            "ticks": ""
           },
           "baxis": {
            "gridcolor": "white",
            "linecolor": "white",
            "ticks": ""
           },
           "bgcolor": "#E5ECF6",
           "caxis": {
            "gridcolor": "white",
            "linecolor": "white",
            "ticks": ""
           }
          },
          "title": {
           "x": 0.05
          },
          "xaxis": {
           "automargin": true,
           "gridcolor": "white",
           "linecolor": "white",
           "ticks": "",
           "title": {
            "standoff": 15
           },
           "zerolinecolor": "white",
           "zerolinewidth": 2
          },
          "yaxis": {
           "automargin": true,
           "gridcolor": "white",
           "linecolor": "white",
           "ticks": "",
           "title": {
            "standoff": 15
           },
           "zerolinecolor": "white",
           "zerolinewidth": 2
          }
         }
        },
        "title": {
         "text": "每日总体情感比率与黄金价格走势对比"
        },
        "xaxis": {
         "anchor": "y",
         "domain": [
          0,
          1
         ],
         "matches": "x2",
         "showticklabels": false
        },
        "xaxis2": {
         "anchor": "y2",
         "domain": [
          0,
          1
         ],
         "title": {
          "text": "日期"
         }
        },
        "yaxis": {
         "anchor": "x",
         "domain": [
          0.625,
          1
         ],
         "range": [
          -1,
          1
         ],
         "title": {
          "text": "情感比率 (-1 to 1)"
         }
        },
        "yaxis2": {
         "anchor": "x2",
         "domain": [
          0,
          0.375
         ],
         "title": {
          "text": "黄金价格"
         }
        }
       }
      }
     },
     "metadata": {},
     "output_type": "display_data"
    }
   ],
   "source": [
    "# --- 4. 可视化对比情感与价格走势 ---\n",
    "fig_sent_price = make_subplots(rows=2, cols=1, shared_xaxes=True,\n",
    "                            subplot_titles=(\"每日聚合情感比率 (Overall)\", \"黄金价格 (收盘价)\"))\n",
    "\n",
    "fig_sent_price.add_trace(go.Scatter(x=merged_data.index, y=merged_data['Sent_Ratio_overall'], name='Sentiment Ratio'), row=1, col=1)\n",
    "fig_sent_price.add_hline(y=0, line_width=1, line_dash=\"dash\", line_color=\"grey\", row=1, col=1)\n",
    "\n",
    "fig_sent_price.add_trace(go.Scatter(x=merged_data.index, y=merged_data['Gold_Price'], name='Gold Price'), row=2, col=1)\n",
    "\n",
    "fig_sent_price.update_layout(title_text=\"每日总体情感比率与黄金价格走势对比\", height=600)\n",
    "fig_sent_price.update_yaxes(title_text=\"情感比率 (-1 to 1)\", range=[-1, 1], row=1, col=1)\n",
    "fig_sent_price.update_yaxes(title_text=\"黄金价格\", row=2, col=1)\n",
    "fig_sent_price.update_xaxes(title_text=\"日期\", row=2, col=1)\n",
    "fig_sent_price.show()\n",
    "# fig_sent_price.write_image(\"sentiment_vs_gold_price.png\")\n",
    "\n"
   ]
  },
  {
   "cell_type": "markdown",
   "metadata": {},
   "source": [
    "## 格兰杰因果检验 (Granger Causality)的理论依据\n",
    "在时间序列分析中,因果关系是指一个时间序列的变化能够对另一个时间序列的变化产生影响。格兰杰因果关系检验由 2003 年诺贝尔经济学奖得主 Granger  所提出,是一种用于检验**两个时间序列之间是否存在因果关系的假设检验统计方法**。其基本思想是,如果在包含 $X$ 和 $Y$ 的过去信息的情况下,对 $Y$ 的预测效果  要优于只单独使用 $Y$ 的过去信息预测 $Y$,即 $X$ 能够有效帮助解释 $Y$ 的未来变化,  那么可以认为 $X$ 是引致 $Y$ 的格兰杰因(Granger-cause)。"
   ]
  },
  {
   "cell_type": "code",
   "execution_count": 92,
   "metadata": {},
   "outputs": [
    {
     "name": "stdout",
     "output_type": "stream",
     "text": [
      "\n",
      "Granger Causality\n",
      "number of lags (no zero) 1\n",
      "ssr based F test:         F=1.0110  , p=0.3162  , df_denom=154, df_num=1\n",
      "ssr based chi2 test:   chi2=1.0307  , p=0.3100  , df=1\n",
      "likelihood ratio test: chi2=1.0273  , p=0.3108  , df=1\n",
      "parameter F test:         F=1.0110  , p=0.3162  , df_denom=154, df_num=1\n",
      "\n",
      "Granger Causality\n",
      "number of lags (no zero) 2\n",
      "ssr based F test:         F=0.5931  , p=0.5539  , df_denom=151, df_num=2\n",
      "ssr based chi2 test:   chi2=1.2256  , p=0.5418  , df=2\n",
      "likelihood ratio test: chi2=1.2208  , p=0.5431  , df=2\n",
      "parameter F test:         F=0.5931  , p=0.5539  , df_denom=151, df_num=2\n",
      "\n",
      "Granger Causality\n",
      "number of lags (no zero) 3\n",
      "ssr based F test:         F=2.0075  , p=0.1154  , df_denom=148, df_num=3\n",
      "ssr based chi2 test:   chi2=6.3074  , p=0.0976  , df=3\n",
      "likelihood ratio test: chi2=6.1825  , p=0.1031  , df=3\n",
      "parameter F test:         F=2.0075  , p=0.1154  , df_denom=148, df_num=3\n",
      "\n",
      "Granger Causality\n",
      "number of lags (no zero) 4\n",
      "ssr based F test:         F=1.5787  , p=0.1831  , df_denom=145, df_num=4\n",
      "ssr based chi2 test:   chi2=6.7070  , p=0.1522  , df=4\n",
      "likelihood ratio test: chi2=6.5650  , p=0.1607  , df=4\n",
      "parameter F test:         F=1.5787  , p=0.1831  , df_denom=145, df_num=4\n",
      "\n",
      "格兰杰因果检验 (情绪 -> 价格):\n",
      "{1: ({'ssr_ftest': (1.010987708195152, 0.3162435775845359, 154.0, 1), 'ssr_chi2test': (1.0306822739392134, 0.3099984750130117, 1), 'lrtest': (1.0273138679997373, 0.3107903988481513, 1), 'params_ftest': (1.0109877081951257, 0.31624357758454114, 154.0, 1.0)}, [<statsmodels.regression.linear_model.RegressionResultsWrapper object at 0x000001DA5A5C1580>, <statsmodels.regression.linear_model.RegressionResultsWrapper object at 0x000001DA5B3B9C10>, array([[0., 1., 0.]])]), 2: ({'ssr_ftest': (0.5931427941122417, 0.5538701519105248, 151.0, 2), 'ssr_chi2test': (1.225566567967016, 0.5418406719318555, 2), 'lrtest': (1.2207774886915104, 0.5431396855472466, 2), 'params_ftest': (0.5931427941122469, 0.5538701519105154, 151.0, 2.0)}, [<statsmodels.regression.linear_model.RegressionResultsWrapper object at 0x000001DA5B3BB980>, <statsmodels.regression.linear_model.RegressionResultsWrapper object at 0x000001DA5B3BACF0>, array([[0., 0., 1., 0., 0.],\n",
      "       [0., 0., 0., 1., 0.]])]), 3: ({'ssr_ftest': (2.007524078956757, 0.11541306127638645, 148.0, 3), 'ssr_chi2test': (6.307423626451973, 0.09757460601458486, 3), 'lrtest': (6.1824680856925625, 0.10306247027902297, 3), 'params_ftest': (2.007524078956753, 0.11541306127638858, 148.0, 3.0)}, [<statsmodels.regression.linear_model.RegressionResultsWrapper object at 0x000001DA5B3BA240>, <statsmodels.regression.linear_model.RegressionResultsWrapper object at 0x000001DA5C348200>, array([[0., 0., 0., 1., 0., 0., 0.],\n",
      "       [0., 0., 0., 0., 1., 0., 0.],\n",
      "       [0., 0., 0., 0., 0., 1., 0.]])]), 4: ({'ssr_ftest': (1.5787492818765587, 0.18305473116381385, 145.0, 4), 'ssr_chi2test': (6.706962466454898, 0.15220828125562805, 4), 'lrtest': (6.565019269421555, 0.16073946835122607, 4), 'params_ftest': (1.578749281876561, 0.18305473116381385, 145.0, 4.0)}, [<statsmodels.regression.linear_model.RegressionResultsWrapper object at 0x000001DA5C47CF20>, <statsmodels.regression.linear_model.RegressionResultsWrapper object at 0x000001DA5C47FA70>, array([[0., 0., 0., 0., 1., 0., 0., 0., 0.],\n",
      "       [0., 0., 0., 0., 0., 1., 0., 0., 0.],\n",
      "       [0., 0., 0., 0., 0., 0., 1., 0., 0.],\n",
      "       [0., 0., 0., 0., 0., 0., 0., 1., 0.]])])}\n"
     ]
    }
   ],
   "source": [
    "# (高级) 考虑格兰杰因果检验 (Granger Causality)\n",
    "# 查看情绪指标是否能预测价格变化（或反之）\n",
    "from statsmodels.tsa.stattools import grangercausalitytests\n",
    "# 需要数据平稳，可能需要差分\n",
    "data_for_granger = merged_data[['Gold_Price', 'Sent_Ratio_overall']].dropna()\n",
    "# 差分示例\n",
    "data_diff = data_for_granger.diff().dropna()\n",
    "try:\n",
    "    gc_res = grangercausalitytests(data_diff[['Gold_Price', 'Sent_Ratio_overall']], maxlag=4) # 测试情绪是否格兰杰引起价格\n",
    "    print(\"\\n格兰杰因果检验 (情绪 -> 价格):\")\n",
    "    # 解析结果比较复杂，通常看p值\n",
    "    print(gc_res)\n",
    "except Exception as gc_e:\n",
    "     print(f\"格兰杰因果检验失败: {gc_e}\")"
   ]
  }
 ],
 "metadata": {
  "kernelspec": {
   "display_name": "ai4beg",
   "language": "python",
   "name": "python3"
  },
  "language_info": {
   "codemirror_mode": {
    "name": "ipython",
    "version": 3
   },
   "file_extension": ".py",
   "mimetype": "text/x-python",
   "name": "python",
   "nbconvert_exporter": "python",
   "pygments_lexer": "ipython3",
   "version": "3.12.10"
  }
 },
 "nbformat": 4,
 "nbformat_minor": 2
}
